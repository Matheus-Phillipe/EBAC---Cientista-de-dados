{
  "metadata": {
    "kernelspec": {
      "display_name": "Python 3",
      "language": "python",
      "name": "python3"
    },
    "language_info": {
      "name": "python",
      "version": "3.10.13",
      "mimetype": "text/x-python",
      "codemirror_mode": {
        "name": "ipython",
        "version": 3
      },
      "pygments_lexer": "ipython3",
      "nbconvert_exporter": "python",
      "file_extension": ".py"
    },
    "kaggle": {
      "accelerator": "none",
      "dataSources": [
        {
          "sourceId": 8336746,
          "sourceType": "datasetVersion",
          "datasetId": 4951161
        }
      ],
      "dockerImageVersionId": 30698,
      "isInternetEnabled": true,
      "language": "python",
      "sourceType": "notebook",
      "isGpuEnabled": false
    },
    "colab": {
      "provenance": []
    }
  },
  "nbformat_minor": 0,
  "nbformat": 4,
  "cells": [
    {
      "cell_type": "markdown",
      "source": [
        "# Módulo 5 Tarefa 1\n",
        "## Base de nascidos vivos do DataSUS\n",
        "O DataSUS disponibiliza diversos arquivos de dados com relação a seus segurados, conforme a [lei da transparência de informações públicas](https://www.sisgov.com/transparencia-acesso-informacao/#:~:text=A%20Lei%20da%20Transpar%C3%AAncia%20(LC,em%20um%20site%20na%20internet.).\n",
        "\n",
        "Essas informações podem ser obtidas pela internet [aqui](http://www2.datasus.gov.br/DATASUS/index.php?area=0901&item=1). Como o processo de obtenção desses arquivos foge um pouco do nosso escopo, deixamos o arquivo SINASC_RO_2019.csv` já como vai ser encontrado no DataSUS. O dicionário de dados está no arquivo `estrutura_sinasc_para_CD.pdf` (o nome do arquivo tal qual no portal do DataSUS).\n",
        "\n",
        "### Nosso objetivo\n",
        "Queremos deixar uma base organizada para podermos estudar a relação entre partos com risco para o bebê e algumas condições como tempo de parto, consultas de pré-natal etc.\n",
        "\n",
        "#### Preparação da base\n",
        "1. Carregue a base 'SINASC_RO_2019.csv'. Conte o número de registros e o número de registros não duplicados da base. Dica: você aprendeu um método que remove duplicados, encadeie este método com um outro método que conta o número de linhas. **Há linhas duplicadas?**  \n",
        "\n",
        "2. Conte o número de valores *missing* por variável.  \n",
        "\n",
        "3. Ok, no item anterior você deve ter achado pouco prático ler a informação de tantas variáveis, muitas delas nem devem ser interesantes. Então crie uma seleção dessa base somente com as colunas que interessam. São elas:\n",
        "`\n",
        "['LOCNASC', 'IDADEMAE', 'ESTCIVMAE', 'ESCMAE', 'QTDFILVIVO',\n",
        "    'GESTACAO', 'GRAVIDEZ', 'CONSULTAS', 'APGAR5']\n",
        "`\n",
        "Refaça a contagem de valores *missings*.  \n",
        "\n",
        "4. Apgar é uma *nota* que o pediatra dá ao bebê quando nasce de acordo com algumas características associadas principalmente à respiração. Apgar 1 e Apgar 5 são as notas 1 e 5 minutos do nascimento. Apgar5 será a nossa variável de interesse principal. Então remova todos os registros com Apgar5 não preenchido. Para esta seleção, conte novamente o número de linhas e o número de *missings*.  \n",
        "\n",
        "5. observe que as variáveis `['ESTCIVMAE', 'CONSULTAS']` possuem o código `9`, que significa *ignorado*. Vamos assumir que o não preenchido é o mesmo que o código `9`.<br>\n",
        "6. Substitua os valores faltantes da quantitativa (`QTDFILVIVO`) por zero.  \n",
        "7. Das restantes, decida que valore te parece mais adequado (um 'não preenchido' ou um valor 'mais provável' como no item anterior) e preencha. Justifique. Lembre-se de que tratamento de dados é trabalho do cientista, e que estamos tomando decisões a todo o momento - não há necessariamente certo e errado aqui.  \n",
        "8. O Apgar possui uma classificação indicando se o bebê passou por asfixia:\n",
        "- Entre 8 e 10 está em uma faixa 'normal'.\n",
        "- Entre 6 e 7, significa que o recém-nascido passou por 'asfixia leve'.\n",
        "- Entre 4 e 5 significa 'asfixia moderada'.\n",
        "- Entre 0 e 3 significa 'asfixia severa'.  \n",
        "\n",
        "Crie uma categorização dessa variável com essa codificação e calcule as frequências dessa categorização.  \n",
        "<br>\n",
        "9. Renomeie as variáveis para que fiquem no *snake case*, ou seja, em letras minúsculas, com um *underscore* entre as palávras. Dica: repare que se você não quiser criar um *dataframe* novo, você vai precisar usar a opção `inplace = True`."
      ],
      "metadata": {
        "id": "q4yB59euI661"
      }
    },
    {
      "cell_type": "code",
      "source": [
        "import pandas as pd\n",
        "import requests\n",
        "\n",
        "# 1) Há linhas duplicadas?\n",
        "df = pd.read_csv('/content/SINASC_RO_2019.csv')\n",
        "print(df.shape)\n",
        "df.drop_duplicates().shape\n",
        "# Não há duplicados"
      ],
      "metadata": {
        "execution": {
          "iopub.status.busy": "2024-05-07T12:38:28.424094Z",
          "iopub.execute_input": "2024-05-07T12:38:28.425159Z",
          "iopub.status.idle": "2024-05-07T12:38:30.490696Z",
          "shell.execute_reply.started": "2024-05-07T12:38:28.425111Z",
          "shell.execute_reply": "2024-05-07T12:38:30.489305Z"
        },
        "trusted": true,
        "colab": {
          "base_uri": "https://localhost:8080/"
        },
        "id": "FhtTl6yaI662",
        "outputId": "64488988-cfbc-4ad5-f9f9-c3299e98b0be"
      },
      "execution_count": 2,
      "outputs": [
        {
          "output_type": "stream",
          "name": "stdout",
          "text": [
            "(27028, 69)\n"
          ]
        },
        {
          "output_type": "execute_result",
          "data": {
            "text/plain": [
              "(27028, 69)"
            ]
          },
          "metadata": {},
          "execution_count": 2
        }
      ]
    },
    {
      "cell_type": "code",
      "source": [
        "# 2) Conte o número de valores missing por variável.\n",
        "df.isna().sum()"
      ],
      "metadata": {
        "execution": {
          "iopub.status.busy": "2024-05-07T12:38:45.583575Z",
          "iopub.execute_input": "2024-05-07T12:38:45.583965Z",
          "iopub.status.idle": "2024-05-07T12:38:45.643993Z",
          "shell.execute_reply.started": "2024-05-07T12:38:45.583929Z",
          "shell.execute_reply": "2024-05-07T12:38:45.642532Z"
        },
        "trusted": true,
        "colab": {
          "base_uri": "https://localhost:8080/"
        },
        "id": "KzednQzsI663",
        "outputId": "0829d104-a538-42cf-888f-5340e90a5938"
      },
      "execution_count": 3,
      "outputs": [
        {
          "output_type": "execute_result",
          "data": {
            "text/plain": [
              "ORIGEM          0\n",
              "CODESTAB      115\n",
              "CODMUNNASC      0\n",
              "LOCNASC         0\n",
              "IDADEMAE        0\n",
              "             ... \n",
              "munResUf        0\n",
              "munResLat       1\n",
              "munResLon       1\n",
              "munResAlt       1\n",
              "munResArea      1\n",
              "Length: 69, dtype: int64"
            ]
          },
          "metadata": {},
          "execution_count": 3
        }
      ]
    },
    {
      "cell_type": "code",
      "source": [
        "# 3) Ok, no item anterior você deve ter achado pouco prático ler a informação de tantas variáveis, muitas delas nem devem ser interesantes.\n",
        "#    Então crie uma seleção dessa base somente com as colunas que interessam.\n",
        "\n",
        "dados_sel = df[['LOCNASC', 'IDADEMAE', 'ESTCIVMAE', 'ESCMAE', 'QTDFILVIVO',\n",
        "    'GESTACAO', 'GRAVIDEZ', 'CONSULTAS', 'APGAR5']]\n",
        "\n",
        "dados_sel.isna().sum().sort_values(ascending = False)"
      ],
      "metadata": {
        "execution": {
          "iopub.status.busy": "2024-05-07T12:39:35.111634Z",
          "iopub.execute_input": "2024-05-07T12:39:35.112039Z",
          "iopub.status.idle": "2024-05-07T12:39:35.142023Z",
          "shell.execute_reply.started": "2024-05-07T12:39:35.112006Z",
          "shell.execute_reply": "2024-05-07T12:39:35.140836Z"
        },
        "trusted": true,
        "colab": {
          "base_uri": "https://localhost:8080/"
        },
        "id": "3fXeEPrNI663",
        "outputId": "c48ba778-407e-4328-a77f-521e3a070546"
      },
      "execution_count": 4,
      "outputs": [
        {
          "output_type": "execute_result",
          "data": {
            "text/plain": [
              "QTDFILVIVO    1573\n",
              "GESTACAO      1232\n",
              "ESTCIVMAE      317\n",
              "ESCMAE         312\n",
              "APGAR5         103\n",
              "GRAVIDEZ        79\n",
              "LOCNASC          0\n",
              "IDADEMAE         0\n",
              "CONSULTAS        0\n",
              "dtype: int64"
            ]
          },
          "metadata": {},
          "execution_count": 4
        }
      ]
    },
    {
      "cell_type": "code",
      "source": [
        "dados_sel"
      ],
      "metadata": {
        "colab": {
          "base_uri": "https://localhost:8080/",
          "height": 424
        },
        "id": "exiCV5QEJmfu",
        "outputId": "36aaaafb-3ed2-40af-a113-8f94758ddb0b"
      },
      "execution_count": 5,
      "outputs": [
        {
          "output_type": "execute_result",
          "data": {
            "text/plain": [
              "       LOCNASC  IDADEMAE  ESTCIVMAE           ESCMAE  QTDFILVIVO  \\\n",
              "0            1        19        5.0      8 a 11 anos         0.0   \n",
              "1            1        29        2.0      8 a 11 anos         1.0   \n",
              "2            1        37        9.0      8 a 11 anos         2.0   \n",
              "3            1        30        5.0  12 anos ou mais         0.0   \n",
              "4            1        30        2.0      8 a 11 anos         1.0   \n",
              "...        ...       ...        ...              ...         ...   \n",
              "27023        1        32        2.0  12 anos ou mais         1.0   \n",
              "27024        1        19        1.0      8 a 11 anos         0.0   \n",
              "27025        1        24        2.0      8 a 11 anos         0.0   \n",
              "27026        1        21        2.0      8 a 11 anos         1.0   \n",
              "27027        1        18        5.0      8 a 11 anos         1.0   \n",
              "\n",
              "              GESTACAO GRAVIDEZ  CONSULTAS  APGAR5  \n",
              "0      37 a 41 semanas    Única          4    10.0  \n",
              "1      37 a 41 semanas    Única          4     9.0  \n",
              "2      37 a 41 semanas    Única          4    10.0  \n",
              "3      37 a 41 semanas    Única          3    10.0  \n",
              "4      37 a 41 semanas    Única          4    10.0  \n",
              "...                ...      ...        ...     ...  \n",
              "27023  32 a 36 semanas    Única          4     9.0  \n",
              "27024  37 a 41 semanas    Única          4     9.0  \n",
              "27025  37 a 41 semanas    Única          4    10.0  \n",
              "27026  32 a 36 semanas    Única          4     9.0  \n",
              "27027  37 a 41 semanas    Única          4     8.0  \n",
              "\n",
              "[27028 rows x 9 columns]"
            ],
            "text/html": [
              "\n",
              "  <div id=\"df-fb2e06e9-986e-4ffe-bdee-5868264d2c00\" class=\"colab-df-container\">\n",
              "    <div>\n",
              "<style scoped>\n",
              "    .dataframe tbody tr th:only-of-type {\n",
              "        vertical-align: middle;\n",
              "    }\n",
              "\n",
              "    .dataframe tbody tr th {\n",
              "        vertical-align: top;\n",
              "    }\n",
              "\n",
              "    .dataframe thead th {\n",
              "        text-align: right;\n",
              "    }\n",
              "</style>\n",
              "<table border=\"1\" class=\"dataframe\">\n",
              "  <thead>\n",
              "    <tr style=\"text-align: right;\">\n",
              "      <th></th>\n",
              "      <th>LOCNASC</th>\n",
              "      <th>IDADEMAE</th>\n",
              "      <th>ESTCIVMAE</th>\n",
              "      <th>ESCMAE</th>\n",
              "      <th>QTDFILVIVO</th>\n",
              "      <th>GESTACAO</th>\n",
              "      <th>GRAVIDEZ</th>\n",
              "      <th>CONSULTAS</th>\n",
              "      <th>APGAR5</th>\n",
              "    </tr>\n",
              "  </thead>\n",
              "  <tbody>\n",
              "    <tr>\n",
              "      <th>0</th>\n",
              "      <td>1</td>\n",
              "      <td>19</td>\n",
              "      <td>5.0</td>\n",
              "      <td>8 a 11 anos</td>\n",
              "      <td>0.0</td>\n",
              "      <td>37 a 41 semanas</td>\n",
              "      <td>Única</td>\n",
              "      <td>4</td>\n",
              "      <td>10.0</td>\n",
              "    </tr>\n",
              "    <tr>\n",
              "      <th>1</th>\n",
              "      <td>1</td>\n",
              "      <td>29</td>\n",
              "      <td>2.0</td>\n",
              "      <td>8 a 11 anos</td>\n",
              "      <td>1.0</td>\n",
              "      <td>37 a 41 semanas</td>\n",
              "      <td>Única</td>\n",
              "      <td>4</td>\n",
              "      <td>9.0</td>\n",
              "    </tr>\n",
              "    <tr>\n",
              "      <th>2</th>\n",
              "      <td>1</td>\n",
              "      <td>37</td>\n",
              "      <td>9.0</td>\n",
              "      <td>8 a 11 anos</td>\n",
              "      <td>2.0</td>\n",
              "      <td>37 a 41 semanas</td>\n",
              "      <td>Única</td>\n",
              "      <td>4</td>\n",
              "      <td>10.0</td>\n",
              "    </tr>\n",
              "    <tr>\n",
              "      <th>3</th>\n",
              "      <td>1</td>\n",
              "      <td>30</td>\n",
              "      <td>5.0</td>\n",
              "      <td>12 anos ou mais</td>\n",
              "      <td>0.0</td>\n",
              "      <td>37 a 41 semanas</td>\n",
              "      <td>Única</td>\n",
              "      <td>3</td>\n",
              "      <td>10.0</td>\n",
              "    </tr>\n",
              "    <tr>\n",
              "      <th>4</th>\n",
              "      <td>1</td>\n",
              "      <td>30</td>\n",
              "      <td>2.0</td>\n",
              "      <td>8 a 11 anos</td>\n",
              "      <td>1.0</td>\n",
              "      <td>37 a 41 semanas</td>\n",
              "      <td>Única</td>\n",
              "      <td>4</td>\n",
              "      <td>10.0</td>\n",
              "    </tr>\n",
              "    <tr>\n",
              "      <th>...</th>\n",
              "      <td>...</td>\n",
              "      <td>...</td>\n",
              "      <td>...</td>\n",
              "      <td>...</td>\n",
              "      <td>...</td>\n",
              "      <td>...</td>\n",
              "      <td>...</td>\n",
              "      <td>...</td>\n",
              "      <td>...</td>\n",
              "    </tr>\n",
              "    <tr>\n",
              "      <th>27023</th>\n",
              "      <td>1</td>\n",
              "      <td>32</td>\n",
              "      <td>2.0</td>\n",
              "      <td>12 anos ou mais</td>\n",
              "      <td>1.0</td>\n",
              "      <td>32 a 36 semanas</td>\n",
              "      <td>Única</td>\n",
              "      <td>4</td>\n",
              "      <td>9.0</td>\n",
              "    </tr>\n",
              "    <tr>\n",
              "      <th>27024</th>\n",
              "      <td>1</td>\n",
              "      <td>19</td>\n",
              "      <td>1.0</td>\n",
              "      <td>8 a 11 anos</td>\n",
              "      <td>0.0</td>\n",
              "      <td>37 a 41 semanas</td>\n",
              "      <td>Única</td>\n",
              "      <td>4</td>\n",
              "      <td>9.0</td>\n",
              "    </tr>\n",
              "    <tr>\n",
              "      <th>27025</th>\n",
              "      <td>1</td>\n",
              "      <td>24</td>\n",
              "      <td>2.0</td>\n",
              "      <td>8 a 11 anos</td>\n",
              "      <td>0.0</td>\n",
              "      <td>37 a 41 semanas</td>\n",
              "      <td>Única</td>\n",
              "      <td>4</td>\n",
              "      <td>10.0</td>\n",
              "    </tr>\n",
              "    <tr>\n",
              "      <th>27026</th>\n",
              "      <td>1</td>\n",
              "      <td>21</td>\n",
              "      <td>2.0</td>\n",
              "      <td>8 a 11 anos</td>\n",
              "      <td>1.0</td>\n",
              "      <td>32 a 36 semanas</td>\n",
              "      <td>Única</td>\n",
              "      <td>4</td>\n",
              "      <td>9.0</td>\n",
              "    </tr>\n",
              "    <tr>\n",
              "      <th>27027</th>\n",
              "      <td>1</td>\n",
              "      <td>18</td>\n",
              "      <td>5.0</td>\n",
              "      <td>8 a 11 anos</td>\n",
              "      <td>1.0</td>\n",
              "      <td>37 a 41 semanas</td>\n",
              "      <td>Única</td>\n",
              "      <td>4</td>\n",
              "      <td>8.0</td>\n",
              "    </tr>\n",
              "  </tbody>\n",
              "</table>\n",
              "<p>27028 rows × 9 columns</p>\n",
              "</div>\n",
              "    <div class=\"colab-df-buttons\">\n",
              "\n",
              "  <div class=\"colab-df-container\">\n",
              "    <button class=\"colab-df-convert\" onclick=\"convertToInteractive('df-fb2e06e9-986e-4ffe-bdee-5868264d2c00')\"\n",
              "            title=\"Convert this dataframe to an interactive table.\"\n",
              "            style=\"display:none;\">\n",
              "\n",
              "  <svg xmlns=\"http://www.w3.org/2000/svg\" height=\"24px\" viewBox=\"0 -960 960 960\">\n",
              "    <path d=\"M120-120v-720h720v720H120Zm60-500h600v-160H180v160Zm220 220h160v-160H400v160Zm0 220h160v-160H400v160ZM180-400h160v-160H180v160Zm440 0h160v-160H620v160ZM180-180h160v-160H180v160Zm440 0h160v-160H620v160Z\"/>\n",
              "  </svg>\n",
              "    </button>\n",
              "\n",
              "  <style>\n",
              "    .colab-df-container {\n",
              "      display:flex;\n",
              "      gap: 12px;\n",
              "    }\n",
              "\n",
              "    .colab-df-convert {\n",
              "      background-color: #E8F0FE;\n",
              "      border: none;\n",
              "      border-radius: 50%;\n",
              "      cursor: pointer;\n",
              "      display: none;\n",
              "      fill: #1967D2;\n",
              "      height: 32px;\n",
              "      padding: 0 0 0 0;\n",
              "      width: 32px;\n",
              "    }\n",
              "\n",
              "    .colab-df-convert:hover {\n",
              "      background-color: #E2EBFA;\n",
              "      box-shadow: 0px 1px 2px rgba(60, 64, 67, 0.3), 0px 1px 3px 1px rgba(60, 64, 67, 0.15);\n",
              "      fill: #174EA6;\n",
              "    }\n",
              "\n",
              "    .colab-df-buttons div {\n",
              "      margin-bottom: 4px;\n",
              "    }\n",
              "\n",
              "    [theme=dark] .colab-df-convert {\n",
              "      background-color: #3B4455;\n",
              "      fill: #D2E3FC;\n",
              "    }\n",
              "\n",
              "    [theme=dark] .colab-df-convert:hover {\n",
              "      background-color: #434B5C;\n",
              "      box-shadow: 0px 1px 3px 1px rgba(0, 0, 0, 0.15);\n",
              "      filter: drop-shadow(0px 1px 2px rgba(0, 0, 0, 0.3));\n",
              "      fill: #FFFFFF;\n",
              "    }\n",
              "  </style>\n",
              "\n",
              "    <script>\n",
              "      const buttonEl =\n",
              "        document.querySelector('#df-fb2e06e9-986e-4ffe-bdee-5868264d2c00 button.colab-df-convert');\n",
              "      buttonEl.style.display =\n",
              "        google.colab.kernel.accessAllowed ? 'block' : 'none';\n",
              "\n",
              "      async function convertToInteractive(key) {\n",
              "        const element = document.querySelector('#df-fb2e06e9-986e-4ffe-bdee-5868264d2c00');\n",
              "        const dataTable =\n",
              "          await google.colab.kernel.invokeFunction('convertToInteractive',\n",
              "                                                    [key], {});\n",
              "        if (!dataTable) return;\n",
              "\n",
              "        const docLinkHtml = 'Like what you see? Visit the ' +\n",
              "          '<a target=\"_blank\" href=https://colab.research.google.com/notebooks/data_table.ipynb>data table notebook</a>'\n",
              "          + ' to learn more about interactive tables.';\n",
              "        element.innerHTML = '';\n",
              "        dataTable['output_type'] = 'display_data';\n",
              "        await google.colab.output.renderOutput(dataTable, element);\n",
              "        const docLink = document.createElement('div');\n",
              "        docLink.innerHTML = docLinkHtml;\n",
              "        element.appendChild(docLink);\n",
              "      }\n",
              "    </script>\n",
              "  </div>\n",
              "\n",
              "\n",
              "<div id=\"df-61f5a609-ce66-409d-b4d2-8b08bca7a490\">\n",
              "  <button class=\"colab-df-quickchart\" onclick=\"quickchart('df-61f5a609-ce66-409d-b4d2-8b08bca7a490')\"\n",
              "            title=\"Suggest charts\"\n",
              "            style=\"display:none;\">\n",
              "\n",
              "<svg xmlns=\"http://www.w3.org/2000/svg\" height=\"24px\"viewBox=\"0 0 24 24\"\n",
              "     width=\"24px\">\n",
              "    <g>\n",
              "        <path d=\"M19 3H5c-1.1 0-2 .9-2 2v14c0 1.1.9 2 2 2h14c1.1 0 2-.9 2-2V5c0-1.1-.9-2-2-2zM9 17H7v-7h2v7zm4 0h-2V7h2v10zm4 0h-2v-4h2v4z\"/>\n",
              "    </g>\n",
              "</svg>\n",
              "  </button>\n",
              "\n",
              "<style>\n",
              "  .colab-df-quickchart {\n",
              "      --bg-color: #E8F0FE;\n",
              "      --fill-color: #1967D2;\n",
              "      --hover-bg-color: #E2EBFA;\n",
              "      --hover-fill-color: #174EA6;\n",
              "      --disabled-fill-color: #AAA;\n",
              "      --disabled-bg-color: #DDD;\n",
              "  }\n",
              "\n",
              "  [theme=dark] .colab-df-quickchart {\n",
              "      --bg-color: #3B4455;\n",
              "      --fill-color: #D2E3FC;\n",
              "      --hover-bg-color: #434B5C;\n",
              "      --hover-fill-color: #FFFFFF;\n",
              "      --disabled-bg-color: #3B4455;\n",
              "      --disabled-fill-color: #666;\n",
              "  }\n",
              "\n",
              "  .colab-df-quickchart {\n",
              "    background-color: var(--bg-color);\n",
              "    border: none;\n",
              "    border-radius: 50%;\n",
              "    cursor: pointer;\n",
              "    display: none;\n",
              "    fill: var(--fill-color);\n",
              "    height: 32px;\n",
              "    padding: 0;\n",
              "    width: 32px;\n",
              "  }\n",
              "\n",
              "  .colab-df-quickchart:hover {\n",
              "    background-color: var(--hover-bg-color);\n",
              "    box-shadow: 0 1px 2px rgba(60, 64, 67, 0.3), 0 1px 3px 1px rgba(60, 64, 67, 0.15);\n",
              "    fill: var(--button-hover-fill-color);\n",
              "  }\n",
              "\n",
              "  .colab-df-quickchart-complete:disabled,\n",
              "  .colab-df-quickchart-complete:disabled:hover {\n",
              "    background-color: var(--disabled-bg-color);\n",
              "    fill: var(--disabled-fill-color);\n",
              "    box-shadow: none;\n",
              "  }\n",
              "\n",
              "  .colab-df-spinner {\n",
              "    border: 2px solid var(--fill-color);\n",
              "    border-color: transparent;\n",
              "    border-bottom-color: var(--fill-color);\n",
              "    animation:\n",
              "      spin 1s steps(1) infinite;\n",
              "  }\n",
              "\n",
              "  @keyframes spin {\n",
              "    0% {\n",
              "      border-color: transparent;\n",
              "      border-bottom-color: var(--fill-color);\n",
              "      border-left-color: var(--fill-color);\n",
              "    }\n",
              "    20% {\n",
              "      border-color: transparent;\n",
              "      border-left-color: var(--fill-color);\n",
              "      border-top-color: var(--fill-color);\n",
              "    }\n",
              "    30% {\n",
              "      border-color: transparent;\n",
              "      border-left-color: var(--fill-color);\n",
              "      border-top-color: var(--fill-color);\n",
              "      border-right-color: var(--fill-color);\n",
              "    }\n",
              "    40% {\n",
              "      border-color: transparent;\n",
              "      border-right-color: var(--fill-color);\n",
              "      border-top-color: var(--fill-color);\n",
              "    }\n",
              "    60% {\n",
              "      border-color: transparent;\n",
              "      border-right-color: var(--fill-color);\n",
              "    }\n",
              "    80% {\n",
              "      border-color: transparent;\n",
              "      border-right-color: var(--fill-color);\n",
              "      border-bottom-color: var(--fill-color);\n",
              "    }\n",
              "    90% {\n",
              "      border-color: transparent;\n",
              "      border-bottom-color: var(--fill-color);\n",
              "    }\n",
              "  }\n",
              "</style>\n",
              "\n",
              "  <script>\n",
              "    async function quickchart(key) {\n",
              "      const quickchartButtonEl =\n",
              "        document.querySelector('#' + key + ' button');\n",
              "      quickchartButtonEl.disabled = true;  // To prevent multiple clicks.\n",
              "      quickchartButtonEl.classList.add('colab-df-spinner');\n",
              "      try {\n",
              "        const charts = await google.colab.kernel.invokeFunction(\n",
              "            'suggestCharts', [key], {});\n",
              "      } catch (error) {\n",
              "        console.error('Error during call to suggestCharts:', error);\n",
              "      }\n",
              "      quickchartButtonEl.classList.remove('colab-df-spinner');\n",
              "      quickchartButtonEl.classList.add('colab-df-quickchart-complete');\n",
              "    }\n",
              "    (() => {\n",
              "      let quickchartButtonEl =\n",
              "        document.querySelector('#df-61f5a609-ce66-409d-b4d2-8b08bca7a490 button');\n",
              "      quickchartButtonEl.style.display =\n",
              "        google.colab.kernel.accessAllowed ? 'block' : 'none';\n",
              "    })();\n",
              "  </script>\n",
              "</div>\n",
              "\n",
              "  <div id=\"id_b383763c-e394-449c-ba6b-aaace091614c\">\n",
              "    <style>\n",
              "      .colab-df-generate {\n",
              "        background-color: #E8F0FE;\n",
              "        border: none;\n",
              "        border-radius: 50%;\n",
              "        cursor: pointer;\n",
              "        display: none;\n",
              "        fill: #1967D2;\n",
              "        height: 32px;\n",
              "        padding: 0 0 0 0;\n",
              "        width: 32px;\n",
              "      }\n",
              "\n",
              "      .colab-df-generate:hover {\n",
              "        background-color: #E2EBFA;\n",
              "        box-shadow: 0px 1px 2px rgba(60, 64, 67, 0.3), 0px 1px 3px 1px rgba(60, 64, 67, 0.15);\n",
              "        fill: #174EA6;\n",
              "      }\n",
              "\n",
              "      [theme=dark] .colab-df-generate {\n",
              "        background-color: #3B4455;\n",
              "        fill: #D2E3FC;\n",
              "      }\n",
              "\n",
              "      [theme=dark] .colab-df-generate:hover {\n",
              "        background-color: #434B5C;\n",
              "        box-shadow: 0px 1px 3px 1px rgba(0, 0, 0, 0.15);\n",
              "        filter: drop-shadow(0px 1px 2px rgba(0, 0, 0, 0.3));\n",
              "        fill: #FFFFFF;\n",
              "      }\n",
              "    </style>\n",
              "    <button class=\"colab-df-generate\" onclick=\"generateWithVariable('dados_sel')\"\n",
              "            title=\"Generate code using this dataframe.\"\n",
              "            style=\"display:none;\">\n",
              "\n",
              "  <svg xmlns=\"http://www.w3.org/2000/svg\" height=\"24px\"viewBox=\"0 0 24 24\"\n",
              "       width=\"24px\">\n",
              "    <path d=\"M7,19H8.4L18.45,9,17,7.55,7,17.6ZM5,21V16.75L18.45,3.32a2,2,0,0,1,2.83,0l1.4,1.43a1.91,1.91,0,0,1,.58,1.4,1.91,1.91,0,0,1-.58,1.4L9.25,21ZM18.45,9,17,7.55Zm-12,3A5.31,5.31,0,0,0,4.9,8.1,5.31,5.31,0,0,0,1,6.5,5.31,5.31,0,0,0,4.9,4.9,5.31,5.31,0,0,0,6.5,1,5.31,5.31,0,0,0,8.1,4.9,5.31,5.31,0,0,0,12,6.5,5.46,5.46,0,0,0,6.5,12Z\"/>\n",
              "  </svg>\n",
              "    </button>\n",
              "    <script>\n",
              "      (() => {\n",
              "      const buttonEl =\n",
              "        document.querySelector('#id_b383763c-e394-449c-ba6b-aaace091614c button.colab-df-generate');\n",
              "      buttonEl.style.display =\n",
              "        google.colab.kernel.accessAllowed ? 'block' : 'none';\n",
              "\n",
              "      buttonEl.onclick = () => {\n",
              "        google.colab.notebook.generateWithVariable('dados_sel');\n",
              "      }\n",
              "      })();\n",
              "    </script>\n",
              "  </div>\n",
              "\n",
              "    </div>\n",
              "  </div>\n"
            ],
            "application/vnd.google.colaboratory.intrinsic+json": {
              "type": "dataframe",
              "variable_name": "dados_sel",
              "summary": "{\n  \"name\": \"dados_sel\",\n  \"rows\": 27028,\n  \"fields\": [\n    {\n      \"column\": \"LOCNASC\",\n      \"properties\": {\n        \"dtype\": \"number\",\n        \"std\": 0,\n        \"min\": 1,\n        \"max\": 4,\n        \"num_unique_values\": 4,\n        \"samples\": [\n          4,\n          3,\n          1\n        ],\n        \"semantic_type\": \"\",\n        \"description\": \"\"\n      }\n    },\n    {\n      \"column\": \"IDADEMAE\",\n      \"properties\": {\n        \"dtype\": \"number\",\n        \"std\": 6,\n        \"min\": 11,\n        \"max\": 53,\n        \"num_unique_values\": 40,\n        \"samples\": [\n          40,\n          28,\n          23\n        ],\n        \"semantic_type\": \"\",\n        \"description\": \"\"\n      }\n    },\n    {\n      \"column\": \"ESTCIVMAE\",\n      \"properties\": {\n        \"dtype\": \"number\",\n        \"std\": 1.6712479511504532,\n        \"min\": 1.0,\n        \"max\": 9.0,\n        \"num_unique_values\": 6,\n        \"samples\": [\n          5.0,\n          2.0,\n          3.0\n        ],\n        \"semantic_type\": \"\",\n        \"description\": \"\"\n      }\n    },\n    {\n      \"column\": \"ESCMAE\",\n      \"properties\": {\n        \"dtype\": \"category\",\n        \"num_unique_values\": 5,\n        \"samples\": [\n          \"12 anos ou mais\",\n          \"Nenhuma\",\n          \"1 a 3 anos\"\n        ],\n        \"semantic_type\": \"\",\n        \"description\": \"\"\n      }\n    },\n    {\n      \"column\": \"QTDFILVIVO\",\n      \"properties\": {\n        \"dtype\": \"number\",\n        \"std\": 1.170873882130775,\n        \"min\": 0.0,\n        \"max\": 30.0,\n        \"num_unique_values\": 15,\n        \"samples\": [\n          9.0,\n          8.0,\n          0.0\n        ],\n        \"semantic_type\": \"\",\n        \"description\": \"\"\n      }\n    },\n    {\n      \"column\": \"GESTACAO\",\n      \"properties\": {\n        \"dtype\": \"category\",\n        \"num_unique_values\": 6,\n        \"samples\": [\n          \"37 a 41 semanas\",\n          \"42 semanas e mais\",\n          \"Menos de 22 semanas\"\n        ],\n        \"semantic_type\": \"\",\n        \"description\": \"\"\n      }\n    },\n    {\n      \"column\": \"GRAVIDEZ\",\n      \"properties\": {\n        \"dtype\": \"category\",\n        \"num_unique_values\": 3,\n        \"samples\": [\n          \"\\u00danica\",\n          \"Dupla\",\n          \"Tr\\u00edplice e mais\"\n        ],\n        \"semantic_type\": \"\",\n        \"description\": \"\"\n      }\n    },\n    {\n      \"column\": \"CONSULTAS\",\n      \"properties\": {\n        \"dtype\": \"number\",\n        \"std\": 0,\n        \"min\": 1,\n        \"max\": 9,\n        \"num_unique_values\": 5,\n        \"samples\": [\n          3,\n          9,\n          2\n        ],\n        \"semantic_type\": \"\",\n        \"description\": \"\"\n      }\n    },\n    {\n      \"column\": \"APGAR5\",\n      \"properties\": {\n        \"dtype\": \"number\",\n        \"std\": 0.7905743761466812,\n        \"min\": 0.0,\n        \"max\": 10.0,\n        \"num_unique_values\": 11,\n        \"samples\": [\n          4.0,\n          10.0,\n          2.0\n        ],\n        \"semantic_type\": \"\",\n        \"description\": \"\"\n      }\n    }\n  ]\n}"
            }
          },
          "metadata": {},
          "execution_count": 5
        }
      ]
    },
    {
      "cell_type": "code",
      "source": [
        "# 4) Apgar é uma nota que o pediatra dá ao bebê quando nasce de acordo com algumas características associadas principalmente à respiração.\n",
        "#Apgar 1 e Apgar 5 são as notas 1 e 5 minutos do nascimento. Apgar5 será a nossa variável de interesse principal.\n",
        "#Então remova todos os registros com Apgar5 não preenchido. Para esta seleção, conte novamente o número de linhas e o número de missings.\n",
        "\n",
        "dados_sel['APGAR5'].shape #verificando quantidade de linhas do campo"
      ],
      "metadata": {
        "execution": {
          "iopub.status.busy": "2024-05-07T12:39:37.388836Z",
          "iopub.execute_input": "2024-05-07T12:39:37.389296Z",
          "iopub.status.idle": "2024-05-07T12:39:37.397516Z",
          "shell.execute_reply.started": "2024-05-07T12:39:37.389262Z",
          "shell.execute_reply": "2024-05-07T12:39:37.396291Z"
        },
        "trusted": true,
        "colab": {
          "base_uri": "https://localhost:8080/"
        },
        "id": "ofHDW76cI663",
        "outputId": "8827e0ef-f34f-4247-ae17-17774057db7e"
      },
      "execution_count": 6,
      "outputs": [
        {
          "output_type": "execute_result",
          "data": {
            "text/plain": [
              "(27028,)"
            ]
          },
          "metadata": {},
          "execution_count": 6
        }
      ]
    },
    {
      "cell_type": "code",
      "source": [
        "dados_sel['APGAR5'].isna().sum() #verificando os valores faltantes"
      ],
      "metadata": {
        "execution": {
          "iopub.status.busy": "2024-05-07T12:39:40.652858Z",
          "iopub.execute_input": "2024-05-07T12:39:40.653284Z",
          "iopub.status.idle": "2024-05-07T12:39:40.661521Z",
          "shell.execute_reply.started": "2024-05-07T12:39:40.653252Z",
          "shell.execute_reply": "2024-05-07T12:39:40.660173Z"
        },
        "trusted": true,
        "colab": {
          "base_uri": "https://localhost:8080/"
        },
        "id": "RVYMPNJXI664",
        "outputId": "b2055d70-6abf-48be-8908-70f3cb41b837"
      },
      "execution_count": 7,
      "outputs": [
        {
          "output_type": "execute_result",
          "data": {
            "text/plain": [
              "103"
            ]
          },
          "metadata": {},
          "execution_count": 7
        }
      ]
    },
    {
      "cell_type": "code",
      "source": [
        "dados_sel = dados_sel.dropna(subset = ['APGAR5']) #removendo os registros"
      ],
      "metadata": {
        "execution": {
          "iopub.status.busy": "2024-05-07T12:45:03.402491Z",
          "iopub.execute_input": "2024-05-07T12:45:03.402880Z",
          "iopub.status.idle": "2024-05-07T12:45:03.414509Z",
          "shell.execute_reply.started": "2024-05-07T12:45:03.402850Z",
          "shell.execute_reply": "2024-05-07T12:45:03.413013Z"
        },
        "trusted": true,
        "id": "kRkuxUCXI664"
      },
      "execution_count": 15,
      "outputs": []
    },
    {
      "cell_type": "code",
      "source": [
        "dados_sel['APGAR5'].isna().sum() #verificando se os registros foram removidos"
      ],
      "metadata": {
        "colab": {
          "base_uri": "https://localhost:8080/"
        },
        "id": "aIT5ixd0KuZz",
        "outputId": "3a2d6474-9963-425c-d880-ca68e5cab013"
      },
      "execution_count": 16,
      "outputs": [
        {
          "output_type": "execute_result",
          "data": {
            "text/plain": [
              "0"
            ]
          },
          "metadata": {},
          "execution_count": 16
        }
      ]
    },
    {
      "cell_type": "code",
      "source": [
        "# 5) Observe que as variáveis ['ESTCIVMAE', 'CONSULTAS'] possuem o código 9, que significa ignorado.\n",
        "#   Vamos assumir que o não preenchido é o mesmo que o código 9.\n",
        "\n",
        "dados_sel['ESTCIVMAE'].value_counts().sort_index()"
      ],
      "metadata": {
        "execution": {
          "iopub.status.busy": "2024-05-07T12:39:49.586416Z",
          "iopub.execute_input": "2024-05-07T12:39:49.586810Z",
          "iopub.status.idle": "2024-05-07T12:39:49.601399Z",
          "shell.execute_reply.started": "2024-05-07T12:39:49.586777Z",
          "shell.execute_reply": "2024-05-07T12:39:49.600175Z"
        },
        "trusted": true,
        "colab": {
          "base_uri": "https://localhost:8080/"
        },
        "id": "DLUD3lOxI664",
        "outputId": "8cf59e85-fbf7-4e1d-f629-adb41ed8a0ff"
      },
      "execution_count": 17,
      "outputs": [
        {
          "output_type": "execute_result",
          "data": {
            "text/plain": [
              "ESTCIVMAE\n",
              "1.0    8907\n",
              "2.0    9906\n",
              "3.0      57\n",
              "4.0     451\n",
              "5.0    7145\n",
              "9.0     144\n",
              "Name: count, dtype: int64"
            ]
          },
          "metadata": {},
          "execution_count": 17
        }
      ]
    },
    {
      "cell_type": "code",
      "source": [
        "dados_sel['CONSULTAS'].value_counts().sort_index()"
      ],
      "metadata": {
        "execution": {
          "iopub.status.busy": "2024-05-07T12:39:51.399741Z",
          "iopub.execute_input": "2024-05-07T12:39:51.400155Z",
          "iopub.status.idle": "2024-05-07T12:39:51.412461Z",
          "shell.execute_reply.started": "2024-05-07T12:39:51.400123Z",
          "shell.execute_reply": "2024-05-07T12:39:51.411029Z"
        },
        "trusted": true,
        "colab": {
          "base_uri": "https://localhost:8080/"
        },
        "id": "X1ZoxNU7I664",
        "outputId": "634b0b6c-0aa4-449b-ca40-a85a2df95dbc"
      },
      "execution_count": 18,
      "outputs": [
        {
          "output_type": "execute_result",
          "data": {
            "text/plain": [
              "CONSULTAS\n",
              "1      972\n",
              "2     1359\n",
              "3     5957\n",
              "4    18587\n",
              "9       50\n",
              "Name: count, dtype: int64"
            ]
          },
          "metadata": {},
          "execution_count": 18
        }
      ]
    },
    {
      "cell_type": "code",
      "source": [
        "dados_sel['ESTCIVMAE'].isna().sum() #verificando os valores faltantes do campo"
      ],
      "metadata": {
        "execution": {
          "iopub.status.busy": "2024-05-07T12:39:52.968275Z",
          "iopub.execute_input": "2024-05-07T12:39:52.968675Z",
          "iopub.status.idle": "2024-05-07T12:39:52.976842Z",
          "shell.execute_reply.started": "2024-05-07T12:39:52.968646Z",
          "shell.execute_reply": "2024-05-07T12:39:52.975634Z"
        },
        "trusted": true,
        "colab": {
          "base_uri": "https://localhost:8080/"
        },
        "id": "8QVZ5MWFI664",
        "outputId": "c042098e-5b02-4601-e4fd-71f3321792ef"
      },
      "execution_count": 19,
      "outputs": [
        {
          "output_type": "execute_result",
          "data": {
            "text/plain": [
              "315"
            ]
          },
          "metadata": {},
          "execution_count": 19
        }
      ]
    },
    {
      "cell_type": "code",
      "source": [
        "dados_sel['ESTCIVMAE'].fillna(9,inplace = True) #preenchendo os campos faltantes com 9\n",
        "dados_sel['ESTCIVMAE'].isna().sum()"
      ],
      "metadata": {
        "execution": {
          "iopub.status.busy": "2024-05-07T12:39:54.792619Z",
          "iopub.execute_input": "2024-05-07T12:39:54.793018Z",
          "iopub.status.idle": "2024-05-07T12:39:54.807021Z",
          "shell.execute_reply.started": "2024-05-07T12:39:54.792989Z",
          "shell.execute_reply": "2024-05-07T12:39:54.805706Z"
        },
        "trusted": true,
        "colab": {
          "base_uri": "https://localhost:8080/"
        },
        "id": "q8CbctXvI664",
        "outputId": "b1bf5acf-9ead-4466-c578-4a1dccc5ab2c"
      },
      "execution_count": 24,
      "outputs": [
        {
          "output_type": "execute_result",
          "data": {
            "text/plain": [
              "0"
            ]
          },
          "metadata": {},
          "execution_count": 24
        }
      ]
    },
    {
      "cell_type": "code",
      "source": [
        "dados_sel['CONSULTAS'].isna().sum() #verificando que o campo 'Consultas' nao possui dados faltantes"
      ],
      "metadata": {
        "execution": {
          "iopub.status.busy": "2024-05-07T12:39:56.416427Z",
          "iopub.execute_input": "2024-05-07T12:39:56.416829Z",
          "iopub.status.idle": "2024-05-07T12:39:56.426848Z",
          "shell.execute_reply.started": "2024-05-07T12:39:56.416796Z",
          "shell.execute_reply": "2024-05-07T12:39:56.424821Z"
        },
        "trusted": true,
        "colab": {
          "base_uri": "https://localhost:8080/"
        },
        "id": "pLROMvqZI664",
        "outputId": "5ab5325c-259b-476c-88db-f68bab37f1c5"
      },
      "execution_count": 25,
      "outputs": [
        {
          "output_type": "execute_result",
          "data": {
            "text/plain": [
              "0"
            ]
          },
          "metadata": {},
          "execution_count": 25
        }
      ]
    },
    {
      "cell_type": "code",
      "source": [
        "# 6) Substitua os valores faltantes da quantitativa (QTDFILVIVO) por zero\n",
        "\n",
        "dados_sel['QTDFILVIVO'].isna().sum() #verificando a quantidade de dados faltantes\n"
      ],
      "metadata": {
        "execution": {
          "iopub.status.busy": "2024-05-07T12:39:58.124537Z",
          "iopub.execute_input": "2024-05-07T12:39:58.124949Z",
          "iopub.status.idle": "2024-05-07T12:39:58.133695Z",
          "shell.execute_reply.started": "2024-05-07T12:39:58.124916Z",
          "shell.execute_reply": "2024-05-07T12:39:58.132457Z"
        },
        "trusted": true,
        "colab": {
          "base_uri": "https://localhost:8080/"
        },
        "id": "T2OJaIIrI665",
        "outputId": "95395dd1-caef-4d19-fa36-74c08205ea8f"
      },
      "execution_count": 26,
      "outputs": [
        {
          "output_type": "execute_result",
          "data": {
            "text/plain": [
              "1566"
            ]
          },
          "metadata": {},
          "execution_count": 26
        }
      ]
    },
    {
      "cell_type": "code",
      "source": [
        "dados_sel['QTDFILVIVO'].fillna(0,inplace = True) #substituindo os campos faltantes por 0\n",
        "dados_sel['QTDFILVIVO'].isna().sum() #sem dados faltantes"
      ],
      "metadata": {
        "execution": {
          "iopub.status.busy": "2024-05-07T12:39:59.788753Z",
          "iopub.execute_input": "2024-05-07T12:39:59.789201Z",
          "iopub.status.idle": "2024-05-07T12:39:59.798964Z",
          "shell.execute_reply.started": "2024-05-07T12:39:59.789165Z",
          "shell.execute_reply": "2024-05-07T12:39:59.797565Z"
        },
        "trusted": true,
        "colab": {
          "base_uri": "https://localhost:8080/"
        },
        "id": "Pk-0GfLvI665",
        "outputId": "d7fdfdc8-5579-446a-a5f3-176bd983b783"
      },
      "execution_count": 31,
      "outputs": [
        {
          "output_type": "execute_result",
          "data": {
            "text/plain": [
              "0"
            ]
          },
          "metadata": {},
          "execution_count": 31
        }
      ]
    },
    {
      "cell_type": "code",
      "source": [
        "# 7) Das restantes, decida que valores te parece mais adequado (um 'não preenchido' ou um valor 'mais provável' como no item anterior) e preencha.\n",
        "\n",
        "dados_sel[['LOCNASC', 'IDADEMAE', 'ESCMAE','GESTACAO', 'GRAVIDEZ']].isna().sum() #vericando quais colunas possuem dados faltantes."
      ],
      "metadata": {
        "execution": {
          "iopub.status.busy": "2024-05-07T12:40:01.676309Z",
          "iopub.execute_input": "2024-05-07T12:40:01.676734Z",
          "iopub.status.idle": "2024-05-07T12:40:01.699782Z",
          "shell.execute_reply.started": "2024-05-07T12:40:01.676701Z",
          "shell.execute_reply": "2024-05-07T12:40:01.698684Z"
        },
        "trusted": true,
        "colab": {
          "base_uri": "https://localhost:8080/"
        },
        "id": "jkWaL9W6I665",
        "outputId": "049c7c4c-4982-4d18-faf4-62e194de94b2"
      },
      "execution_count": 33,
      "outputs": [
        {
          "output_type": "execute_result",
          "data": {
            "text/plain": [
              "LOCNASC        0\n",
              "IDADEMAE       0\n",
              "ESCMAE       310\n",
              "GESTACAO    1216\n",
              "GRAVIDEZ      76\n",
              "dtype: int64"
            ]
          },
          "metadata": {},
          "execution_count": 33
        }
      ]
    },
    {
      "cell_type": "markdown",
      "source": [
        "Como pode-se observar, as colunas 'LOCNASC'e 'IDADEMAE'não possui dados faltantes. Então não será necessario realizar tratamento. Começando pela escolaridade da mãe temos:"
      ],
      "metadata": {
        "id": "gIuSWrkhI665"
      }
    },
    {
      "cell_type": "code",
      "source": [
        "dados_sel['ESCMAE'].value_counts() #verificando o nivel de escolaridade das maes"
      ],
      "metadata": {
        "execution": {
          "iopub.status.busy": "2024-05-07T12:40:04.981703Z",
          "iopub.execute_input": "2024-05-07T12:40:04.982131Z",
          "iopub.status.idle": "2024-05-07T12:40:04.996987Z",
          "shell.execute_reply.started": "2024-05-07T12:40:04.982090Z",
          "shell.execute_reply": "2024-05-07T12:40:04.995777Z"
        },
        "trusted": true,
        "colab": {
          "base_uri": "https://localhost:8080/"
        },
        "id": "mk3dNNfyI665",
        "outputId": "579b6171-9184-4559-b57e-b17b30f6ee9e"
      },
      "execution_count": 34,
      "outputs": [
        {
          "output_type": "execute_result",
          "data": {
            "text/plain": [
              "ESCMAE\n",
              "8 a 11 anos        15581\n",
              "12 anos ou mais     5757\n",
              "4 a 7 anos          4727\n",
              "1 a 3 anos           510\n",
              "Nenhuma               40\n",
              "Name: count, dtype: int64"
            ]
          },
          "metadata": {},
          "execution_count": 34
        }
      ]
    },
    {
      "cell_type": "code",
      "source": [
        "dados_sel['ESCMAE'].isna().sum() #verificando a quantidade de dados faltantes da coluna"
      ],
      "metadata": {
        "execution": {
          "iopub.status.busy": "2024-05-07T12:40:07.439996Z",
          "iopub.execute_input": "2024-05-07T12:40:07.440442Z",
          "iopub.status.idle": "2024-05-07T12:40:07.451658Z",
          "shell.execute_reply.started": "2024-05-07T12:40:07.440411Z",
          "shell.execute_reply": "2024-05-07T12:40:07.450360Z"
        },
        "trusted": true,
        "colab": {
          "base_uri": "https://localhost:8080/"
        },
        "id": "RPJDI4rLI665",
        "outputId": "0771b185-2e28-4a32-d0de-172148768551"
      },
      "execution_count": 35,
      "outputs": [
        {
          "output_type": "execute_result",
          "data": {
            "text/plain": [
              "310"
            ]
          },
          "metadata": {},
          "execution_count": 35
        }
      ]
    },
    {
      "cell_type": "markdown",
      "source": [
        "Como a escolaridade da mãe não é um fator predominante, vou preencher os dados faltantes com 'Ignorado', mostrando que foi um campo que nao foi preenchido."
      ],
      "metadata": {
        "id": "mR_LPOJgI665"
      }
    },
    {
      "cell_type": "code",
      "source": [
        "dados_sel['ESCMAE'].fillna('Ignorado',inplace = True)\n",
        "dados_sel['ESCMAE'].value_counts()\n"
      ],
      "metadata": {
        "execution": {
          "iopub.status.busy": "2024-05-07T12:40:09.814731Z",
          "iopub.execute_input": "2024-05-07T12:40:09.815157Z",
          "iopub.status.idle": "2024-05-07T12:40:09.837112Z",
          "shell.execute_reply.started": "2024-05-07T12:40:09.815123Z",
          "shell.execute_reply": "2024-05-07T12:40:09.835748Z"
        },
        "trusted": true,
        "colab": {
          "base_uri": "https://localhost:8080/"
        },
        "id": "gVB-j8u_I665",
        "outputId": "c213d26c-2c85-46fa-dce0-32c233ff78c8"
      },
      "execution_count": 37,
      "outputs": [
        {
          "output_type": "stream",
          "name": "stderr",
          "text": [
            "<ipython-input-37-ef417b700405>:1: SettingWithCopyWarning: \n",
            "A value is trying to be set on a copy of a slice from a DataFrame\n",
            "\n",
            "See the caveats in the documentation: https://pandas.pydata.org/pandas-docs/stable/user_guide/indexing.html#returning-a-view-versus-a-copy\n",
            "  dados_sel['ESCMAE'].fillna('Ignorado',inplace = True)\n"
          ]
        },
        {
          "output_type": "execute_result",
          "data": {
            "text/plain": [
              "ESCMAE\n",
              "8 a 11 anos        15581\n",
              "12 anos ou mais     5757\n",
              "4 a 7 anos          4727\n",
              "1 a 3 anos           510\n",
              "Ignorado             310\n",
              "Nenhuma               40\n",
              "Name: count, dtype: int64"
            ]
          },
          "metadata": {},
          "execution_count": 37
        }
      ]
    },
    {
      "cell_type": "markdown",
      "source": [
        "Proximo coluna a ser estudada será a da 'Gravidez'"
      ],
      "metadata": {
        "id": "dyWnqUqII665"
      }
    },
    {
      "cell_type": "code",
      "source": [
        "dados_sel['GRAVIDEZ'].value_counts() #verificando a quantidade de dados presentes na coluna"
      ],
      "metadata": {
        "execution": {
          "iopub.status.busy": "2024-05-07T12:40:13.920920Z",
          "iopub.execute_input": "2024-05-07T12:40:13.921341Z",
          "iopub.status.idle": "2024-05-07T12:40:13.936458Z",
          "shell.execute_reply.started": "2024-05-07T12:40:13.921309Z",
          "shell.execute_reply": "2024-05-07T12:40:13.935024Z"
        },
        "trusted": true,
        "colab": {
          "base_uri": "https://localhost:8080/"
        },
        "id": "us00emFGI665",
        "outputId": "df39e0f2-c7cb-4062-8d1c-2a395c3fd81a"
      },
      "execution_count": 38,
      "outputs": [
        {
          "output_type": "execute_result",
          "data": {
            "text/plain": [
              "GRAVIDEZ\n",
              "Única              26356\n",
              "Dupla                488\n",
              "Tríplice e mais        5\n",
              "Name: count, dtype: int64"
            ]
          },
          "metadata": {},
          "execution_count": 38
        }
      ]
    },
    {
      "cell_type": "code",
      "source": [
        "dados_sel['GRAVIDEZ'].isna().sum() #verificando a quantidade de dados faltantes na coluna"
      ],
      "metadata": {
        "execution": {
          "iopub.status.busy": "2024-05-07T12:40:16.265195Z",
          "iopub.execute_input": "2024-05-07T12:40:16.265625Z",
          "iopub.status.idle": "2024-05-07T12:40:16.278600Z",
          "shell.execute_reply.started": "2024-05-07T12:40:16.265595Z",
          "shell.execute_reply": "2024-05-07T12:40:16.275934Z"
        },
        "trusted": true,
        "colab": {
          "base_uri": "https://localhost:8080/"
        },
        "id": "BjgExJTeI665",
        "outputId": "869ab9aa-65e1-460d-ff3b-4b8b0a1c4dd3"
      },
      "execution_count": 39,
      "outputs": [
        {
          "output_type": "execute_result",
          "data": {
            "text/plain": [
              "76"
            ]
          },
          "metadata": {},
          "execution_count": 39
        }
      ]
    },
    {
      "cell_type": "markdown",
      "source": [
        "O tipo de gravidez já é uma variavel bem sensivel, uma vez que a quantidade de bebes que nascem em uma gravidez sao em sua maioria única, poucas duplas e menos ainda tiplas ou mais. Sendo assim acredito ser viavel retirar esses dados faltantes da tabela para nao comprometer o restante."
      ],
      "metadata": {
        "id": "O0SBII5mI666"
      }
    },
    {
      "cell_type": "code",
      "source": [
        "dados_sel = dados_sel.dropna(subset = ['GRAVIDEZ']) #removendo os registros\n",
        "dados_sel['GRAVIDEZ'].isna().sum() #verificando se os registros foram removidos"
      ],
      "metadata": {
        "execution": {
          "iopub.status.busy": "2024-05-07T12:40:19.939957Z",
          "iopub.execute_input": "2024-05-07T12:40:19.940422Z",
          "iopub.status.idle": "2024-05-07T12:40:19.969326Z",
          "shell.execute_reply.started": "2024-05-07T12:40:19.940389Z",
          "shell.execute_reply": "2024-05-07T12:40:19.967929Z"
        },
        "trusted": true,
        "colab": {
          "base_uri": "https://localhost:8080/"
        },
        "id": "1r44mc-6I666",
        "outputId": "059c8da6-11b6-48e3-f02e-bd89f743f953"
      },
      "execution_count": 40,
      "outputs": [
        {
          "output_type": "execute_result",
          "data": {
            "text/plain": [
              "0"
            ]
          },
          "metadata": {},
          "execution_count": 40
        }
      ]
    },
    {
      "cell_type": "markdown",
      "source": [
        "Agora para ultima coluna de interesse a ser analisada 'GESTACAO'"
      ],
      "metadata": {
        "id": "TH76GJxAI666"
      }
    },
    {
      "cell_type": "code",
      "source": [
        "dados_sel['GESTACAO'].value_counts() #verificando a quantidade de dados presentes na coluna"
      ],
      "metadata": {
        "execution": {
          "iopub.status.busy": "2024-05-07T12:40:28.948708Z",
          "iopub.execute_input": "2024-05-07T12:40:28.949086Z",
          "iopub.status.idle": "2024-05-07T12:40:28.963672Z",
          "shell.execute_reply.started": "2024-05-07T12:40:28.949057Z",
          "shell.execute_reply": "2024-05-07T12:40:28.962341Z"
        },
        "trusted": true,
        "colab": {
          "base_uri": "https://localhost:8080/"
        },
        "id": "jy829pyFI666",
        "outputId": "49a02fd4-4fb5-43f1-b5a8-e77d174a4dfd"
      },
      "execution_count": 41,
      "outputs": [
        {
          "output_type": "execute_result",
          "data": {
            "text/plain": [
              "GESTACAO\n",
              "37 a 41 semanas        22471\n",
              "32 a 36 semanas         2226\n",
              "42 semanas e mais        698\n",
              "28 a 31 semanas          162\n",
              "22 a 27 semanas           85\n",
              "Menos de 22 semanas        7\n",
              "Name: count, dtype: int64"
            ]
          },
          "metadata": {},
          "execution_count": 41
        }
      ]
    },
    {
      "cell_type": "code",
      "source": [
        "dados_sel['GESTACAO'].isna().sum() #verificando a quantidade de dados faltantes na coluna"
      ],
      "metadata": {
        "execution": {
          "iopub.status.busy": "2024-05-07T12:40:31.285057Z",
          "iopub.execute_input": "2024-05-07T12:40:31.285512Z",
          "iopub.status.idle": "2024-05-07T12:40:31.297595Z",
          "shell.execute_reply.started": "2024-05-07T12:40:31.285478Z",
          "shell.execute_reply": "2024-05-07T12:40:31.296340Z"
        },
        "trusted": true,
        "colab": {
          "base_uri": "https://localhost:8080/"
        },
        "id": "Vlho9VmaI666",
        "outputId": "1052daf3-66b2-404e-e434-0262aafa1c80"
      },
      "execution_count": 42,
      "outputs": [
        {
          "output_type": "execute_result",
          "data": {
            "text/plain": [
              "1200"
            ]
          },
          "metadata": {},
          "execution_count": 42
        }
      ]
    },
    {
      "cell_type": "markdown",
      "source": [
        "No caso da 'GESTACAO'optei por comprentar os valores faltantes utilizando o metodo bfill. Preenchendo o dado faltante com o dado anterior"
      ],
      "metadata": {
        "id": "yo6VPdHnI666"
      }
    },
    {
      "cell_type": "code",
      "source": [
        "dados_sel['GESTACAO'].bfill(inplace = True)\n",
        "verific = dados_sel['GESTACAO'].isna().sum() #verificando se os registros foram removidos\n",
        "print('Existem',verific,'dados faltantes')\n",
        "dados_sel['GESTACAO'].value_counts()"
      ],
      "metadata": {
        "execution": {
          "iopub.status.busy": "2024-05-07T12:42:32.453397Z",
          "iopub.execute_input": "2024-05-07T12:42:32.453893Z",
          "iopub.status.idle": "2024-05-07T12:42:32.481233Z",
          "shell.execute_reply.started": "2024-05-07T12:42:32.453853Z",
          "shell.execute_reply": "2024-05-07T12:42:32.479688Z"
        },
        "trusted": true,
        "colab": {
          "base_uri": "https://localhost:8080/"
        },
        "id": "haOktR6KI666",
        "outputId": "cae7d8fe-6006-4c19-ae28-a08124c81b08"
      },
      "execution_count": 44,
      "outputs": [
        {
          "output_type": "stream",
          "name": "stdout",
          "text": [
            "Existem 0 dados faltantes\n"
          ]
        },
        {
          "output_type": "execute_result",
          "data": {
            "text/plain": [
              "GESTACAO\n",
              "37 a 41 semanas        23490\n",
              "32 a 36 semanas         2359\n",
              "42 semanas e mais        730\n",
              "28 a 31 semanas          168\n",
              "22 a 27 semanas           95\n",
              "Menos de 22 semanas        7\n",
              "Name: count, dtype: int64"
            ]
          },
          "metadata": {},
          "execution_count": 44
        }
      ]
    },
    {
      "cell_type": "markdown",
      "source": [
        "8. O Apgar possui uma classificação indicando se o bebê passou por asfixia:\n",
        "- Entre 8 e 10 está em uma faixa 'normal'.\n",
        "- Entre 6 e 7, significa que o recém-nascido passou por 'asfixia leve'.\n",
        "- Entre 4 e 5 significa 'asfixia moderada'.\n",
        "- Entre 0 e 3 significa 'asfixia severa'.  \n"
      ],
      "metadata": {
        "id": "P8K9X06_I666"
      }
    },
    {
      "cell_type": "code",
      "source": [
        "#8) selecionando os dados da coluna APGAR5\n",
        "\n",
        "dados_sel['APGAR5']\n"
      ],
      "metadata": {
        "execution": {
          "iopub.status.busy": "2024-05-07T12:52:23.870710Z",
          "iopub.execute_input": "2024-05-07T12:52:23.871105Z",
          "iopub.status.idle": "2024-05-07T12:52:23.881978Z",
          "shell.execute_reply.started": "2024-05-07T12:52:23.871074Z",
          "shell.execute_reply": "2024-05-07T12:52:23.880274Z"
        },
        "trusted": true,
        "colab": {
          "base_uri": "https://localhost:8080/"
        },
        "id": "9h55Ku_jI666",
        "outputId": "e6773534-9c1a-4302-ac96-3bc552d11a7b"
      },
      "execution_count": 45,
      "outputs": [
        {
          "output_type": "execute_result",
          "data": {
            "text/plain": [
              "0        10.0\n",
              "1         9.0\n",
              "2        10.0\n",
              "3        10.0\n",
              "4        10.0\n",
              "         ... \n",
              "27023     9.0\n",
              "27024     9.0\n",
              "27025    10.0\n",
              "27026     9.0\n",
              "27027     8.0\n",
              "Name: APGAR5, Length: 26849, dtype: float64"
            ]
          },
          "metadata": {},
          "execution_count": 45
        }
      ]
    },
    {
      "cell_type": "code",
      "source": [
        "dados_sel['APGAR5'].value_counts().sort_index()"
      ],
      "metadata": {
        "execution": {
          "iopub.status.busy": "2024-05-07T12:52:58.163379Z",
          "iopub.execute_input": "2024-05-07T12:52:58.163779Z",
          "iopub.status.idle": "2024-05-07T12:52:58.174858Z",
          "shell.execute_reply.started": "2024-05-07T12:52:58.163747Z",
          "shell.execute_reply": "2024-05-07T12:52:58.173603Z"
        },
        "trusted": true,
        "colab": {
          "base_uri": "https://localhost:8080/"
        },
        "id": "xHIwPYqVI666",
        "outputId": "e21d2241-b87b-44fd-977a-789786f8dcfa"
      },
      "execution_count": 46,
      "outputs": [
        {
          "output_type": "execute_result",
          "data": {
            "text/plain": [
              "APGAR5\n",
              "0.0        17\n",
              "1.0        24\n",
              "2.0        18\n",
              "3.0        15\n",
              "4.0        23\n",
              "5.0        45\n",
              "6.0        79\n",
              "7.0       240\n",
              "8.0      1984\n",
              "9.0     16035\n",
              "10.0     8369\n",
              "Name: count, dtype: int64"
            ]
          },
          "metadata": {},
          "execution_count": 46
        }
      ]
    },
    {
      "cell_type": "markdown",
      "source": [
        "É possivel observar que em sua grande maioria o apgar se encontra em sua faixa normal que é entre 8 e 10."
      ],
      "metadata": {
        "id": "1HTep35LI666"
      }
    },
    {
      "cell_type": "code",
      "source": [
        "dados_sel.loc[dados_sel['APGAR5'] >= 8, 'apgar5_new'] = 'normal'\n",
        "dados_sel.loc[(dados_sel['APGAR5'] >=6) & (dados_sel['APGAR5'] <= 7),'apgar5_new'] = 'asfixia leve'\n",
        "dados_sel.loc[(dados_sel['APGAR5'] >= 4) & (df['APGAR5'] <= 5),'apgar5_new'] = 'asfixia moderada'\n",
        "dados_sel.loc[(dados_sel['APGAR5'] <= 3), 'apgar5_new'] = 'asfixia severa'\n",
        "\n",
        "dados_sel['apgar5_new'].value_counts() #exibe a frequencia"
      ],
      "metadata": {
        "execution": {
          "iopub.status.busy": "2024-05-07T12:53:37.459615Z",
          "iopub.execute_input": "2024-05-07T12:53:37.460005Z",
          "iopub.status.idle": "2024-05-07T12:53:37.491198Z",
          "shell.execute_reply.started": "2024-05-07T12:53:37.459976Z",
          "shell.execute_reply": "2024-05-07T12:53:37.489941Z"
        },
        "trusted": true,
        "colab": {
          "base_uri": "https://localhost:8080/"
        },
        "id": "DmI1btPnI667",
        "outputId": "c4a6f7f1-f410-427b-bf6e-f8a871295911"
      },
      "execution_count": 47,
      "outputs": [
        {
          "output_type": "execute_result",
          "data": {
            "text/plain": [
              "apgar5_new\n",
              "normal              26388\n",
              "asfixia leve          319\n",
              "asfixia severa         74\n",
              "asfixia moderada       68\n",
              "Name: count, dtype: int64"
            ]
          },
          "metadata": {},
          "execution_count": 47
        }
      ]
    },
    {
      "cell_type": "code",
      "source": [
        "# 9)  Renomeie as variáveis para que fiquem no snake case, ou seja, em letras minúsculas, com um underscore entre as palávras.\n",
        "#     Dica: repare que se você não quiser criar um dataframe novo, você vai precisar usar a opção inplace = True.\n",
        "\n",
        "dados_sel.rename(columns = lambda x: x.lower().replace(\" \",\"_\"),inplace =True)\n",
        "dados_sel"
      ],
      "metadata": {
        "execution": {
          "iopub.status.busy": "2024-05-07T12:58:53.032927Z",
          "iopub.execute_input": "2024-05-07T12:58:53.033455Z",
          "iopub.status.idle": "2024-05-07T12:58:53.077754Z",
          "shell.execute_reply.started": "2024-05-07T12:58:53.033409Z",
          "shell.execute_reply": "2024-05-07T12:58:53.076680Z"
        },
        "trusted": true,
        "colab": {
          "base_uri": "https://localhost:8080/",
          "height": 424
        },
        "id": "kJq_4NraI667",
        "outputId": "02fe9b7a-6984-4811-c624-9042f618d216"
      },
      "execution_count": 48,
      "outputs": [
        {
          "output_type": "execute_result",
          "data": {
            "text/plain": [
              "       locnasc  idademae  estcivmae           escmae  qtdfilvivo  \\\n",
              "0            1        19        5.0      8 a 11 anos         0.0   \n",
              "1            1        29        2.0      8 a 11 anos         1.0   \n",
              "2            1        37        9.0      8 a 11 anos         2.0   \n",
              "3            1        30        5.0  12 anos ou mais         0.0   \n",
              "4            1        30        2.0      8 a 11 anos         1.0   \n",
              "...        ...       ...        ...              ...         ...   \n",
              "27023        1        32        2.0  12 anos ou mais         1.0   \n",
              "27024        1        19        1.0      8 a 11 anos         0.0   \n",
              "27025        1        24        2.0      8 a 11 anos         0.0   \n",
              "27026        1        21        2.0      8 a 11 anos         1.0   \n",
              "27027        1        18        5.0      8 a 11 anos         1.0   \n",
              "\n",
              "              gestacao gravidez  consultas  apgar5 apgar5_new  \n",
              "0      37 a 41 semanas    Única          4    10.0     normal  \n",
              "1      37 a 41 semanas    Única          4     9.0     normal  \n",
              "2      37 a 41 semanas    Única          4    10.0     normal  \n",
              "3      37 a 41 semanas    Única          3    10.0     normal  \n",
              "4      37 a 41 semanas    Única          4    10.0     normal  \n",
              "...                ...      ...        ...     ...        ...  \n",
              "27023  32 a 36 semanas    Única          4     9.0     normal  \n",
              "27024  37 a 41 semanas    Única          4     9.0     normal  \n",
              "27025  37 a 41 semanas    Única          4    10.0     normal  \n",
              "27026  32 a 36 semanas    Única          4     9.0     normal  \n",
              "27027  37 a 41 semanas    Única          4     8.0     normal  \n",
              "\n",
              "[26849 rows x 10 columns]"
            ],
            "text/html": [
              "\n",
              "  <div id=\"df-c50bb261-c9b7-498c-921c-aa79127852a6\" class=\"colab-df-container\">\n",
              "    <div>\n",
              "<style scoped>\n",
              "    .dataframe tbody tr th:only-of-type {\n",
              "        vertical-align: middle;\n",
              "    }\n",
              "\n",
              "    .dataframe tbody tr th {\n",
              "        vertical-align: top;\n",
              "    }\n",
              "\n",
              "    .dataframe thead th {\n",
              "        text-align: right;\n",
              "    }\n",
              "</style>\n",
              "<table border=\"1\" class=\"dataframe\">\n",
              "  <thead>\n",
              "    <tr style=\"text-align: right;\">\n",
              "      <th></th>\n",
              "      <th>locnasc</th>\n",
              "      <th>idademae</th>\n",
              "      <th>estcivmae</th>\n",
              "      <th>escmae</th>\n",
              "      <th>qtdfilvivo</th>\n",
              "      <th>gestacao</th>\n",
              "      <th>gravidez</th>\n",
              "      <th>consultas</th>\n",
              "      <th>apgar5</th>\n",
              "      <th>apgar5_new</th>\n",
              "    </tr>\n",
              "  </thead>\n",
              "  <tbody>\n",
              "    <tr>\n",
              "      <th>0</th>\n",
              "      <td>1</td>\n",
              "      <td>19</td>\n",
              "      <td>5.0</td>\n",
              "      <td>8 a 11 anos</td>\n",
              "      <td>0.0</td>\n",
              "      <td>37 a 41 semanas</td>\n",
              "      <td>Única</td>\n",
              "      <td>4</td>\n",
              "      <td>10.0</td>\n",
              "      <td>normal</td>\n",
              "    </tr>\n",
              "    <tr>\n",
              "      <th>1</th>\n",
              "      <td>1</td>\n",
              "      <td>29</td>\n",
              "      <td>2.0</td>\n",
              "      <td>8 a 11 anos</td>\n",
              "      <td>1.0</td>\n",
              "      <td>37 a 41 semanas</td>\n",
              "      <td>Única</td>\n",
              "      <td>4</td>\n",
              "      <td>9.0</td>\n",
              "      <td>normal</td>\n",
              "    </tr>\n",
              "    <tr>\n",
              "      <th>2</th>\n",
              "      <td>1</td>\n",
              "      <td>37</td>\n",
              "      <td>9.0</td>\n",
              "      <td>8 a 11 anos</td>\n",
              "      <td>2.0</td>\n",
              "      <td>37 a 41 semanas</td>\n",
              "      <td>Única</td>\n",
              "      <td>4</td>\n",
              "      <td>10.0</td>\n",
              "      <td>normal</td>\n",
              "    </tr>\n",
              "    <tr>\n",
              "      <th>3</th>\n",
              "      <td>1</td>\n",
              "      <td>30</td>\n",
              "      <td>5.0</td>\n",
              "      <td>12 anos ou mais</td>\n",
              "      <td>0.0</td>\n",
              "      <td>37 a 41 semanas</td>\n",
              "      <td>Única</td>\n",
              "      <td>3</td>\n",
              "      <td>10.0</td>\n",
              "      <td>normal</td>\n",
              "    </tr>\n",
              "    <tr>\n",
              "      <th>4</th>\n",
              "      <td>1</td>\n",
              "      <td>30</td>\n",
              "      <td>2.0</td>\n",
              "      <td>8 a 11 anos</td>\n",
              "      <td>1.0</td>\n",
              "      <td>37 a 41 semanas</td>\n",
              "      <td>Única</td>\n",
              "      <td>4</td>\n",
              "      <td>10.0</td>\n",
              "      <td>normal</td>\n",
              "    </tr>\n",
              "    <tr>\n",
              "      <th>...</th>\n",
              "      <td>...</td>\n",
              "      <td>...</td>\n",
              "      <td>...</td>\n",
              "      <td>...</td>\n",
              "      <td>...</td>\n",
              "      <td>...</td>\n",
              "      <td>...</td>\n",
              "      <td>...</td>\n",
              "      <td>...</td>\n",
              "      <td>...</td>\n",
              "    </tr>\n",
              "    <tr>\n",
              "      <th>27023</th>\n",
              "      <td>1</td>\n",
              "      <td>32</td>\n",
              "      <td>2.0</td>\n",
              "      <td>12 anos ou mais</td>\n",
              "      <td>1.0</td>\n",
              "      <td>32 a 36 semanas</td>\n",
              "      <td>Única</td>\n",
              "      <td>4</td>\n",
              "      <td>9.0</td>\n",
              "      <td>normal</td>\n",
              "    </tr>\n",
              "    <tr>\n",
              "      <th>27024</th>\n",
              "      <td>1</td>\n",
              "      <td>19</td>\n",
              "      <td>1.0</td>\n",
              "      <td>8 a 11 anos</td>\n",
              "      <td>0.0</td>\n",
              "      <td>37 a 41 semanas</td>\n",
              "      <td>Única</td>\n",
              "      <td>4</td>\n",
              "      <td>9.0</td>\n",
              "      <td>normal</td>\n",
              "    </tr>\n",
              "    <tr>\n",
              "      <th>27025</th>\n",
              "      <td>1</td>\n",
              "      <td>24</td>\n",
              "      <td>2.0</td>\n",
              "      <td>8 a 11 anos</td>\n",
              "      <td>0.0</td>\n",
              "      <td>37 a 41 semanas</td>\n",
              "      <td>Única</td>\n",
              "      <td>4</td>\n",
              "      <td>10.0</td>\n",
              "      <td>normal</td>\n",
              "    </tr>\n",
              "    <tr>\n",
              "      <th>27026</th>\n",
              "      <td>1</td>\n",
              "      <td>21</td>\n",
              "      <td>2.0</td>\n",
              "      <td>8 a 11 anos</td>\n",
              "      <td>1.0</td>\n",
              "      <td>32 a 36 semanas</td>\n",
              "      <td>Única</td>\n",
              "      <td>4</td>\n",
              "      <td>9.0</td>\n",
              "      <td>normal</td>\n",
              "    </tr>\n",
              "    <tr>\n",
              "      <th>27027</th>\n",
              "      <td>1</td>\n",
              "      <td>18</td>\n",
              "      <td>5.0</td>\n",
              "      <td>8 a 11 anos</td>\n",
              "      <td>1.0</td>\n",
              "      <td>37 a 41 semanas</td>\n",
              "      <td>Única</td>\n",
              "      <td>4</td>\n",
              "      <td>8.0</td>\n",
              "      <td>normal</td>\n",
              "    </tr>\n",
              "  </tbody>\n",
              "</table>\n",
              "<p>26849 rows × 10 columns</p>\n",
              "</div>\n",
              "    <div class=\"colab-df-buttons\">\n",
              "\n",
              "  <div class=\"colab-df-container\">\n",
              "    <button class=\"colab-df-convert\" onclick=\"convertToInteractive('df-c50bb261-c9b7-498c-921c-aa79127852a6')\"\n",
              "            title=\"Convert this dataframe to an interactive table.\"\n",
              "            style=\"display:none;\">\n",
              "\n",
              "  <svg xmlns=\"http://www.w3.org/2000/svg\" height=\"24px\" viewBox=\"0 -960 960 960\">\n",
              "    <path d=\"M120-120v-720h720v720H120Zm60-500h600v-160H180v160Zm220 220h160v-160H400v160Zm0 220h160v-160H400v160ZM180-400h160v-160H180v160Zm440 0h160v-160H620v160ZM180-180h160v-160H180v160Zm440 0h160v-160H620v160Z\"/>\n",
              "  </svg>\n",
              "    </button>\n",
              "\n",
              "  <style>\n",
              "    .colab-df-container {\n",
              "      display:flex;\n",
              "      gap: 12px;\n",
              "    }\n",
              "\n",
              "    .colab-df-convert {\n",
              "      background-color: #E8F0FE;\n",
              "      border: none;\n",
              "      border-radius: 50%;\n",
              "      cursor: pointer;\n",
              "      display: none;\n",
              "      fill: #1967D2;\n",
              "      height: 32px;\n",
              "      padding: 0 0 0 0;\n",
              "      width: 32px;\n",
              "    }\n",
              "\n",
              "    .colab-df-convert:hover {\n",
              "      background-color: #E2EBFA;\n",
              "      box-shadow: 0px 1px 2px rgba(60, 64, 67, 0.3), 0px 1px 3px 1px rgba(60, 64, 67, 0.15);\n",
              "      fill: #174EA6;\n",
              "    }\n",
              "\n",
              "    .colab-df-buttons div {\n",
              "      margin-bottom: 4px;\n",
              "    }\n",
              "\n",
              "    [theme=dark] .colab-df-convert {\n",
              "      background-color: #3B4455;\n",
              "      fill: #D2E3FC;\n",
              "    }\n",
              "\n",
              "    [theme=dark] .colab-df-convert:hover {\n",
              "      background-color: #434B5C;\n",
              "      box-shadow: 0px 1px 3px 1px rgba(0, 0, 0, 0.15);\n",
              "      filter: drop-shadow(0px 1px 2px rgba(0, 0, 0, 0.3));\n",
              "      fill: #FFFFFF;\n",
              "    }\n",
              "  </style>\n",
              "\n",
              "    <script>\n",
              "      const buttonEl =\n",
              "        document.querySelector('#df-c50bb261-c9b7-498c-921c-aa79127852a6 button.colab-df-convert');\n",
              "      buttonEl.style.display =\n",
              "        google.colab.kernel.accessAllowed ? 'block' : 'none';\n",
              "\n",
              "      async function convertToInteractive(key) {\n",
              "        const element = document.querySelector('#df-c50bb261-c9b7-498c-921c-aa79127852a6');\n",
              "        const dataTable =\n",
              "          await google.colab.kernel.invokeFunction('convertToInteractive',\n",
              "                                                    [key], {});\n",
              "        if (!dataTable) return;\n",
              "\n",
              "        const docLinkHtml = 'Like what you see? Visit the ' +\n",
              "          '<a target=\"_blank\" href=https://colab.research.google.com/notebooks/data_table.ipynb>data table notebook</a>'\n",
              "          + ' to learn more about interactive tables.';\n",
              "        element.innerHTML = '';\n",
              "        dataTable['output_type'] = 'display_data';\n",
              "        await google.colab.output.renderOutput(dataTable, element);\n",
              "        const docLink = document.createElement('div');\n",
              "        docLink.innerHTML = docLinkHtml;\n",
              "        element.appendChild(docLink);\n",
              "      }\n",
              "    </script>\n",
              "  </div>\n",
              "\n",
              "\n",
              "<div id=\"df-16feb80a-e42f-4c4f-ae70-49e5559be1f0\">\n",
              "  <button class=\"colab-df-quickchart\" onclick=\"quickchart('df-16feb80a-e42f-4c4f-ae70-49e5559be1f0')\"\n",
              "            title=\"Suggest charts\"\n",
              "            style=\"display:none;\">\n",
              "\n",
              "<svg xmlns=\"http://www.w3.org/2000/svg\" height=\"24px\"viewBox=\"0 0 24 24\"\n",
              "     width=\"24px\">\n",
              "    <g>\n",
              "        <path d=\"M19 3H5c-1.1 0-2 .9-2 2v14c0 1.1.9 2 2 2h14c1.1 0 2-.9 2-2V5c0-1.1-.9-2-2-2zM9 17H7v-7h2v7zm4 0h-2V7h2v10zm4 0h-2v-4h2v4z\"/>\n",
              "    </g>\n",
              "</svg>\n",
              "  </button>\n",
              "\n",
              "<style>\n",
              "  .colab-df-quickchart {\n",
              "      --bg-color: #E8F0FE;\n",
              "      --fill-color: #1967D2;\n",
              "      --hover-bg-color: #E2EBFA;\n",
              "      --hover-fill-color: #174EA6;\n",
              "      --disabled-fill-color: #AAA;\n",
              "      --disabled-bg-color: #DDD;\n",
              "  }\n",
              "\n",
              "  [theme=dark] .colab-df-quickchart {\n",
              "      --bg-color: #3B4455;\n",
              "      --fill-color: #D2E3FC;\n",
              "      --hover-bg-color: #434B5C;\n",
              "      --hover-fill-color: #FFFFFF;\n",
              "      --disabled-bg-color: #3B4455;\n",
              "      --disabled-fill-color: #666;\n",
              "  }\n",
              "\n",
              "  .colab-df-quickchart {\n",
              "    background-color: var(--bg-color);\n",
              "    border: none;\n",
              "    border-radius: 50%;\n",
              "    cursor: pointer;\n",
              "    display: none;\n",
              "    fill: var(--fill-color);\n",
              "    height: 32px;\n",
              "    padding: 0;\n",
              "    width: 32px;\n",
              "  }\n",
              "\n",
              "  .colab-df-quickchart:hover {\n",
              "    background-color: var(--hover-bg-color);\n",
              "    box-shadow: 0 1px 2px rgba(60, 64, 67, 0.3), 0 1px 3px 1px rgba(60, 64, 67, 0.15);\n",
              "    fill: var(--button-hover-fill-color);\n",
              "  }\n",
              "\n",
              "  .colab-df-quickchart-complete:disabled,\n",
              "  .colab-df-quickchart-complete:disabled:hover {\n",
              "    background-color: var(--disabled-bg-color);\n",
              "    fill: var(--disabled-fill-color);\n",
              "    box-shadow: none;\n",
              "  }\n",
              "\n",
              "  .colab-df-spinner {\n",
              "    border: 2px solid var(--fill-color);\n",
              "    border-color: transparent;\n",
              "    border-bottom-color: var(--fill-color);\n",
              "    animation:\n",
              "      spin 1s steps(1) infinite;\n",
              "  }\n",
              "\n",
              "  @keyframes spin {\n",
              "    0% {\n",
              "      border-color: transparent;\n",
              "      border-bottom-color: var(--fill-color);\n",
              "      border-left-color: var(--fill-color);\n",
              "    }\n",
              "    20% {\n",
              "      border-color: transparent;\n",
              "      border-left-color: var(--fill-color);\n",
              "      border-top-color: var(--fill-color);\n",
              "    }\n",
              "    30% {\n",
              "      border-color: transparent;\n",
              "      border-left-color: var(--fill-color);\n",
              "      border-top-color: var(--fill-color);\n",
              "      border-right-color: var(--fill-color);\n",
              "    }\n",
              "    40% {\n",
              "      border-color: transparent;\n",
              "      border-right-color: var(--fill-color);\n",
              "      border-top-color: var(--fill-color);\n",
              "    }\n",
              "    60% {\n",
              "      border-color: transparent;\n",
              "      border-right-color: var(--fill-color);\n",
              "    }\n",
              "    80% {\n",
              "      border-color: transparent;\n",
              "      border-right-color: var(--fill-color);\n",
              "      border-bottom-color: var(--fill-color);\n",
              "    }\n",
              "    90% {\n",
              "      border-color: transparent;\n",
              "      border-bottom-color: var(--fill-color);\n",
              "    }\n",
              "  }\n",
              "</style>\n",
              "\n",
              "  <script>\n",
              "    async function quickchart(key) {\n",
              "      const quickchartButtonEl =\n",
              "        document.querySelector('#' + key + ' button');\n",
              "      quickchartButtonEl.disabled = true;  // To prevent multiple clicks.\n",
              "      quickchartButtonEl.classList.add('colab-df-spinner');\n",
              "      try {\n",
              "        const charts = await google.colab.kernel.invokeFunction(\n",
              "            'suggestCharts', [key], {});\n",
              "      } catch (error) {\n",
              "        console.error('Error during call to suggestCharts:', error);\n",
              "      }\n",
              "      quickchartButtonEl.classList.remove('colab-df-spinner');\n",
              "      quickchartButtonEl.classList.add('colab-df-quickchart-complete');\n",
              "    }\n",
              "    (() => {\n",
              "      let quickchartButtonEl =\n",
              "        document.querySelector('#df-16feb80a-e42f-4c4f-ae70-49e5559be1f0 button');\n",
              "      quickchartButtonEl.style.display =\n",
              "        google.colab.kernel.accessAllowed ? 'block' : 'none';\n",
              "    })();\n",
              "  </script>\n",
              "</div>\n",
              "\n",
              "  <div id=\"id_b5a910be-1e34-4d0c-adcf-ab009d88773f\">\n",
              "    <style>\n",
              "      .colab-df-generate {\n",
              "        background-color: #E8F0FE;\n",
              "        border: none;\n",
              "        border-radius: 50%;\n",
              "        cursor: pointer;\n",
              "        display: none;\n",
              "        fill: #1967D2;\n",
              "        height: 32px;\n",
              "        padding: 0 0 0 0;\n",
              "        width: 32px;\n",
              "      }\n",
              "\n",
              "      .colab-df-generate:hover {\n",
              "        background-color: #E2EBFA;\n",
              "        box-shadow: 0px 1px 2px rgba(60, 64, 67, 0.3), 0px 1px 3px 1px rgba(60, 64, 67, 0.15);\n",
              "        fill: #174EA6;\n",
              "      }\n",
              "\n",
              "      [theme=dark] .colab-df-generate {\n",
              "        background-color: #3B4455;\n",
              "        fill: #D2E3FC;\n",
              "      }\n",
              "\n",
              "      [theme=dark] .colab-df-generate:hover {\n",
              "        background-color: #434B5C;\n",
              "        box-shadow: 0px 1px 3px 1px rgba(0, 0, 0, 0.15);\n",
              "        filter: drop-shadow(0px 1px 2px rgba(0, 0, 0, 0.3));\n",
              "        fill: #FFFFFF;\n",
              "      }\n",
              "    </style>\n",
              "    <button class=\"colab-df-generate\" onclick=\"generateWithVariable('dados_sel')\"\n",
              "            title=\"Generate code using this dataframe.\"\n",
              "            style=\"display:none;\">\n",
              "\n",
              "  <svg xmlns=\"http://www.w3.org/2000/svg\" height=\"24px\"viewBox=\"0 0 24 24\"\n",
              "       width=\"24px\">\n",
              "    <path d=\"M7,19H8.4L18.45,9,17,7.55,7,17.6ZM5,21V16.75L18.45,3.32a2,2,0,0,1,2.83,0l1.4,1.43a1.91,1.91,0,0,1,.58,1.4,1.91,1.91,0,0,1-.58,1.4L9.25,21ZM18.45,9,17,7.55Zm-12,3A5.31,5.31,0,0,0,4.9,8.1,5.31,5.31,0,0,0,1,6.5,5.31,5.31,0,0,0,4.9,4.9,5.31,5.31,0,0,0,6.5,1,5.31,5.31,0,0,0,8.1,4.9,5.31,5.31,0,0,0,12,6.5,5.46,5.46,0,0,0,6.5,12Z\"/>\n",
              "  </svg>\n",
              "    </button>\n",
              "    <script>\n",
              "      (() => {\n",
              "      const buttonEl =\n",
              "        document.querySelector('#id_b5a910be-1e34-4d0c-adcf-ab009d88773f button.colab-df-generate');\n",
              "      buttonEl.style.display =\n",
              "        google.colab.kernel.accessAllowed ? 'block' : 'none';\n",
              "\n",
              "      buttonEl.onclick = () => {\n",
              "        google.colab.notebook.generateWithVariable('dados_sel');\n",
              "      }\n",
              "      })();\n",
              "    </script>\n",
              "  </div>\n",
              "\n",
              "    </div>\n",
              "  </div>\n"
            ],
            "application/vnd.google.colaboratory.intrinsic+json": {
              "type": "dataframe",
              "variable_name": "dados_sel",
              "summary": "{\n  \"name\": \"dados_sel\",\n  \"rows\": 26849,\n  \"fields\": [\n    {\n      \"column\": \"locnasc\",\n      \"properties\": {\n        \"dtype\": \"number\",\n        \"std\": 0,\n        \"min\": 1,\n        \"max\": 4,\n        \"num_unique_values\": 4,\n        \"samples\": [\n          4,\n          3,\n          1\n        ],\n        \"semantic_type\": \"\",\n        \"description\": \"\"\n      }\n    },\n    {\n      \"column\": \"idademae\",\n      \"properties\": {\n        \"dtype\": \"number\",\n        \"std\": 6,\n        \"min\": 11,\n        \"max\": 53,\n        \"num_unique_values\": 40,\n        \"samples\": [\n          40,\n          28,\n          23\n        ],\n        \"semantic_type\": \"\",\n        \"description\": \"\"\n      }\n    },\n    {\n      \"column\": \"estcivmae\",\n      \"properties\": {\n        \"dtype\": \"number\",\n        \"std\": 1.7991890191105666,\n        \"min\": 1.0,\n        \"max\": 9.0,\n        \"num_unique_values\": 6,\n        \"samples\": [\n          5.0,\n          2.0,\n          3.0\n        ],\n        \"semantic_type\": \"\",\n        \"description\": \"\"\n      }\n    },\n    {\n      \"column\": \"escmae\",\n      \"properties\": {\n        \"dtype\": \"category\",\n        \"num_unique_values\": 6,\n        \"samples\": [\n          \"8 a 11 anos\",\n          \"12 anos ou mais\",\n          \"Nenhuma\"\n        ],\n        \"semantic_type\": \"\",\n        \"description\": \"\"\n      }\n    },\n    {\n      \"column\": \"qtdfilvivo\",\n      \"properties\": {\n        \"dtype\": \"number\",\n        \"std\": 1.1588166064796501,\n        \"min\": 0.0,\n        \"max\": 30.0,\n        \"num_unique_values\": 15,\n        \"samples\": [\n          9.0,\n          8.0,\n          0.0\n        ],\n        \"semantic_type\": \"\",\n        \"description\": \"\"\n      }\n    },\n    {\n      \"column\": \"gestacao\",\n      \"properties\": {\n        \"dtype\": \"category\",\n        \"num_unique_values\": 6,\n        \"samples\": [\n          \"37 a 41 semanas\",\n          \"42 semanas e mais\",\n          \"Menos de 22 semanas\"\n        ],\n        \"semantic_type\": \"\",\n        \"description\": \"\"\n      }\n    },\n    {\n      \"column\": \"gravidez\",\n      \"properties\": {\n        \"dtype\": \"category\",\n        \"num_unique_values\": 3,\n        \"samples\": [\n          \"\\u00danica\",\n          \"Dupla\",\n          \"Tr\\u00edplice e mais\"\n        ],\n        \"semantic_type\": \"\",\n        \"description\": \"\"\n      }\n    },\n    {\n      \"column\": \"consultas\",\n      \"properties\": {\n        \"dtype\": \"number\",\n        \"std\": 0,\n        \"min\": 1,\n        \"max\": 9,\n        \"num_unique_values\": 5,\n        \"samples\": [\n          3,\n          9,\n          2\n        ],\n        \"semantic_type\": \"\",\n        \"description\": \"\"\n      }\n    },\n    {\n      \"column\": \"apgar5\",\n      \"properties\": {\n        \"dtype\": \"number\",\n        \"std\": 0.7908419556253863,\n        \"min\": 0.0,\n        \"max\": 10.0,\n        \"num_unique_values\": 11,\n        \"samples\": [\n          4.0,\n          10.0,\n          2.0\n        ],\n        \"semantic_type\": \"\",\n        \"description\": \"\"\n      }\n    },\n    {\n      \"column\": \"apgar5_new\",\n      \"properties\": {\n        \"dtype\": \"category\",\n        \"num_unique_values\": 4,\n        \"samples\": [\n          \"asfixia leve\",\n          \"asfixia moderada\",\n          \"normal\"\n        ],\n        \"semantic_type\": \"\",\n        \"description\": \"\"\n      }\n    }\n  ]\n}"
            }
          },
          "metadata": {},
          "execution_count": 48
        }
      ]
    }
  ]
}