{
 "cells": [
  {
   "cell_type": "markdown",
   "metadata": {},
   "source": [
    "# EBAC - Regressão II - regressão múltipla\n",
    "\n",
    "## Tarefa I"
   ]
  },
  {
   "cell_type": "markdown",
   "metadata": {},
   "source": [
    "#### Previsão de renda II\n",
    "\n",
    "Vamos continuar trabalhando com a base 'previsao_de_renda.csv', que é a base do seu próximo projeto. Vamos usar os recursos que vimos até aqui nesta base.\n",
    "\n",
    "|variavel|descrição|\n",
    "|-|-|\n",
    "|data_ref                | Data de referência de coleta das variáveis |\n",
    "|index                   | Código de identificação do cliente|\n",
    "|sexo                    | Sexo do cliente|\n",
    "|posse_de_veiculo        | Indica se o cliente possui veículo|\n",
    "|posse_de_imovel         | Indica se o cliente possui imóvel|\n",
    "|qtd_filhos              | Quantidade de filhos do cliente|\n",
    "|tipo_renda              | Tipo de renda do cliente|\n",
    "|educacao                | Grau de instrução do cliente|\n",
    "|estado_civil            | Estado civil do cliente|\n",
    "|tipo_residencia         | Tipo de residência do cliente (própria, alugada etc)|\n",
    "|idade                   | Idade do cliente|\n",
    "|tempo_emprego           | Tempo no emprego atual|\n",
    "|qt_pessoas_residencia   | Quantidade de pessoas que moram na residência|\n",
    "|renda                   | Renda em reais|"
   ]
  },
  {
   "cell_type": "code",
   "execution_count": 34,
   "metadata": {
    "execution": {
     "iopub.execute_input": "2024-06-08T12:55:03.157797Z",
     "iopub.status.busy": "2024-06-08T12:55:03.156732Z",
     "iopub.status.idle": "2024-06-08T12:55:03.164609Z",
     "shell.execute_reply": "2024-06-08T12:55:03.163279Z",
     "shell.execute_reply.started": "2024-06-08T12:55:03.157725Z"
    }
   },
   "outputs": [],
   "source": [
    "#importanto bibliotecas\n",
    "import pandas as pd\n",
    "import seaborn as sns\n",
    "from seaborn import load_dataset\n",
    "import matplotlib.pyplot as plt\n",
    "import seaborn as sns\n",
    "import numpy as np\n",
    "\n",
    "import patsy\n",
    "import statsmodels.api as sm\n",
    "import statsmodels.formula.api as smf\n",
    "\n",
    "from sklearn.tree import DecisionTreeRegressor\n",
    "from sklearn import tree\n",
    "from sklearn.tree import plot_tree\n",
    "from sklearn.tree import DecisionTreeClassifier\n",
    "from sklearn.model_selection import train_test_split\n",
    "from sklearn.metrics import mean_squared_error\n",
    "from sklearn.metrics import r2_score"
   ]
  },
  {
   "cell_type": "code",
   "execution_count": 35,
   "metadata": {
    "execution": {
     "iopub.execute_input": "2024-06-08T12:55:05.551526Z",
     "iopub.status.busy": "2024-06-08T12:55:05.551109Z",
     "iopub.status.idle": "2024-06-08T12:55:06.167644Z",
     "shell.execute_reply": "2024-06-08T12:55:06.166631Z",
     "shell.execute_reply.started": "2024-06-08T12:55:05.551490Z"
    }
   },
   "outputs": [],
   "source": [
    "#df = pd.read_csv('previsao_de_renda.csv')\n",
    "\n",
    "df = pd.read_csv('/kaggle/input/previsao-de-renda/previsao_de_renda.csv')"
   ]
  },
  {
   "cell_type": "code",
   "execution_count": 36,
   "metadata": {
    "execution": {
     "iopub.execute_input": "2024-06-08T12:55:07.645251Z",
     "iopub.status.busy": "2024-06-08T12:55:07.644865Z",
     "iopub.status.idle": "2024-06-08T12:55:07.662517Z",
     "shell.execute_reply": "2024-06-08T12:55:07.661227Z",
     "shell.execute_reply.started": "2024-06-08T12:55:07.645212Z"
    }
   },
   "outputs": [
    {
     "name": "stdout",
     "output_type": "stream",
     "text": [
      "<class 'pandas.core.frame.DataFrame'>\n",
      "RangeIndex: 15000 entries, 0 to 14999\n",
      "Data columns (total 16 columns):\n",
      " #   Column                 Non-Null Count  Dtype  \n",
      "---  ------                 --------------  -----  \n",
      " 0   Unnamed: 0             15000 non-null  int64  \n",
      " 1   data_ref               15000 non-null  object \n",
      " 2   index                  15000 non-null  int64  \n",
      " 3   sexo                   15000 non-null  object \n",
      " 4   posse_de_veiculo       15000 non-null  bool   \n",
      " 5   posse_de_imovel        15000 non-null  bool   \n",
      " 6   qtd_filhos             15000 non-null  int64  \n",
      " 7   tipo_renda             15000 non-null  object \n",
      " 8   educacao               15000 non-null  object \n",
      " 9   estado_civil           15000 non-null  object \n",
      " 10  tipo_residencia        15000 non-null  object \n",
      " 11  idade                  15000 non-null  int64  \n",
      " 12  tempo_emprego          12466 non-null  float64\n",
      " 13  qt_pessoas_residencia  15000 non-null  float64\n",
      " 14  mau                    15000 non-null  bool   \n",
      " 15  renda                  15000 non-null  float64\n",
      "dtypes: bool(3), float64(3), int64(4), object(6)\n",
      "memory usage: 1.5+ MB\n"
     ]
    }
   ],
   "source": [
    "df.info()"
   ]
  },
  {
   "cell_type": "code",
   "execution_count": 37,
   "metadata": {
    "execution": {
     "iopub.execute_input": "2024-06-08T12:55:09.288165Z",
     "iopub.status.busy": "2024-06-08T12:55:09.287736Z",
     "iopub.status.idle": "2024-06-08T12:55:09.301697Z",
     "shell.execute_reply": "2024-06-08T12:55:09.300234Z",
     "shell.execute_reply.started": "2024-06-08T12:55:09.288132Z"
    }
   },
   "outputs": [],
   "source": [
    "#dropando os dados missing\n",
    "df = df.dropna()"
   ]
  },
  {
   "cell_type": "code",
   "execution_count": 38,
   "metadata": {
    "execution": {
     "iopub.execute_input": "2024-06-08T12:55:10.893375Z",
     "iopub.status.busy": "2024-06-08T12:55:10.893002Z",
     "iopub.status.idle": "2024-06-08T12:55:10.901647Z",
     "shell.execute_reply": "2024-06-08T12:55:10.900249Z",
     "shell.execute_reply.started": "2024-06-08T12:55:10.893345Z"
    }
   },
   "outputs": [],
   "source": [
    "#dropando colunas indesejadas\n",
    "df = df.drop(['Unnamed: 0','data_ref','index'], axis = 1)"
   ]
  },
  {
   "cell_type": "code",
   "execution_count": 39,
   "metadata": {
    "execution": {
     "iopub.execute_input": "2024-06-08T12:55:12.987370Z",
     "iopub.status.busy": "2024-06-08T12:55:12.986990Z",
     "iopub.status.idle": "2024-06-08T12:55:13.004362Z",
     "shell.execute_reply": "2024-06-08T12:55:13.003039Z",
     "shell.execute_reply.started": "2024-06-08T12:55:12.987338Z"
    }
   },
   "outputs": [
    {
     "name": "stdout",
     "output_type": "stream",
     "text": [
      "<class 'pandas.core.frame.DataFrame'>\n",
      "Index: 12466 entries, 0 to 14999\n",
      "Data columns (total 13 columns):\n",
      " #   Column                 Non-Null Count  Dtype  \n",
      "---  ------                 --------------  -----  \n",
      " 0   sexo                   12466 non-null  object \n",
      " 1   posse_de_veiculo       12466 non-null  bool   \n",
      " 2   posse_de_imovel        12466 non-null  bool   \n",
      " 3   qtd_filhos             12466 non-null  int64  \n",
      " 4   tipo_renda             12466 non-null  object \n",
      " 5   educacao               12466 non-null  object \n",
      " 6   estado_civil           12466 non-null  object \n",
      " 7   tipo_residencia        12466 non-null  object \n",
      " 8   idade                  12466 non-null  int64  \n",
      " 9   tempo_emprego          12466 non-null  float64\n",
      " 10  qt_pessoas_residencia  12466 non-null  float64\n",
      " 11  mau                    12466 non-null  bool   \n",
      " 12  renda                  12466 non-null  float64\n",
      "dtypes: bool(3), float64(3), int64(2), object(5)\n",
      "memory usage: 1.1+ MB\n"
     ]
    }
   ],
   "source": [
    "df.info()"
   ]
  },
  {
   "cell_type": "markdown",
   "metadata": {},
   "source": [
    "1. Separe a base em treinamento e teste (25% para teste, 75% para treinamento).\n",
    "2. Rode uma regularização *ridge* com alpha = [0, 0.001, 0.005, 0.01, 0.05, 0.1] e avalie o $R^2$ na base de testes. Qual o melhor modelo?\n",
    "3. Faça o mesmo que no passo 2, com uma regressão *LASSO*. Qual método chega a um melhor resultado?\n",
    "4. Rode um modelo *stepwise*. Avalie o $R^2$ na vase de testes. Qual o melhor resultado?\n",
    "5. Compare os parâmetros e avalie eventuais diferenças. Qual modelo você acha o melhor de todos?\n",
    "6. Partindo dos modelos que você ajustou, tente melhorar o $R^2$ na base de testes. Use a criatividade, veja se consegue inserir alguma transformação ou combinação de variáveis.\n",
    "7. Ajuste uma árvore de regressão e veja se consegue um $R^2$ melhor com ela."
   ]
  },
  {
   "cell_type": "code",
   "execution_count": 40,
   "metadata": {
    "execution": {
     "iopub.execute_input": "2024-06-08T12:55:16.491835Z",
     "iopub.status.busy": "2024-06-08T12:55:16.491024Z",
     "iopub.status.idle": "2024-06-08T12:55:16.502240Z",
     "shell.execute_reply": "2024-06-08T12:55:16.501066Z",
     "shell.execute_reply.started": "2024-06-08T12:55:16.491794Z"
    }
   },
   "outputs": [],
   "source": [
    "#Separando a base em 25% teste e 75% train\n",
    "\n",
    "df_train, df_test = train_test_split(df,test_size = 0.25, random_state =42) "
   ]
  },
  {
   "cell_type": "code",
   "execution_count": 13,
   "metadata": {
    "execution": {
     "iopub.execute_input": "2024-06-08T12:09:37.302457Z",
     "iopub.status.busy": "2024-06-08T12:09:37.302047Z",
     "iopub.status.idle": "2024-06-08T12:09:37.558006Z",
     "shell.execute_reply": "2024-06-08T12:09:37.556593Z",
     "shell.execute_reply.started": "2024-06-08T12:09:37.302422Z"
    }
   },
   "outputs": [],
   "source": [
    "#criando o modelo\n",
    "\n",
    "modelo = ''' renda ~ sexo\n",
    "                   + posse_de_veiculo\n",
    "                   + posse_de_imovel\n",
    "                   + qtd_filhos\n",
    "                   + tipo_renda\n",
    "                   + educacao\n",
    "                   + estado_civil\n",
    "                   + tipo_residencia\n",
    "                   + idade\n",
    "                   + tempo_emprego\n",
    "                   + qt_pessoas_residencia\n",
    "                   '''\n",
    "y_train_OLS, X_train_OLS = patsy.dmatrices(formula_like=modelo, data=df_train)\n",
    "y_test_OLS, X_test_OLS = patsy.dmatrices(formula_like=modelo, data=df_test)"
   ]
  },
  {
   "cell_type": "code",
   "execution_count": 41,
   "metadata": {
    "execution": {
     "iopub.execute_input": "2024-06-08T12:55:19.926733Z",
     "iopub.status.busy": "2024-06-08T12:55:19.925983Z",
     "iopub.status.idle": "2024-06-08T12:55:20.003146Z",
     "shell.execute_reply": "2024-06-08T12:55:20.001559Z",
     "shell.execute_reply.started": "2024-06-08T12:55:19.926682Z"
    }
   },
   "outputs": [],
   "source": [
    "#estrutura de repetiçao para calcular os valores de r2 para os alphas\n",
    "\n",
    "X_train_OLS = sm.add_constant(X_train_OLS)\n",
    "X_test_OLS = sm.add_constant(X_test_OLS)\n",
    "\n",
    "alphas = [0,0.001,0.005,0.01,0.05,0.1]\n",
    "r2_y_pred =[]\n",
    "\n",
    "for alpha in alphas:\n",
    "    modelo_OLS = sm.OLS(y_train_OLS, X_train_OLS)\n",
    "    reg = modelo_OLS.fit_regularized(method='elastic_net',\n",
    "                                     refit=True,\n",
    "                                     L1_wt=0, #ridge\n",
    "                                     alpha = alpha)\n",
    "    y_pred = reg.predict(X_test_OLS)\n",
    "    r2 = r2_score(y_test_OLS, y_pred)\n",
    "    r2_y_pred.append(r2)"
   ]
  },
  {
   "cell_type": "code",
   "execution_count": 42,
   "metadata": {
    "execution": {
     "iopub.execute_input": "2024-06-08T12:55:21.573835Z",
     "iopub.status.busy": "2024-06-08T12:55:21.573423Z",
     "iopub.status.idle": "2024-06-08T12:55:21.585994Z",
     "shell.execute_reply": "2024-06-08T12:55:21.584722Z",
     "shell.execute_reply.started": "2024-06-08T12:55:21.573801Z"
    }
   },
   "outputs": [
    {
     "data": {
      "text/html": [
       "<div>\n",
       "<style scoped>\n",
       "    .dataframe tbody tr th:only-of-type {\n",
       "        vertical-align: middle;\n",
       "    }\n",
       "\n",
       "    .dataframe tbody tr th {\n",
       "        vertical-align: top;\n",
       "    }\n",
       "\n",
       "    .dataframe thead th {\n",
       "        text-align: right;\n",
       "    }\n",
       "</style>\n",
       "<table border=\"1\" class=\"dataframe\">\n",
       "  <thead>\n",
       "    <tr style=\"text-align: right;\">\n",
       "      <th></th>\n",
       "      <th>alpha</th>\n",
       "      <th>R2</th>\n",
       "    </tr>\n",
       "  </thead>\n",
       "  <tbody>\n",
       "    <tr>\n",
       "      <th>0</th>\n",
       "      <td>0.000</td>\n",
       "      <td>0.207358</td>\n",
       "    </tr>\n",
       "    <tr>\n",
       "      <th>1</th>\n",
       "      <td>0.001</td>\n",
       "      <td>0.207839</td>\n",
       "    </tr>\n",
       "    <tr>\n",
       "      <th>2</th>\n",
       "      <td>0.005</td>\n",
       "      <td>0.208019</td>\n",
       "    </tr>\n",
       "    <tr>\n",
       "      <th>3</th>\n",
       "      <td>0.010</td>\n",
       "      <td>0.208002</td>\n",
       "    </tr>\n",
       "    <tr>\n",
       "      <th>4</th>\n",
       "      <td>0.050</td>\n",
       "      <td>0.205750</td>\n",
       "    </tr>\n",
       "    <tr>\n",
       "      <th>5</th>\n",
       "      <td>0.100</td>\n",
       "      <td>0.201833</td>\n",
       "    </tr>\n",
       "  </tbody>\n",
       "</table>\n",
       "</div>"
      ],
      "text/plain": [
       "   alpha        R2\n",
       "0  0.000  0.207358\n",
       "1  0.001  0.207839\n",
       "2  0.005  0.208019\n",
       "3  0.010  0.208002\n",
       "4  0.050  0.205750\n",
       "5  0.100  0.201833"
      ]
     },
     "execution_count": 42,
     "metadata": {},
     "output_type": "execute_result"
    }
   ],
   "source": [
    "#criando o dataframe com os alphas e respectivos r2\n",
    "\n",
    "pd.DataFrame({'alpha':alphas,\n",
    "              'R2': r2_y_pred})"
   ]
  },
  {
   "cell_type": "code",
   "execution_count": 43,
   "metadata": {
    "execution": {
     "iopub.execute_input": "2024-06-08T12:55:23.167567Z",
     "iopub.status.busy": "2024-06-08T12:55:23.166625Z",
     "iopub.status.idle": "2024-06-08T12:55:28.083343Z",
     "shell.execute_reply": "2024-06-08T12:55:28.082033Z",
     "shell.execute_reply.started": "2024-06-08T12:55:23.167525Z"
    }
   },
   "outputs": [],
   "source": [
    "#fazendo a regularizaçao Lasso\n",
    "\n",
    "r2_y_pred_lasso =[]\n",
    "\n",
    "for alpha in alphas:\n",
    "    modelo_OLS = sm.OLS(y_train_OLS, X_train_OLS)\n",
    "    reg = modelo_OLS.fit_regularized(method='elastic_net',\n",
    "                                     refit=True,\n",
    "                                     L1_wt=1, #Lasso\n",
    "                                     alpha = alpha)\n",
    "    y_pred = reg.predict(X_test_OLS)\n",
    "    r2 = r2_score(y_test_OLS, y_pred)\n",
    "    r2_y_pred_lasso.append(r2)"
   ]
  },
  {
   "cell_type": "code",
   "execution_count": 44,
   "metadata": {
    "execution": {
     "iopub.execute_input": "2024-06-08T12:55:29.683758Z",
     "iopub.status.busy": "2024-06-08T12:55:29.683265Z",
     "iopub.status.idle": "2024-06-08T12:55:29.695437Z",
     "shell.execute_reply": "2024-06-08T12:55:29.694323Z",
     "shell.execute_reply.started": "2024-06-08T12:55:29.683700Z"
    }
   },
   "outputs": [
    {
     "data": {
      "text/html": [
       "<div>\n",
       "<style scoped>\n",
       "    .dataframe tbody tr th:only-of-type {\n",
       "        vertical-align: middle;\n",
       "    }\n",
       "\n",
       "    .dataframe tbody tr th {\n",
       "        vertical-align: top;\n",
       "    }\n",
       "\n",
       "    .dataframe thead th {\n",
       "        text-align: right;\n",
       "    }\n",
       "</style>\n",
       "<table border=\"1\" class=\"dataframe\">\n",
       "  <thead>\n",
       "    <tr style=\"text-align: right;\">\n",
       "      <th></th>\n",
       "      <th>alpha</th>\n",
       "      <th>R2</th>\n",
       "    </tr>\n",
       "  </thead>\n",
       "  <tbody>\n",
       "    <tr>\n",
       "      <th>0</th>\n",
       "      <td>0.000</td>\n",
       "      <td>0.207358</td>\n",
       "    </tr>\n",
       "    <tr>\n",
       "      <th>1</th>\n",
       "      <td>0.001</td>\n",
       "      <td>0.207358</td>\n",
       "    </tr>\n",
       "    <tr>\n",
       "      <th>2</th>\n",
       "      <td>0.005</td>\n",
       "      <td>0.207358</td>\n",
       "    </tr>\n",
       "    <tr>\n",
       "      <th>3</th>\n",
       "      <td>0.010</td>\n",
       "      <td>0.207358</td>\n",
       "    </tr>\n",
       "    <tr>\n",
       "      <th>4</th>\n",
       "      <td>0.050</td>\n",
       "      <td>0.207358</td>\n",
       "    </tr>\n",
       "    <tr>\n",
       "      <th>5</th>\n",
       "      <td>0.100</td>\n",
       "      <td>0.207358</td>\n",
       "    </tr>\n",
       "  </tbody>\n",
       "</table>\n",
       "</div>"
      ],
      "text/plain": [
       "   alpha        R2\n",
       "0  0.000  0.207358\n",
       "1  0.001  0.207358\n",
       "2  0.005  0.207358\n",
       "3  0.010  0.207358\n",
       "4  0.050  0.207358\n",
       "5  0.100  0.207358"
      ]
     },
     "execution_count": 44,
     "metadata": {},
     "output_type": "execute_result"
    }
   ],
   "source": [
    "#criando o dataframe com os alphas e respectivos r2\n",
    "\n",
    "pd.DataFrame({'alpha':alphas,\n",
    "              'R2': r2_y_pred_lasso})"
   ]
  },
  {
   "cell_type": "code",
   "execution_count": 45,
   "metadata": {
    "execution": {
     "iopub.execute_input": "2024-06-08T12:55:31.555323Z",
     "iopub.status.busy": "2024-06-08T12:55:31.554917Z",
     "iopub.status.idle": "2024-06-08T12:55:31.586846Z",
     "shell.execute_reply": "2024-06-08T12:55:31.585735Z",
     "shell.execute_reply.started": "2024-06-08T12:55:31.555288Z"
    }
   },
   "outputs": [],
   "source": [
    "\n",
    "df_dummies = pd.get_dummies(data=df.dropna(), drop_first=True).astype(int)\n",
    "\n",
    "X = df_dummies.iloc[:, :-1]\n",
    "y = df_dummies.iloc[:, -1]\n",
    "\n",
    "X_train, X_test, y_train, y_test = train_test_split(X, y, test_size=0.25, random_state=42)\n"
   ]
  },
  {
   "cell_type": "code",
   "execution_count": 46,
   "metadata": {
    "execution": {
     "iopub.execute_input": "2024-06-08T12:55:32.921203Z",
     "iopub.status.busy": "2024-06-08T12:55:32.920818Z",
     "iopub.status.idle": "2024-06-08T12:55:34.002628Z",
     "shell.execute_reply": "2024-06-08T12:55:34.001381Z",
     "shell.execute_reply.started": "2024-06-08T12:55:32.921168Z"
    }
   },
   "outputs": [
    {
     "name": "stdout",
     "output_type": "stream",
     "text": [
      "Adicione  tipo_residencia_Casa           com p-value 1.36581e-224\n",
      "Adicione  tipo_residencia_Com os pais    com p-value 5.35263e-288\n",
      "Adicione  tipo_residencia_Estúdio        com p-value 2.46799e-134\n",
      "Adicione  tipo_residencia_Comunitário    com p-value 6.76633e-104\n",
      "Adicione  tempo_emprego                  com p-value 5.03423e-05\n",
      "Adicione  renda                          com p-value 0.000501871\n"
     ]
    }
   ],
   "source": [
    "def stepwise_selection(X, y, \n",
    "                       initial_list=[], \n",
    "                       threshold_in=0.01, \n",
    "                       threshold_out=0.05, \n",
    "                       verbose=True):\n",
    "    \n",
    "    included = list(initial_list)\n",
    "    while True:\n",
    "        changed = False\n",
    "        # forward step\n",
    "        excluded = list(set(X.columns) - set(included))\n",
    "        new_pval = pd.Series(dtype=float, index=excluded)\n",
    "        for new_column in excluded:\n",
    "            model = sm.OLS(y, sm.add_constant(pd.DataFrame(X[included + [new_column]]))).fit()\n",
    "            new_pval[new_column] = model.pvalues[new_column]\n",
    "        best_pval = new_pval.min()\n",
    "        if best_pval < threshold_in:\n",
    "            best_feature = new_pval.idxmin()\n",
    "            included.append(best_feature)\n",
    "            changed = True\n",
    "            if verbose:\n",
    "                print('Adicione  {:30} com p-value {:.6}'.format(best_feature, best_pval))\n",
    "\n",
    "        # backward step\n",
    "        model = sm.OLS(y, sm.add_constant(pd.DataFrame(X[included]))).fit()\n",
    "        # use all coefs except intercept\n",
    "        pvalues = model.pvalues.iloc[1:]\n",
    "        worst_pval = pvalues.max()  # null if pvalues is empty\n",
    "        if worst_pval > threshold_out:\n",
    "            worst_feature = pvalues.idxmax()\n",
    "            included.remove(worst_feature)\n",
    "            changed = True\n",
    "            if verbose:\n",
    "                print('Retire {:30} com p-value {:.6}'.format(worst_feature, worst_pval))\n",
    "        if not changed:\n",
    "            break\n",
    "    return included\n",
    "\n",
    "resposta = stepwise_selection(X_test, y_test)"
   ]
  },
  {
   "cell_type": "code",
   "execution_count": 47,
   "metadata": {
    "execution": {
     "iopub.execute_input": "2024-06-08T12:55:35.866393Z",
     "iopub.status.busy": "2024-06-08T12:55:35.865993Z",
     "iopub.status.idle": "2024-06-08T12:55:35.873700Z",
     "shell.execute_reply": "2024-06-08T12:55:35.872419Z",
     "shell.execute_reply.started": "2024-06-08T12:55:35.866360Z"
    }
   },
   "outputs": [
    {
     "data": {
      "text/plain": [
       "['tipo_residencia_Casa',\n",
       " 'tipo_residencia_Com os pais',\n",
       " 'tipo_residencia_Estúdio',\n",
       " 'tipo_residencia_Comunitário',\n",
       " 'tempo_emprego',\n",
       " 'renda']"
      ]
     },
     "execution_count": 47,
     "metadata": {},
     "output_type": "execute_result"
    }
   ],
   "source": [
    "resposta"
   ]
  },
  {
   "cell_type": "code",
   "execution_count": 48,
   "metadata": {
    "execution": {
     "iopub.execute_input": "2024-06-08T12:55:37.472104Z",
     "iopub.status.busy": "2024-06-08T12:55:37.471676Z",
     "iopub.status.idle": "2024-06-08T12:55:37.491820Z",
     "shell.execute_reply": "2024-06-08T12:55:37.490512Z",
     "shell.execute_reply.started": "2024-06-08T12:55:37.472070Z"
    }
   },
   "outputs": [
    {
     "name": "stdout",
     "output_type": "stream",
     "text": [
      "valor R-squared: 1.0\n"
     ]
    }
   ],
   "source": [
    "X = df_dummies[resposta]\n",
    "y = df_dummies['renda']\n",
    "X_train, X_test, y_train, y_test = train_test_split(X, y, test_size=0.25, random_state=42)\n",
    "\n",
    "y_pred = sm.OLS(y_train, X_train).fit().predict(X_test)\n",
    "print(f'valor R-squared: {r2_score(y_test, y_pred)}')"
   ]
  },
  {
   "cell_type": "markdown",
   "metadata": {},
   "source": [
    "O Melhore resultado foi o r2 do modelo stepwise que apresentou 1.0 como valor. Ainda avaliando os modelos o melhor modelo apresentado foi o modelo com o metodo de regularizacao stepwise."
   ]
  },
  {
   "cell_type": "markdown",
   "metadata": {},
   "source": [
    "Comparando as regularizaçoes, o modelo com a regularizaçao Ridge teve 2 r2 melhores para 2 alphas que a regularizaçao Lasso que todos os valores para os alphas foram os mesmos. Comparando com o modelo com stepwise a diferença foi muito grande, atingindo um r2 de 1.0. "
   ]
  },
  {
   "cell_type": "markdown",
   "metadata": {},
   "source": [
    "Devido ao modelo stepwise ter encontrado um r2 com 1.0, se mostrou o melhor r2 possivel para chegar, nao sendo necessario realizar modificaçoes em variaveis."
   ]
  },
  {
   "cell_type": "code",
   "execution_count": 49,
   "metadata": {
    "execution": {
     "iopub.execute_input": "2024-06-08T12:55:40.638382Z",
     "iopub.status.busy": "2024-06-08T12:55:40.638001Z",
     "iopub.status.idle": "2024-06-08T12:55:40.646025Z",
     "shell.execute_reply": "2024-06-08T12:55:40.644854Z",
     "shell.execute_reply.started": "2024-06-08T12:55:40.638349Z"
    }
   },
   "outputs": [],
   "source": [
    "# criando a variavel de classificaçao\n",
    "\n",
    "clf = DecisionTreeClassifier(random_state = 100)"
   ]
  },
  {
   "cell_type": "code",
   "execution_count": 50,
   "metadata": {
    "execution": {
     "iopub.execute_input": "2024-06-08T12:55:42.141883Z",
     "iopub.status.busy": "2024-06-08T12:55:42.141400Z",
     "iopub.status.idle": "2024-06-08T12:55:42.683945Z",
     "shell.execute_reply": "2024-06-08T12:55:42.682692Z",
     "shell.execute_reply.started": "2024-06-08T12:55:42.141850Z"
    }
   },
   "outputs": [],
   "source": [
    "clf = clf.fit(X_test,y_test)"
   ]
  },
  {
   "cell_type": "code",
   "execution_count": null,
   "metadata": {},
   "outputs": [],
   "source": [
    "plt.figure(figsize=(15,20))\n",
    "plot_tree(clf,\n",
    "          filled=True,\n",
    "          rounded=True,\n",
    "          feature_names=X_test.columns)"
   ]
  },
  {
   "cell_type": "code",
   "execution_count": 51,
   "metadata": {
    "execution": {
     "iopub.execute_input": "2024-06-08T12:56:40.562180Z",
     "iopub.status.busy": "2024-06-08T12:56:40.561711Z",
     "iopub.status.idle": "2024-06-08T12:56:40.608269Z",
     "shell.execute_reply": "2024-06-08T12:56:40.607099Z",
     "shell.execute_reply.started": "2024-06-08T12:56:40.562147Z"
    }
   },
   "outputs": [],
   "source": [
    "predictreg = clf.predict(X_test)"
   ]
  },
  {
   "cell_type": "code",
   "execution_count": 52,
   "metadata": {
    "execution": {
     "iopub.execute_input": "2024-06-08T12:57:18.241714Z",
     "iopub.status.busy": "2024-06-08T12:57:18.241325Z",
     "iopub.status.idle": "2024-06-08T12:57:18.251098Z",
     "shell.execute_reply": "2024-06-08T12:57:18.250038Z",
     "shell.execute_reply.started": "2024-06-08T12:57:18.241679Z"
    }
   },
   "outputs": [
    {
     "data": {
      "text/plain": [
       "1.0"
      ]
     },
     "execution_count": 52,
     "metadata": {},
     "output_type": "execute_result"
    }
   ],
   "source": [
    "r2_score(y_test,predictreg)"
   ]
  },
  {
   "cell_type": "markdown",
   "metadata": {},
   "source": [
    "O R2 obtido pela arvore foi tambem o melhor r2 obtido pelo modelo stepwise. Com um r2 = 1.0"
   ]
  }
 ],
 "metadata": {
  "kaggle": {
   "accelerator": "none",
   "dataSources": [
    {
     "datasetId": 5048302,
     "sourceId": 8467256,
     "sourceType": "datasetVersion"
    }
   ],
   "dockerImageVersionId": 30732,
   "isGpuEnabled": false,
   "isInternetEnabled": true,
   "language": "python",
   "sourceType": "notebook"
  },
  "kernelspec": {
   "display_name": "Python 3 (ipykernel)",
   "language": "python",
   "name": "python3"
  },
  "language_info": {
   "codemirror_mode": {
    "name": "ipython",
    "version": 3
   },
   "file_extension": ".py",
   "mimetype": "text/x-python",
   "name": "python",
   "nbconvert_exporter": "python",
   "pygments_lexer": "ipython3",
   "version": "3.12.4"
  }
 },
 "nbformat": 4,
 "nbformat_minor": 4
}
