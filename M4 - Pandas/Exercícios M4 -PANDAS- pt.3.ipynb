{
 "cells": [
  {
   "cell_type": "markdown",
   "metadata": {},
   "source": [
    "# Tarefa 03\n",
    "\n",
    "- Leia os enunciados com atenção\n",
    "- Saiba que pode haver mais de uma resposta correta\n",
    "- Insira novas células de código sempre que achar necessário\n",
    "- Em caso de dúvidas, procure os Tutores\n",
    "- Divirta-se :)"
   ]
  },
  {
   "cell_type": "code",
   "execution_count": 1,
   "metadata": {},
   "outputs": [],
   "source": [
    "import pandas as pd\n",
    "import requests"
   ]
  },
  {
   "cell_type": "markdown",
   "metadata": {},
   "source": [
    "####  1) Lendo de APIs\n",
    "Vimos em aula como carregar dados públicos do governo através de um API (*Application Programming Interface*). No exemplo de aula, baixamos os dados de pedidos de verificação de limites (PVL) realizados por estados, e selecionamos apenas aqueles referentes ao estado de São Paulo.\n",
    "\n",
    "1. Repita os mesmos passos feitos em aula, mas selecione os PVLs realizados por municípios no estado do Rio de Janeiro.\n",
    "2. Quais são os três *status* das solicitações mais frequentes na base? Quais são suas frequências?\n",
    "3. Construa uma nova variável que contenha o ano do **status**. Observe que ```data_status``` vem como tipo *object* no **DataFrame**. Dica: você pode usar o método ```.str``` para transformar o tipo da variável em string, em seguida um método como [**slice()**](https://pandas.pydata.org/docs/reference/api/pandas.Series.str.slice.html) ou [**split()**](https://pandas.pydata.org/pandas-docs/stable/reference/api/pandas.Series.str.split.html).\n",
    "4. Indique a frequência de cada ano do campo construído no item (3)."
   ]
  },
  {
   "cell_type": "code",
   "execution_count": 2,
   "metadata": {},
   "outputs": [],
   "source": [
    "# 1) Seu código aqui\n",
    "URL = 'http://apidatalake.tesouro.gov.br/ords/sadipem/tt/pvl?uf=RJ&tipo_interessado=Município'"
   ]
  },
  {
   "cell_type": "code",
   "execution_count": 3,
   "metadata": {},
   "outputs": [],
   "source": [
    "r = requests.get(URL)"
   ]
  },
  {
   "cell_type": "code",
   "execution_count": 4,
   "metadata": {},
   "outputs": [],
   "source": [
    "data_json = r.json()"
   ]
  },
  {
   "cell_type": "code",
   "execution_count": 5,
   "metadata": {},
   "outputs": [],
   "source": [
    "df = pd.DataFrame(data_json['items'])"
   ]
  },
  {
   "cell_type": "code",
   "execution_count": 6,
   "metadata": {
    "scrolled": true
   },
   "outputs": [
    {
     "data": {
      "text/html": [
       "<div>\n",
       "<style scoped>\n",
       "    .dataframe tbody tr th:only-of-type {\n",
       "        vertical-align: middle;\n",
       "    }\n",
       "\n",
       "    .dataframe tbody tr th {\n",
       "        vertical-align: top;\n",
       "    }\n",
       "\n",
       "    .dataframe thead th {\n",
       "        text-align: right;\n",
       "    }\n",
       "</style>\n",
       "<table border=\"1\" class=\"dataframe\">\n",
       "  <thead>\n",
       "    <tr style=\"text-align: right;\">\n",
       "      <th></th>\n",
       "      <th>id_pleito</th>\n",
       "      <th>tipo_interessado</th>\n",
       "      <th>interessado</th>\n",
       "      <th>cod_ibge</th>\n",
       "      <th>uf</th>\n",
       "      <th>num_pvl</th>\n",
       "      <th>status</th>\n",
       "      <th>num_processo</th>\n",
       "      <th>data_protocolo</th>\n",
       "      <th>tipo_operacao</th>\n",
       "      <th>finalidade</th>\n",
       "      <th>tipo_credor</th>\n",
       "      <th>credor</th>\n",
       "      <th>moeda</th>\n",
       "      <th>valor</th>\n",
       "      <th>pvl_assoc_divida</th>\n",
       "      <th>pvl_contradado_credor</th>\n",
       "      <th>data_status</th>\n",
       "    </tr>\n",
       "  </thead>\n",
       "  <tbody>\n",
       "    <tr>\n",
       "      <th>0</th>\n",
       "      <td>7993</td>\n",
       "      <td>Município</td>\n",
       "      <td>Rio Claro</td>\n",
       "      <td>3304409</td>\n",
       "      <td>RJ</td>\n",
       "      <td>None</td>\n",
       "      <td>Deferido</td>\n",
       "      <td>17944.000691/2010-74</td>\n",
       "      <td>2011-06-01T03:00:00Z</td>\n",
       "      <td>Operação contratual interna</td>\n",
       "      <td>Caminho da Escola 2009 A</td>\n",
       "      <td>Instituição Financeira Nacional</td>\n",
       "      <td>Banco do Brasil S/A</td>\n",
       "      <td>Real</td>\n",
       "      <td>584500.0</td>\n",
       "      <td>0</td>\n",
       "      <td>0</td>\n",
       "      <td>22/07/2011</td>\n",
       "    </tr>\n",
       "    <tr>\n",
       "      <th>1</th>\n",
       "      <td>8005</td>\n",
       "      <td>Município</td>\n",
       "      <td>Paraíba do Sul</td>\n",
       "      <td>3303708</td>\n",
       "      <td>RJ</td>\n",
       "      <td>None</td>\n",
       "      <td>Arquivado por decurso de prazo</td>\n",
       "      <td>17944.000693/2014-97</td>\n",
       "      <td>2015-02-18T02:00:00Z</td>\n",
       "      <td>Operação contratual interna</td>\n",
       "      <td>PAC 2 - Pró-Transporte - Pavimentação e Qualif...</td>\n",
       "      <td>Instituição Financeira Nacional</td>\n",
       "      <td>Caixa Econômica Federal</td>\n",
       "      <td>Real</td>\n",
       "      <td>5800000.0</td>\n",
       "      <td>0</td>\n",
       "      <td>0</td>\n",
       "      <td>25/03/2015</td>\n",
       "    </tr>\n",
       "    <tr>\n",
       "      <th>2</th>\n",
       "      <td>6981</td>\n",
       "      <td>Município</td>\n",
       "      <td>Rio de Janeiro</td>\n",
       "      <td>3304557</td>\n",
       "      <td>RJ</td>\n",
       "      <td>None</td>\n",
       "      <td>Deferido</td>\n",
       "      <td>17944.000472/2007-90</td>\n",
       "      <td>2007-04-30T03:00:00Z</td>\n",
       "      <td>Operação contratual interna</td>\n",
       "      <td>Saneamento básico</td>\n",
       "      <td>Instituição Financeira Nacional</td>\n",
       "      <td>Caixa Econômica Federal</td>\n",
       "      <td>Real</td>\n",
       "      <td>7403640.0</td>\n",
       "      <td>1</td>\n",
       "      <td>0</td>\n",
       "      <td>25/05/2007</td>\n",
       "    </tr>\n",
       "  </tbody>\n",
       "</table>\n",
       "</div>"
      ],
      "text/plain": [
       "   id_pleito tipo_interessado     interessado  cod_ibge  uf num_pvl  \\\n",
       "0       7993        Município       Rio Claro   3304409  RJ    None   \n",
       "1       8005        Município  Paraíba do Sul   3303708  RJ    None   \n",
       "2       6981        Município  Rio de Janeiro   3304557  RJ    None   \n",
       "\n",
       "                           status          num_processo        data_protocolo  \\\n",
       "0                        Deferido  17944.000691/2010-74  2011-06-01T03:00:00Z   \n",
       "1  Arquivado por decurso de prazo  17944.000693/2014-97  2015-02-18T02:00:00Z   \n",
       "2                        Deferido  17944.000472/2007-90  2007-04-30T03:00:00Z   \n",
       "\n",
       "                 tipo_operacao  \\\n",
       "0  Operação contratual interna   \n",
       "1  Operação contratual interna   \n",
       "2  Operação contratual interna   \n",
       "\n",
       "                                          finalidade  \\\n",
       "0                           Caminho da Escola 2009 A   \n",
       "1  PAC 2 - Pró-Transporte - Pavimentação e Qualif...   \n",
       "2                                  Saneamento básico   \n",
       "\n",
       "                       tipo_credor                   credor moeda      valor  \\\n",
       "0  Instituição Financeira Nacional      Banco do Brasil S/A  Real   584500.0   \n",
       "1  Instituição Financeira Nacional  Caixa Econômica Federal  Real  5800000.0   \n",
       "2  Instituição Financeira Nacional  Caixa Econômica Federal  Real  7403640.0   \n",
       "\n",
       "   pvl_assoc_divida  pvl_contradado_credor data_status  \n",
       "0                 0                      0  22/07/2011  \n",
       "1                 0                      0  25/03/2015  \n",
       "2                 1                      0  25/05/2007  "
      ]
     },
     "execution_count": 6,
     "metadata": {},
     "output_type": "execute_result"
    }
   ],
   "source": [
    "df.head(3)"
   ]
  },
  {
   "cell_type": "code",
   "execution_count": 7,
   "metadata": {},
   "outputs": [
    {
     "data": {
      "text/plain": [
       "id_pleito                  int64\n",
       "tipo_interessado          object\n",
       "interessado               object\n",
       "cod_ibge                   int64\n",
       "uf                        object\n",
       "num_pvl                   object\n",
       "status                    object\n",
       "num_processo              object\n",
       "data_protocolo            object\n",
       "tipo_operacao             object\n",
       "finalidade                object\n",
       "tipo_credor               object\n",
       "credor                    object\n",
       "moeda                     object\n",
       "valor                    float64\n",
       "pvl_assoc_divida           int64\n",
       "pvl_contradado_credor      int64\n",
       "data_status               object\n",
       "dtype: object"
      ]
     },
     "execution_count": 7,
     "metadata": {},
     "output_type": "execute_result"
    }
   ],
   "source": [
    "df.dtypes #verica os tipos de dados"
   ]
  },
  {
   "cell_type": "code",
   "execution_count": 8,
   "metadata": {
    "scrolled": true
   },
   "outputs": [
    {
     "data": {
      "text/plain": [
       "status\n",
       "Deferido                                                 106\n",
       "Arquivado                                                 53\n",
       "Regularizado                                              26\n",
       "Arquivado por decurso de prazo                            24\n",
       "Deferido (PVL-IF)                                         24\n",
       "Encaminhado à PGFN com manifestação técnica favorável     14\n",
       "Arquivado a pedido                                         8\n",
       "Em análise                                                 2\n",
       "Em retificação pelo interessado                            2\n",
       "Arquivado a pedido (PVL-IF)                                1\n",
       "Em retificação pelo credor                                 1\n",
       "Arquivado pela STN                                         1\n",
       "Name: count, dtype: int64"
      ]
     },
     "execution_count": 8,
     "metadata": {},
     "output_type": "execute_result"
    }
   ],
   "source": [
    "# 2) Seu código aqui\n",
    "# conferindo os status mais frequentes\n",
    "df.status.value_counts()"
   ]
  },
  {
   "cell_type": "code",
   "execution_count": 41,
   "metadata": {},
   "outputs": [
    {
     "name": "stdout",
     "output_type": "stream",
     "text": [
      "O status Deferido com uma frequencia de 106 vezes.\n",
      "O status Arquivado com uma frequencia de 53 vezes.\n",
      "O status Regularizado com uma frequencia de 26 vezes.\n"
     ]
    }
   ],
   "source": [
    "# os status mais frenquentes foram\n",
    "# Deferido, Deferido (PVL-IF) e Arquivado\n",
    "statusfreq = df.status.value_counts()\n",
    "print('O status Deferido com uma frequencia de',statusfreq.iloc[0],'vezes.')\n",
    "print('O status Arquivado com uma frequencia de',statusfreq.iloc[1],'vezes.')\n",
    "print('O status Regularizado com uma frequencia de',statusfreq.iloc[2],'vezes.')"
   ]
  },
  {
   "cell_type": "code",
   "execution_count": 10,
   "metadata": {},
   "outputs": [],
   "source": [
    "# 3) Seu código aqui\n",
    "df['data_status'] = df['data_status'].astype(str)"
   ]
  },
  {
   "cell_type": "code",
   "execution_count": 11,
   "metadata": {},
   "outputs": [],
   "source": [
    "df['ano_status'] = df['data_status'].str.split('/').str[2]"
   ]
  },
  {
   "cell_type": "code",
   "execution_count": 42,
   "metadata": {},
   "outputs": [
    {
     "data": {
      "text/plain": [
       "ano_status\n",
       "2008    37\n",
       "2007    29\n",
       "2023    28\n",
       "2014    20\n",
       "2010    19\n",
       "2019    16\n",
       "2020    15\n",
       "2013    15\n",
       "2012    13\n",
       "2022    11\n",
       "2011    10\n",
       "2009     9\n",
       "2015     8\n",
       "2021     5\n",
       "2017     5\n",
       "2018     4\n",
       "2016     4\n",
       "2002     4\n",
       "2024     4\n",
       "2006     4\n",
       "2003     1\n",
       "2004     1\n",
       "Name: count, dtype: int64"
      ]
     },
     "execution_count": 42,
     "metadata": {},
     "output_type": "execute_result"
    }
   ],
   "source": [
    "#4) Frequencia de cada ano\n",
    "ano_freq = df.ano_status.value_counts() \n",
    "ano_freq"
   ]
  },
  {
   "cell_type": "markdown",
   "metadata": {},
   "source": [
    "####  2) Melhorando a interação com o API\n",
    "Observe dois URLs de consultas diferentes, por exemplo o URL utilizado em aula, e o URL feito no exercício anterior. Compare-os e observe as diferenças.\n",
    "\n",
    "1. Faça uma função em Python que recebe como argumento o UF da consulta e o tipo de interessado (```'Estado'```ou ```Município```), e que devolve os dados da consulta no formato *DataFrame*.\n",
    "2. Quantas solicitações para o Estado podem ser consultadas para Minas Gerais com *status* em 'Arquivado por decurso de prazo' estão registradas?\n",
    "3. Qual é o município da Bahia com mais solicitações deferidas?\n",
    "4. Salve um arquivo .csv com os dados de solicitações da Bahia, com interessado = 'Estado'"
   ]
  },
  {
   "cell_type": "code",
   "execution_count": 17,
   "metadata": {},
   "outputs": [],
   "source": [
    "#1) Faça uma função em Python que recebe como argumento o UF da consulta e o tipo de interessado ('Estado'ou Município),\n",
    "#   e que devolve os dados da consulta no formato DataFrame.\n",
    "def estado_de_interesse(UF,tipo_interessado):\n",
    "    URL = f'https://apidatalake.tesouro.gov.br/ords/sadipem/tt/pvl?uf={UF}&tipo_interessado={tipo_interessado}'\n",
    "    r = requests.get(URL)\n",
    "    if r.status_code == 200:\n",
    "        data_json = r.json()\n",
    "        df = pd.DataFrame(data_json['items'])\n",
    "        return df\n",
    "    else:\n",
    "        return('Erro ao fazer o request. Erro: {r.status_code}')"
   ]
  },
  {
   "cell_type": "code",
   "execution_count": 18,
   "metadata": {},
   "outputs": [],
   "source": [
    "# 2) Quantas solicitações para o Estado podem ser consultadas para Minas Gerais com status em 'Arquivado por decurso de prazo'\n",
    "#    estão registradas?\n",
    "UF = 'MG'\n",
    "tipo_interessado = 'Estado'"
   ]
  },
  {
   "cell_type": "code",
   "execution_count": 19,
   "metadata": {},
   "outputs": [],
   "source": [
    "df_MG = estado_de_interesse(UF,tipo_interessado)"
   ]
  },
  {
   "cell_type": "code",
   "execution_count": 20,
   "metadata": {},
   "outputs": [
    {
     "data": {
      "text/html": [
       "<div>\n",
       "<style scoped>\n",
       "    .dataframe tbody tr th:only-of-type {\n",
       "        vertical-align: middle;\n",
       "    }\n",
       "\n",
       "    .dataframe tbody tr th {\n",
       "        vertical-align: top;\n",
       "    }\n",
       "\n",
       "    .dataframe thead th {\n",
       "        text-align: right;\n",
       "    }\n",
       "</style>\n",
       "<table border=\"1\" class=\"dataframe\">\n",
       "  <thead>\n",
       "    <tr style=\"text-align: right;\">\n",
       "      <th></th>\n",
       "      <th>id_pleito</th>\n",
       "      <th>tipo_interessado</th>\n",
       "      <th>interessado</th>\n",
       "      <th>cod_ibge</th>\n",
       "      <th>uf</th>\n",
       "      <th>num_pvl</th>\n",
       "      <th>status</th>\n",
       "      <th>num_processo</th>\n",
       "      <th>data_protocolo</th>\n",
       "      <th>tipo_operacao</th>\n",
       "      <th>finalidade</th>\n",
       "      <th>tipo_credor</th>\n",
       "      <th>credor</th>\n",
       "      <th>moeda</th>\n",
       "      <th>valor</th>\n",
       "      <th>pvl_assoc_divida</th>\n",
       "      <th>pvl_contradado_credor</th>\n",
       "      <th>data_status</th>\n",
       "    </tr>\n",
       "  </thead>\n",
       "  <tbody>\n",
       "    <tr>\n",
       "      <th>0</th>\n",
       "      <td>13695</td>\n",
       "      <td>Estado</td>\n",
       "      <td>Minas Gerais</td>\n",
       "      <td>31</td>\n",
       "      <td>MG</td>\n",
       "      <td>None</td>\n",
       "      <td>Arquivado</td>\n",
       "      <td>19405.000053/2003-57</td>\n",
       "      <td>2003-08-25T03:00:00Z</td>\n",
       "      <td>Operação contratual externa (com garantia da U...</td>\n",
       "      <td>Infraestrutura</td>\n",
       "      <td>Instituição Financeira Internacional</td>\n",
       "      <td>Banco Internacional para Reconstrução e Desenv...</td>\n",
       "      <td>Dólar dos EUA</td>\n",
       "      <td>35000000.0</td>\n",
       "      <td>0</td>\n",
       "      <td>0</td>\n",
       "      <td>20/02/2004</td>\n",
       "    </tr>\n",
       "    <tr>\n",
       "      <th>1</th>\n",
       "      <td>13587</td>\n",
       "      <td>Estado</td>\n",
       "      <td>Minas Gerais</td>\n",
       "      <td>31</td>\n",
       "      <td>MG</td>\n",
       "      <td>None</td>\n",
       "      <td>Encaminhado à PGFN com manifestação técnica fa...</td>\n",
       "      <td>19405.000031/2004-78</td>\n",
       "      <td>2004-11-27T02:00:00Z</td>\n",
       "      <td>Operação contratual externa (com garantia da U...</td>\n",
       "      <td>Desenvolvimento rural</td>\n",
       "      <td>Instituição Financeira Internacional</td>\n",
       "      <td>Banco Internacional para Reconstrução e Desenv...</td>\n",
       "      <td>Dólar dos EUA</td>\n",
       "      <td>35000000.0</td>\n",
       "      <td>1</td>\n",
       "      <td>0</td>\n",
       "      <td>09/12/2004</td>\n",
       "    </tr>\n",
       "  </tbody>\n",
       "</table>\n",
       "</div>"
      ],
      "text/plain": [
       "   id_pleito tipo_interessado   interessado  cod_ibge  uf num_pvl  \\\n",
       "0      13695           Estado  Minas Gerais        31  MG    None   \n",
       "1      13587           Estado  Minas Gerais        31  MG    None   \n",
       "\n",
       "                                              status          num_processo  \\\n",
       "0                                          Arquivado  19405.000053/2003-57   \n",
       "1  Encaminhado à PGFN com manifestação técnica fa...  19405.000031/2004-78   \n",
       "\n",
       "         data_protocolo                                      tipo_operacao  \\\n",
       "0  2003-08-25T03:00:00Z  Operação contratual externa (com garantia da U...   \n",
       "1  2004-11-27T02:00:00Z  Operação contratual externa (com garantia da U...   \n",
       "\n",
       "              finalidade                           tipo_credor  \\\n",
       "0         Infraestrutura  Instituição Financeira Internacional   \n",
       "1  Desenvolvimento rural  Instituição Financeira Internacional   \n",
       "\n",
       "                                              credor          moeda  \\\n",
       "0  Banco Internacional para Reconstrução e Desenv...  Dólar dos EUA   \n",
       "1  Banco Internacional para Reconstrução e Desenv...  Dólar dos EUA   \n",
       "\n",
       "        valor  pvl_assoc_divida  pvl_contradado_credor data_status  \n",
       "0  35000000.0                 0                      0  20/02/2004  \n",
       "1  35000000.0                 1                      0  09/12/2004  "
      ]
     },
     "execution_count": 20,
     "metadata": {},
     "output_type": "execute_result"
    }
   ],
   "source": [
    "df_MG.head(2)"
   ]
  },
  {
   "cell_type": "code",
   "execution_count": 21,
   "metadata": {},
   "outputs": [
    {
     "data": {
      "text/plain": [
       "status\n",
       "Encaminhado à PGFN com manifestação técnica favorável    20\n",
       "Deferido                                                  7\n",
       "Arquivado a pedido                                        5\n",
       "Arquivado                                                 3\n",
       "Arquivado pela STN                                        3\n",
       "Indeferido                                                1\n",
       "Em retificação pelo interessado                           1\n",
       "Arquivado por decurso de prazo                            1\n",
       "Name: count, dtype: int64"
      ]
     },
     "execution_count": 21,
     "metadata": {},
     "output_type": "execute_result"
    }
   ],
   "source": [
    "status_mg = df_MG.status.value_counts()\n",
    "status_mg "
   ]
  },
  {
   "cell_type": "code",
   "execution_count": 23,
   "metadata": {},
   "outputs": [
    {
     "name": "stdout",
     "output_type": "stream",
     "text": [
      "O status arquivado por decurso de prazo possui 1 registros.\n"
     ]
    }
   ],
   "source": [
    "# Imprimindo apenas o status pedido\n",
    "print('O status arquivado por decurso de prazo possui',status_mg.iloc[-1],'registros.')"
   ]
  },
  {
   "cell_type": "code",
   "execution_count": 24,
   "metadata": {},
   "outputs": [],
   "source": [
    "# 3) Qual é o município da Bahia com mais solicitações deferidas?\n",
    "UF1 = 'BA'\n",
    "tipo_interessado1 = 'Município'\n",
    "df_BA = estado_de_interesse(UF1,tipo_interessado1)"
   ]
  },
  {
   "cell_type": "code",
   "execution_count": 33,
   "metadata": {},
   "outputs": [
    {
     "data": {
      "text/html": [
       "<div>\n",
       "<style scoped>\n",
       "    .dataframe tbody tr th:only-of-type {\n",
       "        vertical-align: middle;\n",
       "    }\n",
       "\n",
       "    .dataframe tbody tr th {\n",
       "        vertical-align: top;\n",
       "    }\n",
       "\n",
       "    .dataframe thead th {\n",
       "        text-align: right;\n",
       "    }\n",
       "</style>\n",
       "<table border=\"1\" class=\"dataframe\">\n",
       "  <thead>\n",
       "    <tr style=\"text-align: right;\">\n",
       "      <th></th>\n",
       "      <th>id_pleito</th>\n",
       "      <th>tipo_interessado</th>\n",
       "      <th>interessado</th>\n",
       "      <th>cod_ibge</th>\n",
       "      <th>uf</th>\n",
       "      <th>num_pvl</th>\n",
       "      <th>status</th>\n",
       "      <th>num_processo</th>\n",
       "      <th>data_protocolo</th>\n",
       "      <th>tipo_operacao</th>\n",
       "      <th>finalidade</th>\n",
       "      <th>tipo_credor</th>\n",
       "      <th>credor</th>\n",
       "      <th>moeda</th>\n",
       "      <th>valor</th>\n",
       "      <th>pvl_assoc_divida</th>\n",
       "      <th>pvl_contradado_credor</th>\n",
       "      <th>data_status</th>\n",
       "    </tr>\n",
       "  </thead>\n",
       "  <tbody>\n",
       "    <tr>\n",
       "      <th>0</th>\n",
       "      <td>7069</td>\n",
       "      <td>Município</td>\n",
       "      <td>Mucugê</td>\n",
       "      <td>2921906</td>\n",
       "      <td>BA</td>\n",
       "      <td>None</td>\n",
       "      <td>Deferido</td>\n",
       "      <td>17944.000490/2010-77</td>\n",
       "      <td>2010-04-28T03:00:00Z</td>\n",
       "      <td>Operação contratual interna</td>\n",
       "      <td>Aquisição de máquinas, equipamentos e veículos</td>\n",
       "      <td>Instituição Financeira Nacional</td>\n",
       "      <td>Agência de Fomento do Estado da Bahia S/A</td>\n",
       "      <td>Real</td>\n",
       "      <td>65000.0</td>\n",
       "      <td>0</td>\n",
       "      <td>0</td>\n",
       "      <td>20/05/2010</td>\n",
       "    </tr>\n",
       "    <tr>\n",
       "      <th>1</th>\n",
       "      <td>7806</td>\n",
       "      <td>Município</td>\n",
       "      <td>Baianópolis</td>\n",
       "      <td>2902500</td>\n",
       "      <td>BA</td>\n",
       "      <td>None</td>\n",
       "      <td>Deferido</td>\n",
       "      <td>17944.000658/2012-14</td>\n",
       "      <td>2012-05-03T03:00:00Z</td>\n",
       "      <td>Operação contratual interna</td>\n",
       "      <td>Infraestrutura</td>\n",
       "      <td>Instituição Financeira Nacional</td>\n",
       "      <td>Agência de Fomento do Estado da Bahia S/A</td>\n",
       "      <td>Real</td>\n",
       "      <td>900000.0</td>\n",
       "      <td>0</td>\n",
       "      <td>0</td>\n",
       "      <td>29/05/2012</td>\n",
       "    </tr>\n",
       "    <tr>\n",
       "      <th>2</th>\n",
       "      <td>11837</td>\n",
       "      <td>Município</td>\n",
       "      <td>Bonito</td>\n",
       "      <td>2904050</td>\n",
       "      <td>BA</td>\n",
       "      <td>None</td>\n",
       "      <td>Arquivado por decurso de prazo</td>\n",
       "      <td>17944.001539/2013-51</td>\n",
       "      <td>2013-11-01T02:00:00Z</td>\n",
       "      <td>Operação contratual interna</td>\n",
       "      <td>Aquisição de máquinas, equipamentos e veículos</td>\n",
       "      <td>Instituição Financeira Nacional</td>\n",
       "      <td>Agência de Fomento do Estado da Bahia S/A</td>\n",
       "      <td>Real</td>\n",
       "      <td>300000.0</td>\n",
       "      <td>0</td>\n",
       "      <td>0</td>\n",
       "      <td>08/09/2014</td>\n",
       "    </tr>\n",
       "    <tr>\n",
       "      <th>3</th>\n",
       "      <td>11616</td>\n",
       "      <td>Município</td>\n",
       "      <td>Coribe</td>\n",
       "      <td>2909109</td>\n",
       "      <td>BA</td>\n",
       "      <td>None</td>\n",
       "      <td>Arquivado</td>\n",
       "      <td>17944.001489/2007-64</td>\n",
       "      <td>2008-01-07T02:00:00Z</td>\n",
       "      <td>Operação contratual interna</td>\n",
       "      <td>Aquisição de máquinas, equipamentos e veículos</td>\n",
       "      <td>Instituição Financeira Nacional</td>\n",
       "      <td>Agência de Fomento do Estado da Bahia S/A</td>\n",
       "      <td>Real</td>\n",
       "      <td>500000.0</td>\n",
       "      <td>0</td>\n",
       "      <td>0</td>\n",
       "      <td>11/01/2008</td>\n",
       "    </tr>\n",
       "    <tr>\n",
       "      <th>4</th>\n",
       "      <td>7483</td>\n",
       "      <td>Município</td>\n",
       "      <td>Anguera</td>\n",
       "      <td>2901502</td>\n",
       "      <td>BA</td>\n",
       "      <td>None</td>\n",
       "      <td>Deferido</td>\n",
       "      <td>17944.000590/2010-01</td>\n",
       "      <td>2011-04-04T03:00:00Z</td>\n",
       "      <td>Operação contratual interna</td>\n",
       "      <td>Aquisição de máquinas, equipamentos e veículos</td>\n",
       "      <td>Instituição Financeira Nacional</td>\n",
       "      <td>Agência de Fomento do Estado da Bahia S/A</td>\n",
       "      <td>Real</td>\n",
       "      <td>65000.0</td>\n",
       "      <td>0</td>\n",
       "      <td>0</td>\n",
       "      <td>19/04/2011</td>\n",
       "    </tr>\n",
       "  </tbody>\n",
       "</table>\n",
       "</div>"
      ],
      "text/plain": [
       "   id_pleito tipo_interessado  interessado  cod_ibge  uf num_pvl  \\\n",
       "0       7069        Município       Mucugê   2921906  BA    None   \n",
       "1       7806        Município  Baianópolis   2902500  BA    None   \n",
       "2      11837        Município       Bonito   2904050  BA    None   \n",
       "3      11616        Município       Coribe   2909109  BA    None   \n",
       "4       7483        Município      Anguera   2901502  BA    None   \n",
       "\n",
       "                           status          num_processo        data_protocolo  \\\n",
       "0                        Deferido  17944.000490/2010-77  2010-04-28T03:00:00Z   \n",
       "1                        Deferido  17944.000658/2012-14  2012-05-03T03:00:00Z   \n",
       "2  Arquivado por decurso de prazo  17944.001539/2013-51  2013-11-01T02:00:00Z   \n",
       "3                       Arquivado  17944.001489/2007-64  2008-01-07T02:00:00Z   \n",
       "4                        Deferido  17944.000590/2010-01  2011-04-04T03:00:00Z   \n",
       "\n",
       "                 tipo_operacao  \\\n",
       "0  Operação contratual interna   \n",
       "1  Operação contratual interna   \n",
       "2  Operação contratual interna   \n",
       "3  Operação contratual interna   \n",
       "4  Operação contratual interna   \n",
       "\n",
       "                                       finalidade  \\\n",
       "0  Aquisição de máquinas, equipamentos e veículos   \n",
       "1                                  Infraestrutura   \n",
       "2  Aquisição de máquinas, equipamentos e veículos   \n",
       "3  Aquisição de máquinas, equipamentos e veículos   \n",
       "4  Aquisição de máquinas, equipamentos e veículos   \n",
       "\n",
       "                       tipo_credor                                     credor  \\\n",
       "0  Instituição Financeira Nacional  Agência de Fomento do Estado da Bahia S/A   \n",
       "1  Instituição Financeira Nacional  Agência de Fomento do Estado da Bahia S/A   \n",
       "2  Instituição Financeira Nacional  Agência de Fomento do Estado da Bahia S/A   \n",
       "3  Instituição Financeira Nacional  Agência de Fomento do Estado da Bahia S/A   \n",
       "4  Instituição Financeira Nacional  Agência de Fomento do Estado da Bahia S/A   \n",
       "\n",
       "  moeda     valor  pvl_assoc_divida  pvl_contradado_credor data_status  \n",
       "0  Real   65000.0                 0                      0  20/05/2010  \n",
       "1  Real  900000.0                 0                      0  29/05/2012  \n",
       "2  Real  300000.0                 0                      0  08/09/2014  \n",
       "3  Real  500000.0                 0                      0  11/01/2008  \n",
       "4  Real   65000.0                 0                      0  19/04/2011  "
      ]
     },
     "execution_count": 33,
     "metadata": {},
     "output_type": "execute_result"
    }
   ],
   "source": [
    "df_BA.head(5)"
   ]
  },
  {
   "cell_type": "code",
   "execution_count": 36,
   "metadata": {},
   "outputs": [
    {
     "data": {
      "text/plain": [
       "interessado\n",
       "Luís Eduardo Magalhães    16\n",
       "Vitória da Conquista      12\n",
       "Lauro de Freitas          11\n",
       "Camaçari                  10\n",
       "Barreiras                 10\n",
       "                          ..\n",
       "Salinas da Margarida       1\n",
       "Xique-Xique                1\n",
       "Andorinha                  1\n",
       "Paulo Afonso               1\n",
       "Cafarnaum                  1\n",
       "Name: count, Length: 185, dtype: int64"
      ]
     },
     "execution_count": 36,
     "metadata": {},
     "output_type": "execute_result"
    }
   ],
   "source": [
    "BA_mun_deferido = df_BA[df_BA['status']== 'Deferido'].interessado.value_counts()\n",
    "BA_mun_deferido"
   ]
  },
  {
   "cell_type": "code",
   "execution_count": 40,
   "metadata": {},
   "outputs": [
    {
     "name": "stdout",
     "output_type": "stream",
     "text": [
      "O município com maior numero de solicitaçoes deferidas foi: Luís Eduardo Magalhães com 16 solicitaçoes.\n"
     ]
    }
   ],
   "source": [
    "print('O município com maior numero de solicitaçoes deferidas foi: Luís Eduardo Magalhães com',BA_mun_deferido.iloc[0],'solicitaçoes.')"
   ]
  },
  {
   "cell_type": "code",
   "execution_count": 29,
   "metadata": {},
   "outputs": [],
   "source": [
    "# 4) Salve um arquivo .csv com os dados de solicitações da Bahia, com interessado = 'Estado'\n",
    "\n",
    "df_estado = estado_de_interesse('BA','Estado')"
   ]
  },
  {
   "cell_type": "code",
   "execution_count": 30,
   "metadata": {},
   "outputs": [
    {
     "data": {
      "text/html": [
       "<div>\n",
       "<style scoped>\n",
       "    .dataframe tbody tr th:only-of-type {\n",
       "        vertical-align: middle;\n",
       "    }\n",
       "\n",
       "    .dataframe tbody tr th {\n",
       "        vertical-align: top;\n",
       "    }\n",
       "\n",
       "    .dataframe thead th {\n",
       "        text-align: right;\n",
       "    }\n",
       "</style>\n",
       "<table border=\"1\" class=\"dataframe\">\n",
       "  <thead>\n",
       "    <tr style=\"text-align: right;\">\n",
       "      <th></th>\n",
       "      <th>id_pleito</th>\n",
       "      <th>tipo_interessado</th>\n",
       "      <th>interessado</th>\n",
       "      <th>cod_ibge</th>\n",
       "      <th>uf</th>\n",
       "      <th>num_pvl</th>\n",
       "      <th>status</th>\n",
       "      <th>num_processo</th>\n",
       "      <th>data_protocolo</th>\n",
       "      <th>tipo_operacao</th>\n",
       "      <th>finalidade</th>\n",
       "      <th>tipo_credor</th>\n",
       "      <th>credor</th>\n",
       "      <th>moeda</th>\n",
       "      <th>valor</th>\n",
       "      <th>pvl_assoc_divida</th>\n",
       "      <th>pvl_contradado_credor</th>\n",
       "      <th>data_status</th>\n",
       "    </tr>\n",
       "  </thead>\n",
       "  <tbody>\n",
       "    <tr>\n",
       "      <th>0</th>\n",
       "      <td>8858</td>\n",
       "      <td>Estado</td>\n",
       "      <td>Bahia</td>\n",
       "      <td>29</td>\n",
       "      <td>BA</td>\n",
       "      <td>None</td>\n",
       "      <td>Encaminhado à PGFN com manifestação técnica fa...</td>\n",
       "      <td>17944.000853/2014-06</td>\n",
       "      <td>2014-07-10T03:00:00Z</td>\n",
       "      <td>Operação contratual externa (com garantia da U...</td>\n",
       "      <td>Infraestrutura</td>\n",
       "      <td>Instituição Financeira Internacional</td>\n",
       "      <td>Banco Internacional para Reconstrução e Desenv...</td>\n",
       "      <td>Dólar dos EUA</td>\n",
       "      <td>400000000.0</td>\n",
       "      <td>1</td>\n",
       "      <td>0</td>\n",
       "      <td>16/07/2014</td>\n",
       "    </tr>\n",
       "    <tr>\n",
       "      <th>1</th>\n",
       "      <td>12327</td>\n",
       "      <td>Estado</td>\n",
       "      <td>Bahia</td>\n",
       "      <td>29</td>\n",
       "      <td>BA</td>\n",
       "      <td>None</td>\n",
       "      <td>Encaminhado à PGFN com manifestação técnica fa...</td>\n",
       "      <td>17944.001659/2008-91</td>\n",
       "      <td>2009-03-24T03:00:00Z</td>\n",
       "      <td>Operação contratual externa (com garantia da U...</td>\n",
       "      <td>Fortalecimento Institucional</td>\n",
       "      <td>Instituição Financeira Internacional</td>\n",
       "      <td>Banco Interamericano de Desenvolvimento</td>\n",
       "      <td>Dólar dos EUA</td>\n",
       "      <td>409000000.0</td>\n",
       "      <td>1</td>\n",
       "      <td>0</td>\n",
       "      <td>27/03/2009</td>\n",
       "    </tr>\n",
       "  </tbody>\n",
       "</table>\n",
       "</div>"
      ],
      "text/plain": [
       "   id_pleito tipo_interessado interessado  cod_ibge  uf num_pvl  \\\n",
       "0       8858           Estado       Bahia        29  BA    None   \n",
       "1      12327           Estado       Bahia        29  BA    None   \n",
       "\n",
       "                                              status          num_processo  \\\n",
       "0  Encaminhado à PGFN com manifestação técnica fa...  17944.000853/2014-06   \n",
       "1  Encaminhado à PGFN com manifestação técnica fa...  17944.001659/2008-91   \n",
       "\n",
       "         data_protocolo                                      tipo_operacao  \\\n",
       "0  2014-07-10T03:00:00Z  Operação contratual externa (com garantia da U...   \n",
       "1  2009-03-24T03:00:00Z  Operação contratual externa (com garantia da U...   \n",
       "\n",
       "                     finalidade                           tipo_credor  \\\n",
       "0                Infraestrutura  Instituição Financeira Internacional   \n",
       "1  Fortalecimento Institucional  Instituição Financeira Internacional   \n",
       "\n",
       "                                              credor          moeda  \\\n",
       "0  Banco Internacional para Reconstrução e Desenv...  Dólar dos EUA   \n",
       "1            Banco Interamericano de Desenvolvimento  Dólar dos EUA   \n",
       "\n",
       "         valor  pvl_assoc_divida  pvl_contradado_credor data_status  \n",
       "0  400000000.0                 1                      0  16/07/2014  \n",
       "1  409000000.0                 1                      0  27/03/2009  "
      ]
     },
     "execution_count": 30,
     "metadata": {},
     "output_type": "execute_result"
    }
   ],
   "source": [
    "df_estado.head(2)"
   ]
  },
  {
   "cell_type": "code",
   "execution_count": 90,
   "metadata": {},
   "outputs": [],
   "source": [
    "df_estado.to_csv('Solicitacoes estado da Bahia') #salvando o arquivo em csv"
   ]
  },
  {
   "cell_type": "code",
   "execution_count": null,
   "metadata": {},
   "outputs": [],
   "source": []
  }
 ],
 "metadata": {
  "kernelspec": {
   "display_name": "Python 3 (ipykernel)",
   "language": "python",
   "name": "python3"
  },
  "language_info": {
   "codemirror_mode": {
    "name": "ipython",
    "version": 3
   },
   "file_extension": ".py",
   "mimetype": "text/x-python",
   "name": "python",
   "nbconvert_exporter": "python",
   "pygments_lexer": "ipython3",
   "version": "3.11.7"
  }
 },
 "nbformat": 4,
 "nbformat_minor": 4
}
