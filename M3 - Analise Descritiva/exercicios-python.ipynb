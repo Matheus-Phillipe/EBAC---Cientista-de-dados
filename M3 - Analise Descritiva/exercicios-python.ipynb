{
 "cells": [
  {
   "cell_type": "markdown",
   "id": "e9800f20",
   "metadata": {
    "id": "SEE0vQsW83yB",
    "papermill": {
     "duration": 0.009283,
     "end_time": "2024-04-29T20:33:33.929570",
     "exception": false,
     "start_time": "2024-04-29T20:33:33.920287",
     "status": "completed"
    },
    "tags": []
   },
   "source": [
    "### 01 - Teste de gravidez\n",
    "Escreva uma célula com controle de fluxos que tem como premissa a existência das seguintes variáveis:\n",
    "\n",
    "- ```sexo``` como ```str``` indicando os valores '**M**' para masculino e '**F**' para feminino  \n",
    "- ```beta_hcg``` que indica a quantidade do beta-HCG no sangue em mUI/mL.\n",
    "\n",
    "A sua tarefa é escrever um código que imprima como resultado \"indivíduo do sexo masculino\" quando sexo = 'M', caso sexo = 'F', se o valor de beta-HCG for maior que 5, retorne \"Positivo\" indicando que a paciente está grávida, e retorne \"Negativo\" caso contrário.\n",
    "\n",
    "Não mexa nos valores da variável ```sexo``` nem em ```beta_hcg```, e escreva um código que funcione para quaisquer valores possíveis de ambos: ```sexo``` = '**M**' ou '**F**' e ```beta_hcg``` assumindo valores inteiros positivos."
   ]
  },
  {
   "cell_type": "code",
   "execution_count": 1,
   "id": "9268a04c",
   "metadata": {
    "execution": {
     "iopub.execute_input": "2024-04-29T20:33:33.945706Z",
     "iopub.status.busy": "2024-04-29T20:33:33.944915Z",
     "iopub.status.idle": "2024-04-29T20:33:33.960258Z",
     "shell.execute_reply": "2024-04-29T20:33:33.958645Z"
    },
    "id": "cTOc4LG683yE",
    "papermill": {
     "duration": 0.026395,
     "end_time": "2024-04-29T20:33:33.963004",
     "exception": false,
     "start_time": "2024-04-29T20:33:33.936609",
     "status": "completed"
    },
    "tags": []
   },
   "outputs": [
    {
     "name": "stdout",
     "output_type": "stream",
     "text": [
      "Individuo do sexo masculino\n"
     ]
    }
   ],
   "source": [
    "sexo = 'M'\n",
    "beta_hcg = 0\n",
    "\n",
    "# seu código vem abaixo desta linha\n",
    "if (sexo == 'M'):\n",
    "    print('Individuo do sexo masculino')\n",
    "elif (sexo == 'F') & (beta_hcg > 5):\n",
    "    print('Positivo')\n",
    "elif (sexo == 'F') & (beta_hcg <=5):\n",
    "    print('Negativo')\n",
    "    "
   ]
  },
  {
   "cell_type": "markdown",
   "id": "dfe72745",
   "metadata": {
    "id": "uCoIZDE383yF",
    "papermill": {
     "duration": 0.006513,
     "end_time": "2024-04-29T20:33:33.976250",
     "exception": false,
     "start_time": "2024-04-29T20:33:33.969737",
     "status": "completed"
    },
    "tags": []
   },
   "source": [
    "### 02 - Renomeando variáveis\n",
    "\n",
    "Vamos ver adiante que uma forma de renomear variáveis de um conjunto de dados é através de dicionários - o dicionário deve conter como chave o nome original, associando a cada chave um único valor (tipo *str*) que contenha o nome novo.\n",
    "\n",
    "A sua tarefa é escrever um dicionário que possa ser utilizado para traduzir as variáveis ```name``` (nome), ```age``` (idade) e ```income``` (renda). Ou seja, esse dicionário deve relacionar as chaves *name, age* e *income* às suas respectivas traduções."
   ]
  },
  {
   "cell_type": "code",
   "execution_count": 2,
   "id": "e6e31b83",
   "metadata": {
    "execution": {
     "iopub.execute_input": "2024-04-29T20:33:33.991344Z",
     "iopub.status.busy": "2024-04-29T20:33:33.990921Z",
     "iopub.status.idle": "2024-04-29T20:33:33.999602Z",
     "shell.execute_reply": "2024-04-29T20:33:33.998392Z"
    },
    "id": "Bh6ijpbu83yG",
    "outputId": "58fbd8da-ed1d-4e05-df85-041c821948f2",
    "papermill": {
     "duration": 0.019026,
     "end_time": "2024-04-29T20:33:34.001995",
     "exception": false,
     "start_time": "2024-04-29T20:33:33.982969",
     "status": "completed"
    },
    "tags": []
   },
   "outputs": [
    {
     "data": {
      "text/plain": [
       "{'name': 'nome', 'age': 'idade', 'income': 'renda'}"
      ]
     },
     "execution_count": 2,
     "metadata": {},
     "output_type": "execute_result"
    }
   ],
   "source": [
    "dic_renomeacao = {'name': 'nome', 'age': 'idade', 'income': 'renda'}\n",
    "dic_renomeacao"
   ]
  },
  {
   "cell_type": "markdown",
   "id": "791251e6",
   "metadata": {
    "id": "95zumO5g83yH",
    "papermill": {
     "duration": 0.006571,
     "end_time": "2024-04-29T20:33:34.015424",
     "exception": false,
     "start_time": "2024-04-29T20:33:34.008853",
     "status": "completed"
    },
    "tags": []
   },
   "source": [
    "### 03 - É divisível?\n",
    "A sua tarefa é escrever um código que indique se um número ```N``` é divisível por um número P. Escreva um programa que faça essa verificação para quaisquer combinações de ```N``` e ```M``` e devolva uma mensagem indicativa no output."
   ]
  },
  {
   "cell_type": "code",
   "execution_count": 3,
   "id": "e2dd483d",
   "metadata": {
    "execution": {
     "iopub.execute_input": "2024-04-29T20:33:34.030961Z",
     "iopub.status.busy": "2024-04-29T20:33:34.030517Z",
     "iopub.status.idle": "2024-04-29T20:33:34.037496Z",
     "shell.execute_reply": "2024-04-29T20:33:34.035886Z"
    },
    "id": "BR2zOhmN83yI",
    "papermill": {
     "duration": 0.017495,
     "end_time": "2024-04-29T20:33:34.039713",
     "exception": false,
     "start_time": "2024-04-29T20:33:34.022218",
     "status": "completed"
    },
    "tags": []
   },
   "outputs": [
    {
     "name": "stdout",
     "output_type": "stream",
     "text": [
      "O número N é divisível por M\n"
     ]
    }
   ],
   "source": [
    "N = 21\n",
    "M = 3\n",
    "\n",
    "#Seu código\n",
    "\n",
    "if (N%M == 0):\n",
    "    print('O número N é divisível por M')\n",
    "else:\n",
    "    print('O número N não é divisível por M')"
   ]
  },
  {
   "cell_type": "markdown",
   "id": "990fb78c",
   "metadata": {
    "id": "0d5Kdrz283yJ",
    "papermill": {
     "duration": 0.006784,
     "end_time": "2024-04-29T20:33:34.053623",
     "exception": false,
     "start_time": "2024-04-29T20:33:34.046839",
     "status": "completed"
    },
    "tags": []
   },
   "source": [
    "### 04 - Números primos\n",
    "> Um número **N** é primo se e somente se é divisível por 1, -1, por **N** e por -**N**.  \n",
    "\n",
    "Escreva um script que verifica se ```N``` é um número primo, verificando se ```N``` é divisível por todos os números de ```1``` a ```N-1```. Você vai precisar usar alguma ferramenta de *loop* que você aprendeu para isto. No final, devolva uma mensagem no output indicando se o número é primo ou não."
   ]
  },
  {
   "cell_type": "code",
   "execution_count": 4,
   "id": "1864a97a",
   "metadata": {
    "execution": {
     "iopub.execute_input": "2024-04-29T20:33:34.069430Z",
     "iopub.status.busy": "2024-04-29T20:33:34.069026Z",
     "iopub.status.idle": "2024-04-29T20:33:34.076113Z",
     "shell.execute_reply": "2024-04-29T20:33:34.074975Z"
    },
    "id": "h_lFO-EO83yJ",
    "papermill": {
     "duration": 0.018272,
     "end_time": "2024-04-29T20:33:34.078911",
     "exception": false,
     "start_time": "2024-04-29T20:33:34.060639",
     "status": "completed"
    },
    "tags": []
   },
   "outputs": [
    {
     "name": "stdout",
     "output_type": "stream",
     "text": [
      "7 É primo\n"
     ]
    }
   ],
   "source": [
    "N = 7\n",
    "\n",
    "# seu código abaixo\n",
    "cont = 0\n",
    "\n",
    "for i in range(1, (N + 1)):        \n",
    "  if N % i == 0:\n",
    "    cont += 1\n",
    "    \n",
    "if cont  == 2 :\n",
    "  print(N,'É primo')\n",
    "else:\n",
    "  print(N,'Não é primo')"
   ]
  },
  {
   "cell_type": "markdown",
   "id": "48fbc89b",
   "metadata": {
    "id": "zHwDnURO83yK",
    "papermill": {
     "duration": 0.007305,
     "end_time": "2024-04-29T20:33:34.093378",
     "exception": false,
     "start_time": "2024-04-29T20:33:34.086073",
     "status": "completed"
    },
    "tags": []
   },
   "source": [
    "### 05 - Desafio\n",
    "O algorítmo do exercício anterior não é o mais eficiente. O que você pode fazer para deixá-lo mais eficiente? Ou seja, executar menos comparações, portanto consumir menos tempo.\n",
    "1. Será que precisamos correr o loop até o final sempre?\n",
    "2. Será que precisamos mesmo verificar **todos** os números?\n",
    "3. Será que precisamos ir até N-1?\n",
    "\n",
    "Essas perguntas levam ao tipo de pensamento voltado a deixar um algoritmo mais eficiente. Veja se você consegue melhorar o seu."
   ]
  },
  {
   "cell_type": "code",
   "execution_count": 5,
   "id": "90e13f5c",
   "metadata": {
    "execution": {
     "iopub.execute_input": "2024-04-29T20:33:34.109747Z",
     "iopub.status.busy": "2024-04-29T20:33:34.109220Z",
     "iopub.status.idle": "2024-04-29T20:33:34.116177Z",
     "shell.execute_reply": "2024-04-29T20:33:34.114788Z"
    },
    "id": "DDdwfZOL83yM",
    "papermill": {
     "duration": 0.018386,
     "end_time": "2024-04-29T20:33:34.119040",
     "exception": false,
     "start_time": "2024-04-29T20:33:34.100654",
     "status": "completed"
    },
    "tags": []
   },
   "outputs": [
    {
     "name": "stdout",
     "output_type": "stream",
     "text": [
      "7 É primo\n"
     ]
    }
   ],
   "source": [
    "N = 7\n",
    "\n",
    "# seu código aqui\n",
    "\n",
    "for valor in range(2, N // 2 + 1):\n",
    "   if N % valor == 0:\n",
    "       print(N,'Não é primo.')\n",
    "       break\n",
    "else:\n",
    "   print(N,'É primo')"
   ]
  },
  {
   "cell_type": "markdown",
   "id": "ccb257ed",
   "metadata": {
    "id": "4zhVSQan83yN",
    "papermill": {
     "duration": 0.006993,
     "end_time": "2024-04-29T20:33:34.133267",
     "exception": false,
     "start_time": "2024-04-29T20:33:34.126274",
     "status": "completed"
    },
    "tags": []
   },
   "source": [
    "### 06 - Peso ideal 1\n",
    "O IMC (índice de massa corpórea) é um indicador de saúde mais bem aceito que o peso. Ele é calculado como:\n",
    "\n",
    "$$ IMC = \\dfrac{peso}{altura^2}$$\n",
    "\n",
    "Segundo a OMS, valores *normais* são entre 18.5 e 24.9.\n",
    "\n",
    "Sua tarefa é encontrar o ponto médio dessa faixa."
   ]
  },
  {
   "cell_type": "code",
   "execution_count": 6,
   "id": "4682c3fe",
   "metadata": {
    "execution": {
     "iopub.execute_input": "2024-04-29T20:33:34.149265Z",
     "iopub.status.busy": "2024-04-29T20:33:34.148812Z",
     "iopub.status.idle": "2024-04-29T20:33:34.155491Z",
     "shell.execute_reply": "2024-04-29T20:33:34.154409Z"
    },
    "id": "3DzxicN983yO",
    "outputId": "6a947e58-88b2-4764-a9ca-717b971adb3d",
    "papermill": {
     "duration": 0.017534,
     "end_time": "2024-04-29T20:33:34.157953",
     "exception": false,
     "start_time": "2024-04-29T20:33:34.140419",
     "status": "completed"
    },
    "tags": []
   },
   "outputs": [
    {
     "data": {
      "text/plain": [
       "21.7"
      ]
     },
     "execution_count": 6,
     "metadata": {},
     "output_type": "execute_result"
    }
   ],
   "source": [
    "imc_ideal = (18.5 + 24.9)/2\n",
    "imc_ideal"
   ]
  },
  {
   "cell_type": "markdown",
   "id": "1b3406df",
   "metadata": {
    "id": "Z8uBOym483yP",
    "papermill": {
     "duration": 0.008237,
     "end_time": "2024-04-29T20:33:34.173817",
     "exception": false,
     "start_time": "2024-04-29T20:33:34.165580",
     "status": "completed"
    },
    "tags": []
   },
   "source": [
    "### 07 - Peso ideal 2\n",
    "Recebendo um valor de altura, encontre o peso '*ideal*' dessa pessoa, que fornece o IMC encontrado acima"
   ]
  },
  {
   "cell_type": "code",
   "execution_count": 7,
   "id": "5d21d1a2",
   "metadata": {
    "execution": {
     "iopub.execute_input": "2024-04-29T20:33:34.190070Z",
     "iopub.status.busy": "2024-04-29T20:33:34.189698Z",
     "iopub.status.idle": "2024-04-29T20:33:34.197451Z",
     "shell.execute_reply": "2024-04-29T20:33:34.196286Z"
    },
    "id": "rrNwycte83yP",
    "outputId": "0e63b2ff-3743-48c7-a472-b48a450a0867",
    "papermill": {
     "duration": 0.018715,
     "end_time": "2024-04-29T20:33:34.199858",
     "exception": false,
     "start_time": "2024-04-29T20:33:34.181143",
     "status": "completed"
    },
    "tags": []
   },
   "outputs": [
    {
     "data": {
      "text/plain": [
       "62.712999999999994"
      ]
     },
     "execution_count": 7,
     "metadata": {},
     "output_type": "execute_result"
    }
   ],
   "source": [
    "altura = 1.70\n",
    "\n",
    "# Seu código\n",
    "peso_ideal = (altura * altura) * imc_ideal\n",
    "peso_ideal"
   ]
  },
  {
   "cell_type": "markdown",
   "id": "9370c52f",
   "metadata": {
    "id": "zEdM6J_i83yP",
    "papermill": {
     "duration": 0.007288,
     "end_time": "2024-04-29T20:33:34.215348",
     "exception": false,
     "start_time": "2024-04-29T20:33:34.208060",
     "status": "completed"
    },
    "tags": []
   },
   "source": [
    "### 08 - Peso ideal 3\n",
    "Dada uma lista contendo as alturas de pacientes, crie uma nova lista que contenha o peso '*ideal*' (que fornece o IMC calculado em **Peso ideal 1**) desses pacientes."
   ]
  },
  {
   "cell_type": "code",
   "execution_count": 8,
   "id": "42688206",
   "metadata": {
    "execution": {
     "iopub.execute_input": "2024-04-29T20:33:34.234019Z",
     "iopub.status.busy": "2024-04-29T20:33:34.233404Z",
     "iopub.status.idle": "2024-04-29T20:33:34.242082Z",
     "shell.execute_reply": "2024-04-29T20:33:34.241136Z"
    },
    "id": "KN1mB_My83yQ",
    "outputId": "f070d54d-c156-4546-e3c7-b5bc500059d9",
    "papermill": {
     "duration": 0.021402,
     "end_time": "2024-04-29T20:33:34.244563",
     "exception": false,
     "start_time": "2024-04-29T20:33:34.223161",
     "status": "completed"
    },
    "tags": []
   },
   "outputs": [
    {
     "data": {
      "text/plain": [
       "[82.51424999999999, 91.19425, 62.712999999999994, 59.07824999999999]"
      ]
     },
     "execution_count": 8,
     "metadata": {},
     "output_type": "execute_result"
    }
   ],
   "source": [
    "lista_alturas = [1.95, 2.05, 1.70, 1.65]\n",
    "\n",
    "lista_peso_ideal = []\n",
    "\n",
    "# seu código\n",
    "N = 0\n",
    "for alturas in lista_alturas:\n",
    "    peso = (lista_alturas[N]*lista_alturas[N])* imc_ideal\n",
    "    lista_peso_ideal.append(peso)\n",
    "    N = N +1\n",
    "\n",
    "lista_peso_ideal"
   ]
  },
  {
   "cell_type": "markdown",
   "id": "70ae1391",
   "metadata": {
    "id": "8OKAtYQM83yQ",
    "papermill": {
     "duration": 0.007463,
     "end_time": "2024-04-29T20:33:34.259756",
     "exception": false,
     "start_time": "2024-04-29T20:33:34.252293",
     "status": "completed"
    },
    "tags": []
   },
   "source": [
    "### 09 - Peso ideal 4\n",
    "Dada uma lista de tuplas - cada elemento da lista é uma tupla contendo altura e peso de um paciente - crie uma nova lista com o IMC desses pacientes."
   ]
  },
  {
   "cell_type": "code",
   "execution_count": 9,
   "id": "7e67d879",
   "metadata": {
    "execution": {
     "iopub.execute_input": "2024-04-29T20:33:34.276922Z",
     "iopub.status.busy": "2024-04-29T20:33:34.276516Z",
     "iopub.status.idle": "2024-04-29T20:33:34.285084Z",
     "shell.execute_reply": "2024-04-29T20:33:34.284244Z"
    },
    "id": "FaXgkjzI83yQ",
    "outputId": "8adc5e59-8a72-42db-db6b-6895587e875e",
    "papermill": {
     "duration": 0.02002,
     "end_time": "2024-04-29T20:33:34.287406",
     "exception": false,
     "start_time": "2024-04-29T20:33:34.267386",
     "status": "completed"
    },
    "tags": []
   },
   "outputs": [
    {
     "data": {
      "text/plain": [
       "[27.777777777777775, 27.548209366391188, 19.188070502453332]"
      ]
     },
     "execution_count": 9,
     "metadata": {},
     "output_type": "execute_result"
    }
   ],
   "source": [
    "altura_peso = [(1.80, 90), (1.65, 75), (1.91, 70)]\n",
    "\n",
    "imc = []\n",
    "\n",
    "# seu código\n",
    "\n",
    "for valores in altura_peso:\n",
    "    altura, peso = valores\n",
    "    imc_pessoa = peso / (altura ** 2)\n",
    "    imc.append(imc_pessoa)\n",
    "imc\n",
    "\n",
    "imc"
   ]
  },
  {
   "cell_type": "markdown",
   "id": "dd195159",
   "metadata": {
    "id": "kZdSJqJq83yR",
    "papermill": {
     "duration": 0.007602,
     "end_time": "2024-04-29T20:33:34.303136",
     "exception": false,
     "start_time": "2024-04-29T20:33:34.295534",
     "status": "completed"
    },
    "tags": []
   },
   "source": [
    "### 10 - Peso ideal 5\n",
    "Dada uma lista de **listas** - cada elemento da lista é uma **lista** contendo altura e peso de um paciente, adicione mais um elemento à lista de cada paciente contendo o IMC do paciente. Verifique também se é 'baixo', 'normal' ou 'alto' segundo os padrões da OMS em que normal é entre 18.5 e 24.9.\n",
    "\n",
    "Reflexão: por que no problema anterior temos que criar uma nova lista, e não podemos adicionar os dados de cada indivíduo à tupla?"
   ]
  },
  {
   "cell_type": "code",
   "execution_count": 10,
   "id": "dfc6fb39",
   "metadata": {
    "execution": {
     "iopub.execute_input": "2024-04-29T20:33:34.320628Z",
     "iopub.status.busy": "2024-04-29T20:33:34.320187Z",
     "iopub.status.idle": "2024-04-29T20:33:34.330842Z",
     "shell.execute_reply": "2024-04-29T20:33:34.329456Z"
    },
    "id": "EwszojP283yR",
    "papermill": {
     "duration": 0.022618,
     "end_time": "2024-04-29T20:33:34.333590",
     "exception": false,
     "start_time": "2024-04-29T20:33:34.310972",
     "status": "completed"
    },
    "tags": []
   },
   "outputs": [
    {
     "data": {
      "text/plain": [
       "[[1.8, 90, 27.78, 'Alto'],\n",
       " [1.65, 75, 27.55, 'Alto'],\n",
       " [1.91, 70, 19.19, 'Normal']]"
      ]
     },
     "execution_count": 10,
     "metadata": {},
     "output_type": "execute_result"
    }
   ],
   "source": [
    "altura_peso = [[1.80, 90], [1.65, 75], [1.91, 70]]\n",
    "\n",
    "# seu código\n",
    "for valores in altura_peso:\n",
    "    altura, peso = valores\n",
    "    imc_pessoa = peso / (altura ** 2)\n",
    "    if imc_pessoa < 18.5:\n",
    "        imc_indice = 'Baixo'\n",
    "    elif (imc_pessoa >= 18.5) & (imc_pessoa <= 24.9):\n",
    "        imc_indice = 'Normal'\n",
    "    else:\n",
    "        imc_indice = 'Alto'\n",
    "    valores.append(round(imc_pessoa,2))\n",
    "    valores.append(imc_indice)\n",
    "    \n",
    "altura_peso"
   ]
  }
 ],
 "metadata": {
  "colab": {
   "collapsed_sections": [],
   "provenance": []
  },
  "kaggle": {
   "accelerator": "none",
   "dataSources": [],
   "dockerImageVersionId": 30698,
   "isGpuEnabled": false,
   "isInternetEnabled": true,
   "language": "python",
   "sourceType": "notebook"
  },
  "kernelspec": {
   "display_name": "Python 3",
   "language": "python",
   "name": "python3"
  },
  "language_info": {
   "codemirror_mode": {
    "name": "ipython",
    "version": 3
   },
   "file_extension": ".py",
   "mimetype": "text/x-python",
   "name": "python",
   "nbconvert_exporter": "python",
   "pygments_lexer": "ipython3",
   "version": "3.10.13"
  },
  "papermill": {
   "default_parameters": {},
   "duration": 3.943562,
   "end_time": "2024-04-29T20:33:34.762456",
   "environment_variables": {},
   "exception": null,
   "input_path": "__notebook__.ipynb",
   "output_path": "__notebook__.ipynb",
   "parameters": {},
   "start_time": "2024-04-29T20:33:30.818894",
   "version": "2.5.0"
  }
 },
 "nbformat": 4,
 "nbformat_minor": 5
}
