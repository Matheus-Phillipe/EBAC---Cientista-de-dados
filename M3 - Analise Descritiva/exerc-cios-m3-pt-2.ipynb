{
 "cells": [
  {
   "cell_type": "code",
   "execution_count": 1,
   "id": "7b2475d2",
   "metadata": {
    "execution": {
     "iopub.execute_input": "2024-04-30T15:05:25.243255Z",
     "iopub.status.busy": "2024-04-30T15:05:25.242119Z",
     "iopub.status.idle": "2024-04-30T15:05:25.255556Z",
     "shell.execute_reply": "2024-04-30T15:05:25.254160Z"
    },
    "id": "fFhFteHV695k",
    "papermill": {
     "duration": 0.024213,
     "end_time": "2024-04-30T15:05:25.258568",
     "exception": false,
     "start_time": "2024-04-30T15:05:25.234355",
     "status": "completed"
    },
    "tags": []
   },
   "outputs": [],
   "source": [
    "import numpy as np"
   ]
  },
  {
   "cell_type": "markdown",
   "id": "3977dbd0",
   "metadata": {
    "id": "YLWEzg3N695m",
    "papermill": {
     "duration": 0.005369,
     "end_time": "2024-04-30T15:05:25.271299",
     "exception": false,
     "start_time": "2024-04-30T15:05:25.265930",
     "status": "completed"
    },
    "tags": []
   },
   "source": [
    "### 1) Alturas  \n",
    "i. No trecho de código abaixo, crie um ndarray chamado ```altura_em_centimetros``` transformando a lista ```lista_de_alturas``` em um ndarray do numpy com a função ```np.array()```  \n",
    "ii. Crie um outro objeto ```altura_em_metros```, com os valores de ```altura_em_centimetros``` convertidos para metros."
   ]
  },
  {
   "cell_type": "code",
   "execution_count": 2,
   "id": "6a750da0",
   "metadata": {
    "execution": {
     "iopub.execute_input": "2024-04-30T15:05:25.285414Z",
     "iopub.status.busy": "2024-04-30T15:05:25.284925Z",
     "iopub.status.idle": "2024-04-30T15:05:25.294078Z",
     "shell.execute_reply": "2024-04-30T15:05:25.292692Z"
    },
    "id": "tx6DbJk7695o",
    "papermill": {
     "duration": 0.019176,
     "end_time": "2024-04-30T15:05:25.296789",
     "exception": false,
     "start_time": "2024-04-30T15:05:25.277613",
     "status": "completed"
    },
    "tags": []
   },
   "outputs": [
    {
     "data": {
      "text/plain": [
       "[170, 175, 180, 185]"
      ]
     },
     "execution_count": 2,
     "metadata": {},
     "output_type": "execute_result"
    }
   ],
   "source": [
    "lista_de_centimetros = list(range(170, 190, 5))\n",
    "lista_de_centimetros"
   ]
  },
  {
   "cell_type": "code",
   "execution_count": 3,
   "id": "e6fa5826",
   "metadata": {
    "execution": {
     "iopub.execute_input": "2024-04-30T15:05:25.310440Z",
     "iopub.status.busy": "2024-04-30T15:05:25.309897Z",
     "iopub.status.idle": "2024-04-30T15:05:25.319020Z",
     "shell.execute_reply": "2024-04-30T15:05:25.317730Z"
    },
    "id": "-tXC4lyT695o",
    "papermill": {
     "duration": 0.019076,
     "end_time": "2024-04-30T15:05:25.321682",
     "exception": false,
     "start_time": "2024-04-30T15:05:25.302606",
     "status": "completed"
    },
    "tags": []
   },
   "outputs": [
    {
     "data": {
      "text/plain": [
       "array([170, 175, 180, 185])"
      ]
     },
     "execution_count": 3,
     "metadata": {},
     "output_type": "execute_result"
    }
   ],
   "source": [
    "altura_em_centimetros = np.array(lista_de_centimetros)\n",
    "altura_em_centimetros "
   ]
  },
  {
   "cell_type": "code",
   "execution_count": 4,
   "id": "ef4efaac",
   "metadata": {
    "execution": {
     "iopub.execute_input": "2024-04-30T15:05:25.335821Z",
     "iopub.status.busy": "2024-04-30T15:05:25.335367Z",
     "iopub.status.idle": "2024-04-30T15:05:25.343621Z",
     "shell.execute_reply": "2024-04-30T15:05:25.342619Z"
    },
    "id": "zFDQt9_K695p",
    "papermill": {
     "duration": 0.018482,
     "end_time": "2024-04-30T15:05:25.346111",
     "exception": false,
     "start_time": "2024-04-30T15:05:25.327629",
     "status": "completed"
    },
    "tags": []
   },
   "outputs": [
    {
     "data": {
      "text/plain": [
       "array([1.7 , 1.75, 1.8 , 1.85])"
      ]
     },
     "execution_count": 4,
     "metadata": {},
     "output_type": "execute_result"
    }
   ],
   "source": [
    "altura_em_metros = altura_em_centimetros/100\n",
    "altura_em_metros"
   ]
  },
  {
   "cell_type": "markdown",
   "id": "ce4a9ffc",
   "metadata": {
    "id": "hlsDzubv695p",
    "papermill": {
     "duration": 0.005783,
     "end_time": "2024-04-30T15:05:25.358142",
     "exception": false,
     "start_time": "2024-04-30T15:05:25.352359",
     "status": "completed"
    },
    "tags": []
   },
   "source": [
    "### 2) IMC  \n",
    "i. Considere que pesos em Kg dessas pessoas, na mesma ordem, estão na lista pesos ```lista_pesos = [70, 75, 80, 85]```. Crie um **ndarray** chamado ```pesos``` com a função ```np.array()``` que contenha esses valores.  \n",
    "ii. Utilizando o objeto que contém as alturas em metros e esse objeto que contém os respectivos pesos em quilos, calcule o IMC desses indivíduos utilizando a aritmética de arrays e guarde os resultados em um objeto chamado ```imc```."
   ]
  },
  {
   "cell_type": "code",
   "execution_count": 5,
   "id": "035ed23a",
   "metadata": {
    "execution": {
     "iopub.execute_input": "2024-04-30T15:05:25.371958Z",
     "iopub.status.busy": "2024-04-30T15:05:25.371490Z",
     "iopub.status.idle": "2024-04-30T15:05:25.379861Z",
     "shell.execute_reply": "2024-04-30T15:05:25.378469Z"
    },
    "id": "YL87C0It695p",
    "outputId": "f147f2f0-c5e8-407c-a708-914ddc99fa6d",
    "papermill": {
     "duration": 0.018449,
     "end_time": "2024-04-30T15:05:25.382563",
     "exception": false,
     "start_time": "2024-04-30T15:05:25.364114",
     "status": "completed"
    },
    "tags": []
   },
   "outputs": [
    {
     "data": {
      "text/plain": [
       "array([70, 75, 80, 85])"
      ]
     },
     "execution_count": 5,
     "metadata": {},
     "output_type": "execute_result"
    }
   ],
   "source": [
    "lista_pesos = [70, 75, 80, 85]\n",
    "lista_pesos\n",
    "# seu código aqui\n",
    "\n",
    "pesos = np.array(lista_pesos)\n",
    "pesos"
   ]
  },
  {
   "cell_type": "code",
   "execution_count": 6,
   "id": "cb05d53e",
   "metadata": {
    "execution": {
     "iopub.execute_input": "2024-04-30T15:05:25.397142Z",
     "iopub.status.busy": "2024-04-30T15:05:25.396701Z",
     "iopub.status.idle": "2024-04-30T15:05:25.405713Z",
     "shell.execute_reply": "2024-04-30T15:05:25.404262Z"
    },
    "id": "WgZtY2Ox695q",
    "papermill": {
     "duration": 0.019771,
     "end_time": "2024-04-30T15:05:25.408763",
     "exception": false,
     "start_time": "2024-04-30T15:05:25.388992",
     "status": "completed"
    },
    "tags": []
   },
   "outputs": [
    {
     "data": {
      "text/plain": [
       "array([24.22145329, 24.48979592, 24.69135802, 24.83564646])"
      ]
     },
     "execution_count": 6,
     "metadata": {},
     "output_type": "execute_result"
    }
   ],
   "source": [
    "# calcule o IMC dessas pessoas\n",
    "# a formula para calcular o IMC de uma pessoa é o peso dividido pela altura ao quadrado.\n",
    "\n",
    "imc = pesos/(altura_em_metros**2)\n",
    "imc"
   ]
  },
  {
   "cell_type": "markdown",
   "id": "d8414ca4",
   "metadata": {
    "id": "k1JIBxZb695r",
    "papermill": {
     "duration": 0.005964,
     "end_time": "2024-04-30T15:05:25.420937",
     "exception": false,
     "start_time": "2024-04-30T15:05:25.414973",
     "status": "completed"
    },
    "tags": []
   },
   "source": [
    "### 3) Endividamento\n",
    "\n",
    "Cálculos de novas variáveis como endividamento total e comprometimento de renda são essenciais para a construção de modelos financeiros em ciência de dados. Áreas não financeiras terão cálculos semelhantes também. Vamos praticar:\n",
    "\n",
    "Considere que o seguinte ndarray contém os dados de 4 pessoas, total a ser pago a empréstimos mensalmente e renda familiar:\n",
    "\n",
    "| custo fixo | dívida financeira | renda familiar |\n",
    "|:----:|:----:|:---|\n",
    "| 3000  | 1000 | 6000 |\n",
    "| 2500  | 2500 | 5500 |\n",
    "| 1000  | 3000 | 7000 |\n",
    "| 10000 | 5000 | 16000 |\n",
    "\n",
    "i. Transforme a lista de listas ```dados_financeiros``` no ndarray ```nd_financeiros```.\n",
    "> ``` dados_financeiros[[3000, 2500, 1000, 10000],[1000, 2500, 3000, 5000],[6000, 5500, 7000, 16000]] ```\n",
    "\n",
    "ii. Utilize o método ```.transpose ``` e certifique-se de que esse ndarray tenha uma linha por indivíduo e uma coluna por informação. Utilizando a indexação do numpy, imprima no output a segunda linha do array, depois a segunda coluna.\n",
    "\n",
    "iii. Pratique aritmética com nearrays e calcule o endividamento total como:\n",
    "$$endividamento\\hspace{.2cm}total = \\frac{custo \\hspace{.2cm}fixo + dívida\\hspace{.2cm}financeira}{renda\\hspace{.2cm}familiar}$$\n",
    "Guarde os resultados em uma variável chamada ```endividamento_total``` e verifique os resultados imprimindo o conteúdo dessa variável no output.\n",
    "\n",
    "iv. Considere que há um erro de digitação que precisa ser corrigido: 3o indivíduo na verdade não possui renda familiar de R\\\\$7.000,00, mas sim R\\\\$ 10.000,00. Corrija esse valor e refaça os cálculos."
   ]
  },
  {
   "cell_type": "code",
   "execution_count": 7,
   "id": "f701ab31",
   "metadata": {
    "execution": {
     "iopub.execute_input": "2024-04-30T15:05:25.435164Z",
     "iopub.status.busy": "2024-04-30T15:05:25.434682Z",
     "iopub.status.idle": "2024-04-30T15:05:25.443326Z",
     "shell.execute_reply": "2024-04-30T15:05:25.442062Z"
    },
    "id": "k17jw6kT695r",
    "papermill": {
     "duration": 0.01867,
     "end_time": "2024-04-30T15:05:25.445731",
     "exception": false,
     "start_time": "2024-04-30T15:05:25.427061",
     "status": "completed"
    },
    "tags": []
   },
   "outputs": [
    {
     "data": {
      "text/plain": [
       "array([[ 3000,  2500,  1000, 10000],\n",
       "       [ 1000,  2500,  3000,  5000],\n",
       "       [ 6000,  5500,  7000, 16000]])"
      ]
     },
     "execution_count": 7,
     "metadata": {},
     "output_type": "execute_result"
    }
   ],
   "source": [
    "# lista dados_financeiros\n",
    "dados_financeiros = [[3000, 2500, 1000, 10000],[1000, 2500, 3000, 5000],[6000, 5500, 7000, 16000]]\n",
    "dados_financeiros\n",
    "#i) transforme essa lista em um ndarray\n",
    "nd_financeiros = np.array(dados_financeiros)\n",
    "nd_financeiros"
   ]
  },
  {
   "cell_type": "code",
   "execution_count": 8,
   "id": "9a2e3226",
   "metadata": {
    "execution": {
     "iopub.execute_input": "2024-04-30T15:05:25.462733Z",
     "iopub.status.busy": "2024-04-30T15:05:25.462240Z",
     "iopub.status.idle": "2024-04-30T15:05:25.470169Z",
     "shell.execute_reply": "2024-04-30T15:05:25.468803Z"
    },
    "id": "ecRsPjml695r",
    "papermill": {
     "duration": 0.019276,
     "end_time": "2024-04-30T15:05:25.472964",
     "exception": false,
     "start_time": "2024-04-30T15:05:25.453688",
     "status": "completed"
    },
    "tags": []
   },
   "outputs": [
    {
     "data": {
      "text/plain": [
       "array([[ 3000,  1000,  6000],\n",
       "       [ 2500,  2500,  5500],\n",
       "       [ 1000,  3000,  7000],\n",
       "       [10000,  5000, 16000]])"
      ]
     },
     "execution_count": 8,
     "metadata": {},
     "output_type": "execute_result"
    }
   ],
   "source": [
    "# ii) \n",
    "ndft = nd_financeiros.transpose()\n",
    "ndft #criei uma variaveml para guardar a matriz transposta"
   ]
  },
  {
   "cell_type": "code",
   "execution_count": 9,
   "id": "67e56d9d",
   "metadata": {
    "execution": {
     "iopub.execute_input": "2024-04-30T15:05:25.488088Z",
     "iopub.status.busy": "2024-04-30T15:05:25.487629Z",
     "iopub.status.idle": "2024-04-30T15:05:25.494615Z",
     "shell.execute_reply": "2024-04-30T15:05:25.493292Z"
    },
    "papermill": {
     "duration": 0.017778,
     "end_time": "2024-04-30T15:05:25.497249",
     "exception": false,
     "start_time": "2024-04-30T15:05:25.479471",
     "status": "completed"
    },
    "tags": []
   },
   "outputs": [
    {
     "name": "stdout",
     "output_type": "stream",
     "text": [
      "Imprimindo a linha [2500 2500 5500]\n"
     ]
    }
   ],
   "source": [
    "print('Imprimindo a linha', ndft[1,:]) #imprimindo apenas a segunda linha da matriz"
   ]
  },
  {
   "cell_type": "code",
   "execution_count": 10,
   "id": "2210db0d",
   "metadata": {
    "execution": {
     "iopub.execute_input": "2024-04-30T15:05:25.512913Z",
     "iopub.status.busy": "2024-04-30T15:05:25.512408Z",
     "iopub.status.idle": "2024-04-30T15:05:25.519081Z",
     "shell.execute_reply": "2024-04-30T15:05:25.517826Z"
    },
    "papermill": {
     "duration": 0.01764,
     "end_time": "2024-04-30T15:05:25.521690",
     "exception": false,
     "start_time": "2024-04-30T15:05:25.504050",
     "status": "completed"
    },
    "tags": []
   },
   "outputs": [
    {
     "name": "stdout",
     "output_type": "stream",
     "text": [
      "Imprimindo a coluna [1000 2500 3000 5000]\n"
     ]
    }
   ],
   "source": [
    "print('Imprimindo a coluna', ndft[:,1]) #imprimindo apenas a segunda coluna da matriz"
   ]
  },
  {
   "cell_type": "code",
   "execution_count": 11,
   "id": "9c6e3857",
   "metadata": {
    "execution": {
     "iopub.execute_input": "2024-04-30T15:05:25.537224Z",
     "iopub.status.busy": "2024-04-30T15:05:25.536085Z",
     "iopub.status.idle": "2024-04-30T15:05:25.546185Z",
     "shell.execute_reply": "2024-04-30T15:05:25.544959Z"
    },
    "id": "RgMG-t9-695s",
    "papermill": {
     "duration": 0.020585,
     "end_time": "2024-04-30T15:05:25.548694",
     "exception": false,
     "start_time": "2024-04-30T15:05:25.528109",
     "status": "completed"
    },
    "tags": []
   },
   "outputs": [
    {
     "data": {
      "text/plain": [
       "array([0.66666667, 0.90909091, 0.57142857, 0.9375    ])"
      ]
     },
     "execution_count": 11,
     "metadata": {},
     "output_type": "execute_result"
    }
   ],
   "source": [
    "# iii) Calcule o endividamento total\n",
    "endividamento_total = (ndft[:,0] + ndft[:,1]) / ndft[:,2]\n",
    "endividamento_total"
   ]
  },
  {
   "cell_type": "code",
   "execution_count": 12,
   "id": "ace3e3be",
   "metadata": {
    "execution": {
     "iopub.execute_input": "2024-04-30T15:05:25.563972Z",
     "iopub.status.busy": "2024-04-30T15:05:25.563512Z",
     "iopub.status.idle": "2024-04-30T15:05:25.574808Z",
     "shell.execute_reply": "2024-04-30T15:05:25.573350Z"
    },
    "id": "FxaSHRgy695t",
    "papermill": {
     "duration": 0.022789,
     "end_time": "2024-04-30T15:05:25.578026",
     "exception": false,
     "start_time": "2024-04-30T15:05:25.555237",
     "status": "completed"
    },
    "tags": []
   },
   "outputs": [
    {
     "name": "stdout",
     "output_type": "stream",
     "text": [
      "[[ 3000  1000  6000]\n",
      " [ 2500  2500  5500]\n",
      " [ 1000  3000 10000]\n",
      " [10000  5000 16000]]\n"
     ]
    },
    {
     "data": {
      "text/plain": [
       "array([0.66666667, 0.90909091, 0.4       , 0.9375    ])"
      ]
     },
     "execution_count": 12,
     "metadata": {},
     "output_type": "execute_result"
    }
   ],
   "source": [
    "# iv) corrigindo um valor específico\n",
    "ndft[2,2] = 10000\n",
    "print(ndft) #Nova matriz com valor corrigido\n",
    "\n",
    "endividamento_total = (ndft[:,0] + ndft[:,1]) / ndft[:,2]\n",
    "endividamento_total"
   ]
  },
  {
   "cell_type": "markdown",
   "id": "1a5f9f0d",
   "metadata": {
    "id": "RghMgSOX695t",
    "papermill": {
     "duration": 0.006963,
     "end_time": "2024-04-30T15:05:25.591952",
     "exception": false,
     "start_time": "2024-04-30T15:05:25.584989",
     "status": "completed"
    },
    "tags": []
   },
   "source": [
    "### 4) É muito comum precisarmos identificar valores especiais e darmos tratamento a eles quer seja alterando-os quer seja descartando-os. \n",
    "\n",
    "O trecho de código abaixo gera um ndarray com números pseudo aleatórios. Considere que para efeitos do estudo que virá, devemos desconsiderar valores iguais a zero. Sendo assim:\n",
    "\n",
    "i) crie um objeto ```bool_zero``` que traga uma sequencia de booleanos do mesmo tamanho que o objeto poi, e que vale ```True``` quando o valor de ```poi``` é zero, e ```False``` caso contrário.\n",
    "\n",
    "ii) Conte quantos valores zero existem. Lembre-se de que no final das contas, ```True``` vale 1 para o Python, e ```False``` vale zero, então uma boa dica seria usar a função ```sum()```.\n",
    "\n",
    "iii) Utilize a indexação booleana que você aprendeu para criar uma variável ```poi_nao_zero``` que aponta para os elementos de ```poi``` diferentes de zero. Dica: você vai pode inverter os elementos do objeto que criou em *ii)* ou escrever a comparação adequada."
   ]
  },
  {
   "cell_type": "code",
   "execution_count": 13,
   "id": "d5a2ffb0",
   "metadata": {
    "execution": {
     "iopub.execute_input": "2024-04-30T15:05:25.607677Z",
     "iopub.status.busy": "2024-04-30T15:05:25.607227Z",
     "iopub.status.idle": "2024-04-30T15:05:25.617283Z",
     "shell.execute_reply": "2024-04-30T15:05:25.615585Z"
    },
    "id": "Y6JUhNiT695t",
    "outputId": "06ceb3b7-5eb0-45d0-f3b3-ea6ff6f0df2a",
    "papermill": {
     "duration": 0.021438,
     "end_time": "2024-04-30T15:05:25.620305",
     "exception": false,
     "start_time": "2024-04-30T15:05:25.598867",
     "status": "completed"
    },
    "tags": []
   },
   "outputs": [
    {
     "data": {
      "text/plain": [
       "array([3, 3, 6, 2, 4, 5, 4, 4, 2, 0, 3, 3, 2, 8, 2, 3, 3, 3, 0, 4, 4, 2,\n",
       "       6, 6, 0, 3, 4, 3, 5, 2, 1, 3, 2, 2, 3, 2, 4, 4, 5, 7, 3, 5, 3, 3,\n",
       "       2, 2, 3, 6, 2, 2, 4, 3, 5, 2, 5, 3, 0, 2, 1, 1, 4, 4, 4, 6, 2, 4,\n",
       "       1, 2, 5, 5, 3, 4, 1, 4, 1, 1, 7, 1, 2, 1, 3, 7, 0, 4, 4, 0, 6, 1,\n",
       "       3, 4, 2, 5, 4, 5, 5, 3, 4, 6, 8, 2])"
      ]
     },
     "execution_count": 13,
     "metadata": {},
     "output_type": "execute_result"
    }
   ],
   "source": [
    "# objeto poi - obs: o comando np.random.seed(1234) garante que o mesmo resultado será gerado sempre\n",
    "np.random.seed(1234)\n",
    "poi = np.random.poisson(3, 100)\n",
    "poi"
   ]
  },
  {
   "cell_type": "code",
   "execution_count": 14,
   "id": "15eca161",
   "metadata": {
    "execution": {
     "iopub.execute_input": "2024-04-30T15:05:25.637186Z",
     "iopub.status.busy": "2024-04-30T15:05:25.636754Z",
     "iopub.status.idle": "2024-04-30T15:05:25.644635Z",
     "shell.execute_reply": "2024-04-30T15:05:25.643224Z"
    },
    "id": "dWElD2MJ695u",
    "papermill": {
     "duration": 0.019281,
     "end_time": "2024-04-30T15:05:25.647359",
     "exception": false,
     "start_time": "2024-04-30T15:05:25.628078",
     "status": "completed"
    },
    "tags": []
   },
   "outputs": [
    {
     "data": {
      "text/plain": [
       "array([False, False, False, False, False, False, False, False, False,\n",
       "        True, False, False, False, False, False, False, False, False,\n",
       "        True, False, False, False, False, False,  True, False, False,\n",
       "       False, False, False, False, False, False, False, False, False,\n",
       "       False, False, False, False, False, False, False, False, False,\n",
       "       False, False, False, False, False, False, False, False, False,\n",
       "       False, False,  True, False, False, False, False, False, False,\n",
       "       False, False, False, False, False, False, False, False, False,\n",
       "       False, False, False, False, False, False, False, False, False,\n",
       "       False,  True, False, False,  True, False, False, False, False,\n",
       "       False, False, False, False, False, False, False, False, False,\n",
       "       False])"
      ]
     },
     "execution_count": 14,
     "metadata": {},
     "output_type": "execute_result"
    }
   ],
   "source": [
    "# i) crie o objeto bool_zero através do operador ==\n",
    "bool_zero = (poi == 0)\n",
    "bool_zero"
   ]
  },
  {
   "cell_type": "code",
   "execution_count": 15,
   "id": "c34908f3",
   "metadata": {
    "execution": {
     "iopub.execute_input": "2024-04-30T15:05:25.664121Z",
     "iopub.status.busy": "2024-04-30T15:05:25.663698Z",
     "iopub.status.idle": "2024-04-30T15:05:25.669527Z",
     "shell.execute_reply": "2024-04-30T15:05:25.668594Z"
    },
    "id": "hr-knXzs695u",
    "papermill": {
     "duration": 0.017944,
     "end_time": "2024-04-30T15:05:25.672539",
     "exception": false,
     "start_time": "2024-04-30T15:05:25.654595",
     "status": "completed"
    },
    "tags": []
   },
   "outputs": [
    {
     "name": "stdout",
     "output_type": "stream",
     "text": [
      "Existem 6 zeros dentro do objeto poi\n"
     ]
    }
   ],
   "source": [
    "# ii) Conte a quantidade de zeros (ou some os elementos de bool_zero)\n",
    "qtd_zeros = poi[bool_zero]\n",
    "print('Existem',len(qtd_zeros),'zeros dentro do objeto poi')\n"
   ]
  },
  {
   "cell_type": "code",
   "execution_count": 16,
   "id": "fce299a4",
   "metadata": {
    "execution": {
     "iopub.execute_input": "2024-04-30T15:05:25.689409Z",
     "iopub.status.busy": "2024-04-30T15:05:25.688950Z",
     "iopub.status.idle": "2024-04-30T15:05:25.696377Z",
     "shell.execute_reply": "2024-04-30T15:05:25.695407Z"
    },
    "id": "5s3DqCup695u",
    "papermill": {
     "duration": 0.018718,
     "end_time": "2024-04-30T15:05:25.698834",
     "exception": false,
     "start_time": "2024-04-30T15:05:25.680116",
     "status": "completed"
    },
    "tags": []
   },
   "outputs": [
    {
     "data": {
      "text/plain": [
       "array([ True,  True,  True,  True,  True,  True,  True,  True,  True,\n",
       "       False,  True,  True,  True,  True,  True,  True,  True,  True,\n",
       "       False,  True,  True,  True,  True,  True, False,  True,  True,\n",
       "        True,  True,  True,  True,  True,  True,  True,  True,  True,\n",
       "        True,  True,  True,  True,  True,  True,  True,  True,  True,\n",
       "        True,  True,  True,  True,  True,  True,  True,  True,  True,\n",
       "        True,  True, False,  True,  True,  True,  True,  True,  True,\n",
       "        True,  True,  True,  True,  True,  True,  True,  True,  True,\n",
       "        True,  True,  True,  True,  True,  True,  True,  True,  True,\n",
       "        True, False,  True,  True, False,  True,  True,  True,  True,\n",
       "        True,  True,  True,  True,  True,  True,  True,  True,  True,\n",
       "        True])"
      ]
     },
     "execution_count": 16,
     "metadata": {},
     "output_type": "execute_result"
    }
   ],
   "source": [
    "# iii) utilize a indexação booleana para criar uma seleção de não-zeros\n",
    "# dica: inverta o objeto bool_zero\n",
    "bool_zero = (poi != 0)\n",
    "bool_zero"
   ]
  }
 ],
 "metadata": {
  "colab": {
   "collapsed_sections": [],
   "provenance": []
  },
  "kaggle": {
   "accelerator": "none",
   "dataSources": [],
   "dockerImageVersionId": 30698,
   "isGpuEnabled": false,
   "isInternetEnabled": true,
   "language": "python",
   "sourceType": "notebook"
  },
  "kernelspec": {
   "display_name": "Python 3",
   "language": "python",
   "name": "python3"
  },
  "language_info": {
   "codemirror_mode": {
    "name": "ipython",
    "version": 3
   },
   "file_extension": ".py",
   "mimetype": "text/x-python",
   "name": "python",
   "nbconvert_exporter": "python",
   "pygments_lexer": "ipython3",
   "version": "3.10.13"
  },
  "papermill": {
   "default_parameters": {},
   "duration": 3.861386,
   "end_time": "2024-04-30T15:05:26.129064",
   "environment_variables": {},
   "exception": null,
   "input_path": "__notebook__.ipynb",
   "output_path": "__notebook__.ipynb",
   "parameters": {},
   "start_time": "2024-04-30T15:05:22.267678",
   "version": "2.5.0"
  }
 },
 "nbformat": 4,
 "nbformat_minor": 5
}
